{
 "cells": [
  {
   "cell_type": "code",
   "execution_count": 1,
   "metadata": {},
   "outputs": [],
   "source": [
    "import polars as pl\n",
    "from faker import Faker\n",
    "import random\n",
    "from datetime import datetime"
   ]
  },
  {
   "cell_type": "code",
   "execution_count": 2,
   "metadata": {},
   "outputs": [],
   "source": [
    "df = pl.read_csv(\"./data/healthcare_dataset.csv\")"
   ]
  },
  {
   "cell_type": "code",
   "execution_count": 3,
   "metadata": {},
   "outputs": [],
   "source": [
    "df.columns = [col.lower().replace(' ', '_') for col in df.columns]"
   ]
  },
  {
   "cell_type": "code",
   "execution_count": 4,
   "metadata": {},
   "outputs": [
    {
     "data": {
      "text/html": [
       "<div><style>\n",
       ".dataframe > thead > tr,\n",
       ".dataframe > tbody > tr {\n",
       "  text-align: right;\n",
       "  white-space: pre-wrap;\n",
       "}\n",
       "</style>\n",
       "<small>shape: (55_500, 15)</small><table border=\"1\" class=\"dataframe\"><thead><tr><th>name</th><th>age</th><th>gender</th><th>blood_type</th><th>medical_condition</th><th>date_of_admission</th><th>doctor</th><th>hospital</th><th>insurance_provider</th><th>billing_amount</th><th>room_number</th><th>admission_type</th><th>discharge_date</th><th>medication</th><th>test_results</th></tr><tr><td>str</td><td>i64</td><td>str</td><td>str</td><td>str</td><td>datetime[μs]</td><td>str</td><td>str</td><td>str</td><td>f64</td><td>i64</td><td>str</td><td>str</td><td>str</td><td>str</td></tr></thead><tbody><tr><td>&quot;Bobby JacksOn&quot;</td><td>30</td><td>&quot;Male&quot;</td><td>&quot;B-&quot;</td><td>&quot;Cancer&quot;</td><td>2024-01-31 00:00:00</td><td>&quot;Matthew Smith&quot;</td><td>&quot;Sons and Miller&quot;</td><td>&quot;Blue Cross&quot;</td><td>18856.281306</td><td>328</td><td>&quot;Urgent&quot;</td><td>&quot;2024-02-02&quot;</td><td>&quot;Paracetamol&quot;</td><td>&quot;Normal&quot;</td></tr><tr><td>&quot;LesLie TErRy&quot;</td><td>62</td><td>&quot;Male&quot;</td><td>&quot;A+&quot;</td><td>&quot;Obesity&quot;</td><td>2019-08-20 00:00:00</td><td>&quot;Samantha Davies&quot;</td><td>&quot;Kim Inc&quot;</td><td>&quot;Medicare&quot;</td><td>33643.327287</td><td>265</td><td>&quot;Emergency&quot;</td><td>&quot;2019-08-26&quot;</td><td>&quot;Ibuprofen&quot;</td><td>&quot;Inconclusive&quot;</td></tr><tr><td>&quot;DaNnY sMitH&quot;</td><td>76</td><td>&quot;Female&quot;</td><td>&quot;A-&quot;</td><td>&quot;Obesity&quot;</td><td>2022-09-22 00:00:00</td><td>&quot;Tiffany Mitchell&quot;</td><td>&quot;Cook PLC&quot;</td><td>&quot;Aetna&quot;</td><td>27955.096079</td><td>205</td><td>&quot;Emergency&quot;</td><td>&quot;2022-10-07&quot;</td><td>&quot;Aspirin&quot;</td><td>&quot;Normal&quot;</td></tr><tr><td>&quot;andrEw waTtS&quot;</td><td>28</td><td>&quot;Female&quot;</td><td>&quot;O+&quot;</td><td>&quot;Diabetes&quot;</td><td>2020-11-18 00:00:00</td><td>&quot;Kevin Wells&quot;</td><td>&quot;Hernandez Rogers and Vang,&quot;</td><td>&quot;Medicare&quot;</td><td>37909.78241</td><td>450</td><td>&quot;Elective&quot;</td><td>&quot;2020-12-18&quot;</td><td>&quot;Ibuprofen&quot;</td><td>&quot;Abnormal&quot;</td></tr><tr><td>&quot;adrIENNE bEll&quot;</td><td>43</td><td>&quot;Female&quot;</td><td>&quot;AB+&quot;</td><td>&quot;Cancer&quot;</td><td>2022-09-19 00:00:00</td><td>&quot;Kathleen Hanna&quot;</td><td>&quot;White-White&quot;</td><td>&quot;Aetna&quot;</td><td>14238.317814</td><td>458</td><td>&quot;Urgent&quot;</td><td>&quot;2022-10-09&quot;</td><td>&quot;Penicillin&quot;</td><td>&quot;Abnormal&quot;</td></tr><tr><td>&hellip;</td><td>&hellip;</td><td>&hellip;</td><td>&hellip;</td><td>&hellip;</td><td>&hellip;</td><td>&hellip;</td><td>&hellip;</td><td>&hellip;</td><td>&hellip;</td><td>&hellip;</td><td>&hellip;</td><td>&hellip;</td><td>&hellip;</td><td>&hellip;</td></tr><tr><td>&quot;eLIZABeTH jaCkSOn&quot;</td><td>42</td><td>&quot;Female&quot;</td><td>&quot;O+&quot;</td><td>&quot;Asthma&quot;</td><td>2020-08-16 00:00:00</td><td>&quot;Joshua Jarvis&quot;</td><td>&quot;Jones-Thompson&quot;</td><td>&quot;Blue Cross&quot;</td><td>2650.714952</td><td>417</td><td>&quot;Elective&quot;</td><td>&quot;2020-09-15&quot;</td><td>&quot;Penicillin&quot;</td><td>&quot;Abnormal&quot;</td></tr><tr><td>&quot;KYle pEREz&quot;</td><td>61</td><td>&quot;Female&quot;</td><td>&quot;AB-&quot;</td><td>&quot;Obesity&quot;</td><td>2020-01-23 00:00:00</td><td>&quot;Taylor Sullivan&quot;</td><td>&quot;Tucker-Moyer&quot;</td><td>&quot;Cigna&quot;</td><td>31457.797307</td><td>316</td><td>&quot;Elective&quot;</td><td>&quot;2020-02-01&quot;</td><td>&quot;Aspirin&quot;</td><td>&quot;Normal&quot;</td></tr><tr><td>&quot;HEATher WaNG&quot;</td><td>38</td><td>&quot;Female&quot;</td><td>&quot;B+&quot;</td><td>&quot;Hypertension&quot;</td><td>2020-07-13 00:00:00</td><td>&quot;Joe Jacobs DVM&quot;</td><td>&quot;and Mahoney Johnson Vasquez,&quot;</td><td>&quot;UnitedHealthcare&quot;</td><td>27620.764717</td><td>347</td><td>&quot;Urgent&quot;</td><td>&quot;2020-08-10&quot;</td><td>&quot;Ibuprofen&quot;</td><td>&quot;Abnormal&quot;</td></tr><tr><td>&quot;JENniFER JOneS&quot;</td><td>43</td><td>&quot;Male&quot;</td><td>&quot;O-&quot;</td><td>&quot;Arthritis&quot;</td><td>2019-05-25 00:00:00</td><td>&quot;Kimberly Curry&quot;</td><td>&quot;Jackson Todd and Castro,&quot;</td><td>&quot;Medicare&quot;</td><td>32451.092358</td><td>321</td><td>&quot;Elective&quot;</td><td>&quot;2019-05-31&quot;</td><td>&quot;Ibuprofen&quot;</td><td>&quot;Abnormal&quot;</td></tr><tr><td>&quot;jAMES GARCiA&quot;</td><td>53</td><td>&quot;Female&quot;</td><td>&quot;O+&quot;</td><td>&quot;Arthritis&quot;</td><td>2024-04-02 00:00:00</td><td>&quot;Dennis Warren&quot;</td><td>&quot;Henry Sons and&quot;</td><td>&quot;Aetna&quot;</td><td>4010.134172</td><td>448</td><td>&quot;Urgent&quot;</td><td>&quot;2024-04-29&quot;</td><td>&quot;Ibuprofen&quot;</td><td>&quot;Abnormal&quot;</td></tr></tbody></table></div>"
      ],
      "text/plain": [
       "shape: (55_500, 15)\n",
       "┌─────────────┬─────┬────────┬────────────┬───┬─────────────┬────────────┬────────────┬────────────┐\n",
       "│ name        ┆ age ┆ gender ┆ blood_type ┆ … ┆ admission_t ┆ discharge_ ┆ medication ┆ test_resul │\n",
       "│ ---         ┆ --- ┆ ---    ┆ ---        ┆   ┆ ype         ┆ date       ┆ ---        ┆ ts         │\n",
       "│ str         ┆ i64 ┆ str    ┆ str        ┆   ┆ ---         ┆ ---        ┆ str        ┆ ---        │\n",
       "│             ┆     ┆        ┆            ┆   ┆ str         ┆ str        ┆            ┆ str        │\n",
       "╞═════════════╪═════╪════════╪════════════╪═══╪═════════════╪════════════╪════════════╪════════════╡\n",
       "│ Bobby       ┆ 30  ┆ Male   ┆ B-         ┆ … ┆ Urgent      ┆ 2024-02-02 ┆ Paracetamo ┆ Normal     │\n",
       "│ JacksOn     ┆     ┆        ┆            ┆   ┆             ┆            ┆ l          ┆            │\n",
       "│ LesLie      ┆ 62  ┆ Male   ┆ A+         ┆ … ┆ Emergency   ┆ 2019-08-26 ┆ Ibuprofen  ┆ Inconclusi │\n",
       "│ TErRy       ┆     ┆        ┆            ┆   ┆             ┆            ┆            ┆ ve         │\n",
       "│ DaNnY sMitH ┆ 76  ┆ Female ┆ A-         ┆ … ┆ Emergency   ┆ 2022-10-07 ┆ Aspirin    ┆ Normal     │\n",
       "│ andrEw      ┆ 28  ┆ Female ┆ O+         ┆ … ┆ Elective    ┆ 2020-12-18 ┆ Ibuprofen  ┆ Abnormal   │\n",
       "│ waTtS       ┆     ┆        ┆            ┆   ┆             ┆            ┆            ┆            │\n",
       "│ adrIENNE    ┆ 43  ┆ Female ┆ AB+        ┆ … ┆ Urgent      ┆ 2022-10-09 ┆ Penicillin ┆ Abnormal   │\n",
       "│ bEll        ┆     ┆        ┆            ┆   ┆             ┆            ┆            ┆            │\n",
       "│ …           ┆ …   ┆ …      ┆ …          ┆ … ┆ …           ┆ …          ┆ …          ┆ …          │\n",
       "│ eLIZABeTH   ┆ 42  ┆ Female ┆ O+         ┆ … ┆ Elective    ┆ 2020-09-15 ┆ Penicillin ┆ Abnormal   │\n",
       "│ jaCkSOn     ┆     ┆        ┆            ┆   ┆             ┆            ┆            ┆            │\n",
       "│ KYle pEREz  ┆ 61  ┆ Female ┆ AB-        ┆ … ┆ Elective    ┆ 2020-02-01 ┆ Aspirin    ┆ Normal     │\n",
       "│ HEATher     ┆ 38  ┆ Female ┆ B+         ┆ … ┆ Urgent      ┆ 2020-08-10 ┆ Ibuprofen  ┆ Abnormal   │\n",
       "│ WaNG        ┆     ┆        ┆            ┆   ┆             ┆            ┆            ┆            │\n",
       "│ JENniFER    ┆ 43  ┆ Male   ┆ O-         ┆ … ┆ Elective    ┆ 2019-05-31 ┆ Ibuprofen  ┆ Abnormal   │\n",
       "│ JOneS       ┆     ┆        ┆            ┆   ┆             ┆            ┆            ┆            │\n",
       "│ jAMES       ┆ 53  ┆ Female ┆ O+         ┆ … ┆ Urgent      ┆ 2024-04-29 ┆ Ibuprofen  ┆ Abnormal   │\n",
       "│ GARCiA      ┆     ┆        ┆            ┆   ┆             ┆            ┆            ┆            │\n",
       "└─────────────┴─────┴────────┴────────────┴───┴─────────────┴────────────┴────────────┴────────────┘"
      ]
     },
     "execution_count": 4,
     "metadata": {},
     "output_type": "execute_result"
    }
   ],
   "source": [
    "df.with_columns(pl.col('date_of_admission').str.to_datetime().alias('date_of_admission'))"
   ]
  },
  {
   "cell_type": "code",
   "execution_count": 7,
   "metadata": {},
   "outputs": [
    {
     "data": {
      "text/html": [
       "<div><style>\n",
       ".dataframe > thead > tr,\n",
       ".dataframe > tbody > tr {\n",
       "  text-align: right;\n",
       "  white-space: pre-wrap;\n",
       "}\n",
       "</style>\n",
       "<small>shape: (2, 15)</small><table border=\"1\" class=\"dataframe\"><thead><tr><th>name</th><th>age</th><th>gender</th><th>blood_type</th><th>medical_condition</th><th>date_of_admission</th><th>doctor</th><th>hospital</th><th>insurance_provider</th><th>billing_amount</th><th>room_number</th><th>admission_type</th><th>discharge_date</th><th>medication</th><th>test_results</th></tr><tr><td>str</td><td>i64</td><td>str</td><td>str</td><td>str</td><td>str</td><td>str</td><td>str</td><td>str</td><td>f64</td><td>i64</td><td>str</td><td>str</td><td>str</td><td>str</td></tr></thead><tbody><tr><td>&quot;EliZABeTH alleN&quot;</td><td>25</td><td>&quot;Female&quot;</td><td>&quot;O-&quot;</td><td>&quot;Obesity&quot;</td><td>&quot;2023-09-25&quot;</td><td>&quot;Jennifer Stevens&quot;</td><td>&quot;Watson Group&quot;</td><td>&quot;Aetna&quot;</td><td>11819.300669</td><td>255</td><td>&quot;Urgent&quot;</td><td>&quot;2023-10-04&quot;</td><td>&quot;Ibuprofen&quot;</td><td>&quot;Normal&quot;</td></tr><tr><td>&quot;eLiZAbEtH AllEN&quot;</td><td>22</td><td>&quot;Male&quot;</td><td>&quot;AB+&quot;</td><td>&quot;Obesity&quot;</td><td>&quot;2020-03-22&quot;</td><td>&quot;Alexander Robinson&quot;</td><td>&quot;Edwards Le Taylor, and&quot;</td><td>&quot;Blue Cross&quot;</td><td>2454.63933</td><td>498</td><td>&quot;Emergency&quot;</td><td>&quot;2020-04-13&quot;</td><td>&quot;Penicillin&quot;</td><td>&quot;Abnormal&quot;</td></tr></tbody></table></div>"
      ],
      "text/plain": [
       "shape: (2, 15)\n",
       "┌─────────────┬─────┬────────┬────────────┬───┬─────────────┬────────────┬────────────┬────────────┐\n",
       "│ name        ┆ age ┆ gender ┆ blood_type ┆ … ┆ admission_t ┆ discharge_ ┆ medication ┆ test_resul │\n",
       "│ ---         ┆ --- ┆ ---    ┆ ---        ┆   ┆ ype         ┆ date       ┆ ---        ┆ ts         │\n",
       "│ str         ┆ i64 ┆ str    ┆ str        ┆   ┆ ---         ┆ ---        ┆ str        ┆ ---        │\n",
       "│             ┆     ┆        ┆            ┆   ┆ str         ┆ str        ┆            ┆ str        │\n",
       "╞═════════════╪═════╪════════╪════════════╪═══╪═════════════╪════════════╪════════════╪════════════╡\n",
       "│ EliZABeTH   ┆ 25  ┆ Female ┆ O-         ┆ … ┆ Urgent      ┆ 2023-10-04 ┆ Ibuprofen  ┆ Normal     │\n",
       "│ alleN       ┆     ┆        ┆            ┆   ┆             ┆            ┆            ┆            │\n",
       "│ eLiZAbEtH   ┆ 22  ┆ Male   ┆ AB+        ┆ … ┆ Emergency   ┆ 2020-04-13 ┆ Penicillin ┆ Abnormal   │\n",
       "│ AllEN       ┆     ┆        ┆            ┆   ┆             ┆            ┆            ┆            │\n",
       "└─────────────┴─────┴────────┴────────────┴───┴─────────────┴────────────┴────────────┴────────────┘"
      ]
     },
     "execution_count": 7,
     "metadata": {},
     "output_type": "execute_result"
    }
   ],
   "source": [
    "df.filter(pl.col('name').str.to_lowercase() == 'elizabeth allen')"
   ]
  },
  {
   "cell_type": "code",
   "execution_count": 23,
   "metadata": {},
   "outputs": [],
   "source": [
    "hospital_list = df.get_column('hospital').unique().to_list()"
   ]
  },
  {
   "cell_type": "code",
   "execution_count": 36,
   "metadata": {},
   "outputs": [
    {
     "data": {
      "text/plain": [
       "['Penicillin', 'Lipitor', 'Aspirin', 'Paracetamol', 'Ibuprofen']"
      ]
     },
     "execution_count": 36,
     "metadata": {},
     "output_type": "execute_result"
    }
   ],
   "source": [
    "df.get_column('medication').unique().to_list()"
   ]
  },
  {
   "cell_type": "code",
   "execution_count": 43,
   "metadata": {},
   "outputs": [],
   "source": [
    "df = df.with_columns(\n",
    "    pl.col('date_of_admission').str.to_date(\"%Y-%m-%d\").alias('date_of_admission'),\n",
    "    pl.col('discharge_date').str.to_date(\"%Y-%m-%d\").alias('discharge_date')\n",
    ")"
   ]
  },
  {
   "cell_type": "code",
   "execution_count": 47,
   "metadata": {},
   "outputs": [
    {
     "data": {
      "text/plain": [
       "Schema([('name', String),\n",
       "        ('age', Int64),\n",
       "        ('gender', String),\n",
       "        ('blood_type', String),\n",
       "        ('medical_condition', String),\n",
       "        ('date_of_admission', Date),\n",
       "        ('doctor', String),\n",
       "        ('hospital', String),\n",
       "        ('insurance_provider', String),\n",
       "        ('billing_amount', Float64),\n",
       "        ('room_number', Int64),\n",
       "        ('admission_type', String),\n",
       "        ('discharge_date', Date),\n",
       "        ('medication', String),\n",
       "        ('test_results', String)])"
      ]
     },
     "execution_count": 47,
     "metadata": {},
     "output_type": "execute_result"
    }
   ],
   "source": [
    "df.schema"
   ]
  },
  {
   "cell_type": "code",
   "execution_count": 52,
   "metadata": {},
   "outputs": [
    {
     "data": {
      "text/plain": [
       "['Abnormal', 'Normal', 'Inconclusive']"
      ]
     },
     "execution_count": 52,
     "metadata": {},
     "output_type": "execute_result"
    }
   ],
   "source": [
    "df.get_column('test_results').unique().to_list()"
   ]
  },
  {
   "cell_type": "code",
   "execution_count": 28,
   "metadata": {},
   "outputs": [
    {
     "data": {
      "text/html": [
       "<div><style>\n",
       ".dataframe > thead > tr,\n",
       ".dataframe > tbody > tr {\n",
       "  text-align: right;\n",
       "  white-space: pre-wrap;\n",
       "}\n",
       "</style>\n",
       "<small>shape: (0, 15)</small><table border=\"1\" class=\"dataframe\"><thead><tr><th>name</th><th>age</th><th>gender</th><th>blood_type</th><th>medical_condition</th><th>date_of_admission</th><th>doctor</th><th>hospital</th><th>insurance_provider</th><th>billing_amount</th><th>room_number</th><th>admission_type</th><th>discharge_date</th><th>medication</th><th>test_results</th></tr><tr><td>str</td><td>i64</td><td>str</td><td>str</td><td>str</td><td>str</td><td>str</td><td>str</td><td>str</td><td>f64</td><td>i64</td><td>str</td><td>str</td><td>str</td><td>str</td></tr></thead><tbody></tbody></table></div>"
      ],
      "text/plain": [
       "shape: (0, 15)\n",
       "┌──────┬─────┬────────┬────────────┬───┬───────────────┬───────────────┬────────────┬──────────────┐\n",
       "│ name ┆ age ┆ gender ┆ blood_type ┆ … ┆ admission_typ ┆ discharge_dat ┆ medication ┆ test_results │\n",
       "│ ---  ┆ --- ┆ ---    ┆ ---        ┆   ┆ e             ┆ e             ┆ ---        ┆ ---          │\n",
       "│ str  ┆ i64 ┆ str    ┆ str        ┆   ┆ ---           ┆ ---           ┆ str        ┆ str          │\n",
       "│      ┆     ┆        ┆            ┆   ┆ str           ┆ str           ┆            ┆              │\n",
       "╞══════╪═════╪════════╪════════════╪═══╪═══════════════╪═══════════════╪════════════╪══════════════╡\n",
       "└──────┴─────┴────────┴────────────┴───┴───────────────┴───────────────┴────────────┴──────────────┘"
      ]
     },
     "execution_count": 28,
     "metadata": {},
     "output_type": "execute_result"
    }
   ],
   "source": [
    "df.filter(\n",
    "    pl.col('age') <= 0\n",
    ")"
   ]
  },
  {
   "cell_type": "code",
   "execution_count": 53,
   "metadata": {},
   "outputs": [],
   "source": [
    "# Initialize Faker for generating realistic synthetic data\n",
    "fake = Faker()\n",
    "\n",
    "# Function to generate new synthetic rows\n",
    "def generate_synthetic_data(df, n_rows=100):\n",
    "    new_data = []\n",
    "    for _ in range(n_rows):\n",
    "        # Create a synthetic row with similar structure\n",
    "        new_row = {\n",
    "            \"name\": fake.name(),\n",
    "            \"age\": random.randint(20, 90),\n",
    "            \"gender\": random.choice([\"Male\", \"Female\"]),\n",
    "            \"blood_type\": random.choice([\"A+\", \"A-\", \"B+\", \"B-\", \"AB+\", \"AB-\", \"O+\", \"O-\"]),\n",
    "            \"medical_condition\": random.choice(['Asthma', 'Hypertension', 'Diabetes', 'Obesity', 'Cancer', 'Arthritis']),\n",
    "            'date_of_admission': fake.date_between_dates(datetime(2019, 5, 8), datetime(2024, 5, 7)),\n",
    "            'doctor': fake.name(),\n",
    "            'hospital': random.choice(hospital_list),\n",
    "            'insurance_provider': random.choice(['Medicare', 'Blue Cross', 'Cigna', 'Aetna', 'UnitedHealthcare']),\n",
    "            'billing_amount': round(random.uniform(10, 100000),5),\n",
    "            'room_number': random.randint(1,500),\n",
    "            'admission_type': random.choice(['Elective', 'Urgent', 'Emergency']),\n",
    "            'medication': random.choice(['Elective', 'Urgent', 'Emergency']),\n",
    "            'test_results': random.choice(['Abnormal', 'Normal', 'Inconclusive']),\n",
    "        }\n",
    "        new_data.append(new_row)\n",
    "    \n",
    "    # Convert to DataFrame\n",
    "    synthetic_df = pl.DataFrame(new_data)\n",
    "    return pl.concat([df, synthetic_df])"
   ]
  },
  {
   "cell_type": "code",
   "execution_count": 54,
   "metadata": {},
   "outputs": [],
   "source": [
    "df = pl.DataFrame()"
   ]
  },
  {
   "cell_type": "code",
   "execution_count": 59,
   "metadata": {},
   "outputs": [],
   "source": [
    "df = generate_synthetic_data(df, 50000)"
   ]
  },
  {
   "cell_type": "code",
   "execution_count": 60,
   "metadata": {},
   "outputs": [
    {
     "data": {
      "text/html": [
       "<div><style>\n",
       ".dataframe > thead > tr,\n",
       ".dataframe > tbody > tr {\n",
       "  text-align: right;\n",
       "  white-space: pre-wrap;\n",
       "}\n",
       "</style>\n",
       "<small>shape: (50_100, 14)</small><table border=\"1\" class=\"dataframe\"><thead><tr><th>name</th><th>age</th><th>gender</th><th>blood_type</th><th>medical_condition</th><th>date_of_admission</th><th>doctor</th><th>hospital</th><th>insurance_provider</th><th>billing_amount</th><th>room_number</th><th>admission_type</th><th>medication</th><th>test_results</th></tr><tr><td>str</td><td>i64</td><td>str</td><td>str</td><td>str</td><td>date</td><td>str</td><td>str</td><td>str</td><td>f64</td><td>i64</td><td>str</td><td>str</td><td>str</td></tr></thead><tbody><tr><td>&quot;Jordan Garcia&quot;</td><td>22</td><td>&quot;Female&quot;</td><td>&quot;AB-&quot;</td><td>&quot;Diabetes&quot;</td><td>2020-12-26</td><td>&quot;Anthony Buck&quot;</td><td>&quot;Russell-Sutton&quot;</td><td>&quot;Aetna&quot;</td><td>58814.30695</td><td>35</td><td>&quot;Urgent&quot;</td><td>&quot;Urgent&quot;</td><td>&quot;Normal&quot;</td></tr><tr><td>&quot;Mr. Justin Alvarado&quot;</td><td>43</td><td>&quot;Male&quot;</td><td>&quot;A+&quot;</td><td>&quot;Diabetes&quot;</td><td>2022-07-01</td><td>&quot;Linda Palmer&quot;</td><td>&quot;Washington-Thomas&quot;</td><td>&quot;Aetna&quot;</td><td>68669.14417</td><td>268</td><td>&quot;Elective&quot;</td><td>&quot;Urgent&quot;</td><td>&quot;Abnormal&quot;</td></tr><tr><td>&quot;Jonathon Garza&quot;</td><td>25</td><td>&quot;Female&quot;</td><td>&quot;O-&quot;</td><td>&quot;Cancer&quot;</td><td>2019-09-17</td><td>&quot;April Clements&quot;</td><td>&quot;Roy-Taylor&quot;</td><td>&quot;Medicare&quot;</td><td>15027.67091</td><td>55</td><td>&quot;Urgent&quot;</td><td>&quot;Elective&quot;</td><td>&quot;Inconclusive&quot;</td></tr><tr><td>&quot;Steve Williams&quot;</td><td>87</td><td>&quot;Female&quot;</td><td>&quot;B-&quot;</td><td>&quot;Cancer&quot;</td><td>2023-11-24</td><td>&quot;Madison Taylor&quot;</td><td>&quot;Randolph-Davis&quot;</td><td>&quot;Aetna&quot;</td><td>36580.88688</td><td>15</td><td>&quot;Elective&quot;</td><td>&quot;Emergency&quot;</td><td>&quot;Abnormal&quot;</td></tr><tr><td>&quot;Veronica Smith&quot;</td><td>27</td><td>&quot;Female&quot;</td><td>&quot;AB-&quot;</td><td>&quot;Hypertension&quot;</td><td>2020-01-11</td><td>&quot;Johnathan Gentry&quot;</td><td>&quot;Davis-Rivas&quot;</td><td>&quot;UnitedHealthcare&quot;</td><td>81814.81179</td><td>448</td><td>&quot;Emergency&quot;</td><td>&quot;Emergency&quot;</td><td>&quot;Inconclusive&quot;</td></tr><tr><td>&hellip;</td><td>&hellip;</td><td>&hellip;</td><td>&hellip;</td><td>&hellip;</td><td>&hellip;</td><td>&hellip;</td><td>&hellip;</td><td>&hellip;</td><td>&hellip;</td><td>&hellip;</td><td>&hellip;</td><td>&hellip;</td><td>&hellip;</td></tr><tr><td>&quot;Beverly Russo&quot;</td><td>32</td><td>&quot;Male&quot;</td><td>&quot;B-&quot;</td><td>&quot;Diabetes&quot;</td><td>2022-10-19</td><td>&quot;Joyce Fitzgerald&quot;</td><td>&quot;Sons Moon and&quot;</td><td>&quot;Cigna&quot;</td><td>89017.45327</td><td>1</td><td>&quot;Emergency&quot;</td><td>&quot;Emergency&quot;</td><td>&quot;Abnormal&quot;</td></tr><tr><td>&quot;Natalie Marshall&quot;</td><td>71</td><td>&quot;Female&quot;</td><td>&quot;O+&quot;</td><td>&quot;Obesity&quot;</td><td>2023-09-11</td><td>&quot;Elizabeth Jones&quot;</td><td>&quot;Kaufman-Herman&quot;</td><td>&quot;Aetna&quot;</td><td>41453.59447</td><td>86</td><td>&quot;Elective&quot;</td><td>&quot;Elective&quot;</td><td>&quot;Normal&quot;</td></tr><tr><td>&quot;Michael Evans&quot;</td><td>42</td><td>&quot;Male&quot;</td><td>&quot;AB+&quot;</td><td>&quot;Diabetes&quot;</td><td>2021-09-17</td><td>&quot;Alexandra Castaneda&quot;</td><td>&quot;Walters-Buchanan&quot;</td><td>&quot;Cigna&quot;</td><td>10661.7411</td><td>327</td><td>&quot;Elective&quot;</td><td>&quot;Elective&quot;</td><td>&quot;Abnormal&quot;</td></tr><tr><td>&quot;Daisy Rose&quot;</td><td>65</td><td>&quot;Female&quot;</td><td>&quot;B+&quot;</td><td>&quot;Hypertension&quot;</td><td>2020-06-13</td><td>&quot;David Brown&quot;</td><td>&quot;Poole, Poole Mendoza and&quot;</td><td>&quot;UnitedHealthcare&quot;</td><td>93565.06718</td><td>324</td><td>&quot;Emergency&quot;</td><td>&quot;Urgent&quot;</td><td>&quot;Abnormal&quot;</td></tr><tr><td>&quot;Henry Garrett&quot;</td><td>53</td><td>&quot;Female&quot;</td><td>&quot;O-&quot;</td><td>&quot;Diabetes&quot;</td><td>2023-07-12</td><td>&quot;Austin Fletcher&quot;</td><td>&quot;and Thompson Phillips Morris,&quot;</td><td>&quot;Aetna&quot;</td><td>15039.62164</td><td>175</td><td>&quot;Urgent&quot;</td><td>&quot;Urgent&quot;</td><td>&quot;Normal&quot;</td></tr></tbody></table></div>"
      ],
      "text/plain": [
       "shape: (50_100, 14)\n",
       "┌─────────────┬─────┬────────┬────────────┬───┬─────────────┬────────────┬────────────┬────────────┐\n",
       "│ name        ┆ age ┆ gender ┆ blood_type ┆ … ┆ room_number ┆ admission_ ┆ medication ┆ test_resul │\n",
       "│ ---         ┆ --- ┆ ---    ┆ ---        ┆   ┆ ---         ┆ type       ┆ ---        ┆ ts         │\n",
       "│ str         ┆ i64 ┆ str    ┆ str        ┆   ┆ i64         ┆ ---        ┆ str        ┆ ---        │\n",
       "│             ┆     ┆        ┆            ┆   ┆             ┆ str        ┆            ┆ str        │\n",
       "╞═════════════╪═════╪════════╪════════════╪═══╪═════════════╪════════════╪════════════╪════════════╡\n",
       "│ Jordan      ┆ 22  ┆ Female ┆ AB-        ┆ … ┆ 35          ┆ Urgent     ┆ Urgent     ┆ Normal     │\n",
       "│ Garcia      ┆     ┆        ┆            ┆   ┆             ┆            ┆            ┆            │\n",
       "│ Mr. Justin  ┆ 43  ┆ Male   ┆ A+         ┆ … ┆ 268         ┆ Elective   ┆ Urgent     ┆ Abnormal   │\n",
       "│ Alvarado    ┆     ┆        ┆            ┆   ┆             ┆            ┆            ┆            │\n",
       "│ Jonathon    ┆ 25  ┆ Female ┆ O-         ┆ … ┆ 55          ┆ Urgent     ┆ Elective   ┆ Inconclusi │\n",
       "│ Garza       ┆     ┆        ┆            ┆   ┆             ┆            ┆            ┆ ve         │\n",
       "│ Steve       ┆ 87  ┆ Female ┆ B-         ┆ … ┆ 15          ┆ Elective   ┆ Emergency  ┆ Abnormal   │\n",
       "│ Williams    ┆     ┆        ┆            ┆   ┆             ┆            ┆            ┆            │\n",
       "│ Veronica    ┆ 27  ┆ Female ┆ AB-        ┆ … ┆ 448         ┆ Emergency  ┆ Emergency  ┆ Inconclusi │\n",
       "│ Smith       ┆     ┆        ┆            ┆   ┆             ┆            ┆            ┆ ve         │\n",
       "│ …           ┆ …   ┆ …      ┆ …          ┆ … ┆ …           ┆ …          ┆ …          ┆ …          │\n",
       "│ Beverly     ┆ 32  ┆ Male   ┆ B-         ┆ … ┆ 1           ┆ Emergency  ┆ Emergency  ┆ Abnormal   │\n",
       "│ Russo       ┆     ┆        ┆            ┆   ┆             ┆            ┆            ┆            │\n",
       "│ Natalie     ┆ 71  ┆ Female ┆ O+         ┆ … ┆ 86          ┆ Elective   ┆ Elective   ┆ Normal     │\n",
       "│ Marshall    ┆     ┆        ┆            ┆   ┆             ┆            ┆            ┆            │\n",
       "│ Michael     ┆ 42  ┆ Male   ┆ AB+        ┆ … ┆ 327         ┆ Elective   ┆ Elective   ┆ Abnormal   │\n",
       "│ Evans       ┆     ┆        ┆            ┆   ┆             ┆            ┆            ┆            │\n",
       "│ Daisy Rose  ┆ 65  ┆ Female ┆ B+         ┆ … ┆ 324         ┆ Emergency  ┆ Urgent     ┆ Abnormal   │\n",
       "│ Henry       ┆ 53  ┆ Female ┆ O-         ┆ … ┆ 175         ┆ Urgent     ┆ Urgent     ┆ Normal     │\n",
       "│ Garrett     ┆     ┆        ┆            ┆   ┆             ┆            ┆            ┆            │\n",
       "└─────────────┴─────┴────────┴────────────┴───┴─────────────┴────────────┴────────────┴────────────┘"
      ]
     },
     "execution_count": 60,
     "metadata": {},
     "output_type": "execute_result"
    }
   ],
   "source": [
    "df"
   ]
  }
 ],
 "metadata": {
  "kernelspec": {
   "display_name": ".venv",
   "language": "python",
   "name": "python3"
  },
  "language_info": {
   "codemirror_mode": {
    "name": "ipython",
    "version": 3
   },
   "file_extension": ".py",
   "mimetype": "text/x-python",
   "name": "python",
   "nbconvert_exporter": "python",
   "pygments_lexer": "ipython3",
   "version": "3.9.10"
  }
 },
 "nbformat": 4,
 "nbformat_minor": 2
}
