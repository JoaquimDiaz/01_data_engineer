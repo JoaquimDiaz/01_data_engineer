{
 "cells": [
  {
   "cell_type": "markdown",
   "metadata": {},
   "source": [
    "### Importation et variables"
   ]
  },
  {
   "cell_type": "code",
   "execution_count": 66,
   "metadata": {},
   "outputs": [],
   "source": [
    "import polars as pl\n",
    "from pymongo import MongoClient"
   ]
  },
  {
   "cell_type": "code",
   "execution_count": 51,
   "metadata": {},
   "outputs": [],
   "source": [
    "FILE_PATH = '.\\data\\healthcare_dataset.csv'"
   ]
  },
  {
   "cell_type": "code",
   "execution_count": 52,
   "metadata": {},
   "outputs": [],
   "source": [
    "df = pl.read_csv(FILE_PATH, infer_schema=False)"
   ]
  },
  {
   "cell_type": "markdown",
   "metadata": {},
   "source": [
    "### Nettoyage et exploration"
   ]
  },
  {
   "cell_type": "code",
   "execution_count": 54,
   "metadata": {},
   "outputs": [
    {
     "data": {
      "text/html": [
       "<div><style>\n",
       ".dataframe > thead > tr,\n",
       ".dataframe > tbody > tr {\n",
       "  text-align: right;\n",
       "  white-space: pre-wrap;\n",
       "}\n",
       "</style>\n",
       "<small>shape: (0, 15)</small><table border=\"1\" class=\"dataframe\"><thead><tr><th>Name</th><th>Age</th><th>Gender</th><th>Blood Type</th><th>Medical Condition</th><th>Date of Admission</th><th>Doctor</th><th>Hospital</th><th>Insurance Provider</th><th>Billing Amount</th><th>Room Number</th><th>Admission Type</th><th>Discharge Date</th><th>Medication</th><th>Test Results</th></tr><tr><td>str</td><td>str</td><td>str</td><td>str</td><td>str</td><td>str</td><td>str</td><td>str</td><td>str</td><td>str</td><td>str</td><td>str</td><td>str</td><td>str</td><td>str</td></tr></thead><tbody></tbody></table></div>"
      ],
      "text/plain": [
       "shape: (0, 15)\n",
       "┌──────┬─────┬────────┬────────────┬───┬───────────┬────────────────┬────────────┬──────────────┐\n",
       "│ Name ┆ Age ┆ Gender ┆ Blood Type ┆ … ┆ Admission ┆ Discharge Date ┆ Medication ┆ Test Results │\n",
       "│ ---  ┆ --- ┆ ---    ┆ ---        ┆   ┆ Type      ┆ ---            ┆ ---        ┆ ---          │\n",
       "│ str  ┆ str ┆ str    ┆ str        ┆   ┆ ---       ┆ str            ┆ str        ┆ str          │\n",
       "│      ┆     ┆        ┆            ┆   ┆ str       ┆                ┆            ┆              │\n",
       "╞══════╪═════╪════════╪════════════╪═══╪═══════════╪════════════════╪════════════╪══════════════╡\n",
       "└──────┴─────┴────────┴────────────┴───┴───────────┴────────────────┴────────────┴──────────────┘"
      ]
     },
     "execution_count": 54,
     "metadata": {},
     "output_type": "execute_result"
    }
   ],
   "source": [
    "# Verifie l'absence d'empty string\n",
    "df.filter(\n",
    "    pl.any_horizontal(pl.col(\"*\") == \"\")\n",
    ")"
   ]
  },
  {
   "cell_type": "code",
   "execution_count": 55,
   "metadata": {},
   "outputs": [],
   "source": [
    "# Standardisation du nom des colonnes\n",
    "df = df.rename({\n",
    "    col : col.lower().replace(' ','_') for col in df.columns\n",
    "})"
   ]
  },
  {
   "cell_type": "code",
   "execution_count": 56,
   "metadata": {},
   "outputs": [],
   "source": [
    "# Changement du case de la colonne name qui est chaotique\n",
    "df = (\n",
    "    df.with_columns(\n",
    "        pl.col('name')\n",
    "        .str.to_lowercase()\n",
    "        .str.to_titlecase()\n",
    "        .alias('name')\n",
    "    )\n",
    ")"
   ]
  },
  {
   "cell_type": "markdown",
   "metadata": {},
   "source": [
    "### MongoDB"
   ]
  },
  {
   "cell_type": "code",
   "execution_count": 69,
   "metadata": {},
   "outputs": [],
   "source": [
    "client = MongoClient(\"mongodb://localhost:27017/\")"
   ]
  },
  {
   "cell_type": "code",
   "execution_count": 78,
   "metadata": {},
   "outputs": [
    {
     "data": {
      "text/plain": [
       "['admin', 'config', 'local']"
      ]
     },
     "execution_count": 78,
     "metadata": {},
     "output_type": "execute_result"
    }
   ],
   "source": [
    "client.list_database_names()"
   ]
  },
  {
   "cell_type": "code",
   "execution_count": null,
   "metadata": {},
   "outputs": [],
   "source": [
    "client.get_database("
   ]
  },
  {
   "cell_type": "code",
   "execution_count": 77,
   "metadata": {},
   "outputs": [],
   "source": [
    "client.read_preference\n",
    "\n",
    "db1 = client.test\n"
   ]
  },
  {
   "cell_type": "code",
   "execution_count": 79,
   "metadata": {},
   "outputs": [
    {
     "data": {
      "text/plain": [
       "Database(MongoClient(host=['localhost:27017'], document_class=dict, tz_aware=False, connect=True), 'test')"
      ]
     },
     "execution_count": 79,
     "metadata": {},
     "output_type": "execute_result"
    }
   ],
   "source": [
    "db1"
   ]
  }
 ],
 "metadata": {
  "kernelspec": {
   "display_name": ".venv",
   "language": "python",
   "name": "python3"
  },
  "language_info": {
   "codemirror_mode": {
    "name": "ipython",
    "version": 3
   },
   "file_extension": ".py",
   "mimetype": "text/x-python",
   "name": "python",
   "nbconvert_exporter": "python",
   "pygments_lexer": "ipython3",
   "version": "3.9.10"
  }
 },
 "nbformat": 4,
 "nbformat_minor": 2
}
