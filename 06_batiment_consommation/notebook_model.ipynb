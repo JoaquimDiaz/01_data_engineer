{
 "cells": [
  {
   "cell_type": "code",
   "execution_count": 25,
   "metadata": {},
   "outputs": [],
   "source": [
    "import pandas as pd\n",
    "import numpy as np\n",
    "import torch\n",
    "import torch.nn as nn\n",
    "import torch.optim as optim"
   ]
  },
  {
   "cell_type": "code",
   "execution_count": 12,
   "metadata": {},
   "outputs": [],
   "source": [
    "data = pd.read_csv('data_clean.csv')\n",
    "\n",
    "y1 = pd.read_csv('y1_energie.csv')\n",
    "\n",
    "y2 = pd.read_csv('y2_co2.csv')"
   ]
  },
  {
   "cell_type": "code",
   "execution_count": 28,
   "metadata": {},
   "outputs": [
    {
     "name": "stdout",
     "output_type": "stream",
     "text": [
      "------------------------------\n",
      "Data array :\n",
      "------------------------------\n",
      "tensor([[0.2513, 0.0000, 0.0000,  ..., 0.0000, 0.0000, 0.0000],\n",
      "        [0.2374, 0.0917, 0.1127,  ..., 0.0000, 0.0000, 0.0000],\n",
      "        [0.1690, 0.0000, 0.0000,  ..., 0.0000, 0.0000, 0.0000],\n",
      "        ...,\n",
      "        [0.0058, 0.0339, 0.0000,  ..., 1.0000, 0.0000, 0.0000],\n",
      "        [0.0029, 0.0396, 0.0118,  ..., 0.0000, 0.0000, 0.0000],\n",
      "        [0.0079, 0.0487, 0.0270,  ..., 0.0000, 0.0000, 0.0000]])\n",
      "------------------------------\n",
      "SiteEnergyUse(kBtu) :\n",
      "------------------------------\n",
      "tensor([[7226362.5000],\n",
      "        [8387933.0000],\n",
      "        [6794584.0000],\n",
      "        ...,\n",
      "        [5765898.0000],\n",
      "        [ 719471.1875],\n",
      "        [1152896.2500]])\n",
      "------------------------------\n",
      "TotalGHGEmissions :\n",
      "------------------------------\n",
      "tensor([[249.9800],\n",
      "        [295.8600],\n",
      "        [286.4300],\n",
      "        ...,\n",
      "        [223.5400],\n",
      "        [ 22.1100],\n",
      "        [ 41.2700]])\n",
      "------------------------------\n",
      "Concat Tensor :\n",
      "------------------------------\n",
      "tensor([[7.2264e+06, 2.4998e+02],\n",
      "        [8.3879e+06, 2.9586e+02],\n",
      "        [6.7946e+06, 2.8643e+02],\n",
      "        ...,\n",
      "        [5.7659e+06, 2.2354e+02],\n",
      "        [7.1947e+05, 2.2110e+01],\n",
      "        [1.1529e+06, 4.1270e+01]])\n"
     ]
    }
   ],
   "source": [
    "X = data.values\n",
    "\n",
    "X_tensor = torch.tensor(X, dtype=torch.float)\n",
    "\n",
    "y1_tensor = torch.tensor(y1.values, dtype=torch.float)\n",
    "\n",
    "y2_tensor = torch.tensor(y2.values, dtype=torch.float)\n",
    "\n",
    "y_tensor = torch.cat([y1_tensor, y2_tensor], dim=1)\n",
    "\n",
    "print('-'*30, '\\nData array :\\n', '-'*30, sep='')\n",
    "print(X_tensor)\n",
    "print('-'*30, '\\nSiteEnergyUse(kBtu) :\\n', '-'*30, sep='')\n",
    "print(y1_tensor)\n",
    "print('-'*30, '\\nTotalGHGEmissions :\\n', '-'*30, sep='')\n",
    "print(y2_tensor)\n",
    "print('-'*30, '\\nConcat Tensor :\\n', '-'*30, sep='')\n",
    "print(y_tensor)\n"
   ]
  },
  {
   "cell_type": "code",
   "execution_count": 9,
   "metadata": {},
   "outputs": [],
   "source": [
    "input_size = X_tensor.shape[1]\n",
    "\n",
    "class BuildingEnergyModel(nn.Module):\n",
    "    def __init__(self, input_size, output_size=2):\n",
    "        super(BuildingEnergyModel, self).__init__()\n",
    "        self.fc1 = nn.Linear(input_size, 128)\n",
    "        self.fc2 = nn.Linear(128, 64)\n",
    "        self.fc3 = nn.Linear(64, output_size)\n",
    "        self.relu = nn.ReLU()\n",
    "        \n",
    "    def forward(self, x):\n",
    "        x = self.relu(self.fc1(x))\n",
    "        x = self.relu(self.fc2(x))\n",
    "        x = self.fc3(x)\n",
    "        return x\n",
    "    \n",
    "model = BuildingEnergyModel(input_size=input_size)"
   ]
  },
  {
   "cell_type": "code",
   "execution_count": 29,
   "metadata": {},
   "outputs": [
    {
     "name": "stdout",
     "output_type": "stream",
     "text": [
      "Epoch [10/100], Loss: 8443338948608.0000\n",
      "Epoch [20/100], Loss: 8443206828032.0000\n",
      "Epoch [30/100], Loss: 8443054784512.0000\n",
      "Epoch [40/100], Loss: 8442876526592.0000\n",
      "Epoch [50/100], Loss: 8442667859968.0000\n",
      "Epoch [60/100], Loss: 8442423541760.0000\n",
      "Epoch [70/100], Loss: 8442137280512.0000\n",
      "Epoch [80/100], Loss: 8441805930496.0000\n",
      "Epoch [90/100], Loss: 8441424248832.0000\n",
      "Epoch [100/100], Loss: 8440984371200.0000\n"
     ]
    }
   ],
   "source": [
    "# Define loss and optimizer\n",
    "criterion = nn.MSELoss()\n",
    "optimizer = optim.Adam(model.parameters(), lr=0.001)\n",
    "\n",
    "# Example training loop\n",
    "num_epochs = 100\n",
    "for epoch in range(num_epochs):\n",
    "    model.train()  # Set model to training mode\n",
    "    optimizer.zero_grad()  # Reset gradients\n",
    "    \n",
    "    # Forward pass: feed your input tensor through the model\n",
    "    outputs = model(X_tensor)\n",
    "    \n",
    "    # Calculate the loss between the model's predictions and the combined target tensor\n",
    "    loss = criterion(outputs, y_tensor)\n",
    "    \n",
    "    # Backward pass: compute gradients\n",
    "    loss.backward()\n",
    "    \n",
    "    # Update model parameters\n",
    "    optimizer.step()\n",
    "    \n",
    "    if (epoch + 1) % 10 == 0:\n",
    "        print(f\"Epoch [{epoch+1}/{num_epochs}], Loss: {loss.item():.4f}\")"
   ]
  }
 ],
 "metadata": {
  "kernelspec": {
   "display_name": ".venv",
   "language": "python",
   "name": "python3"
  },
  "language_info": {
   "codemirror_mode": {
    "name": "ipython",
    "version": 3
   },
   "file_extension": ".py",
   "mimetype": "text/x-python",
   "name": "python",
   "nbconvert_exporter": "python",
   "pygments_lexer": "ipython3",
   "version": "3.9.10"
  }
 },
 "nbformat": 4,
 "nbformat_minor": 2
}
