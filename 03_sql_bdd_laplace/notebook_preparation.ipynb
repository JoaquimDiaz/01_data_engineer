{
 "cells": [
  {
   "cell_type": "markdown",
   "metadata": {},
   "source": [
    "## P3 - Entraînez-vous avec SQL et créez votre BDD"
   ]
  },
  {
   "cell_type": "markdown",
   "metadata": {},
   "source": [
    "### Importation des librairies"
   ]
  },
  {
   "cell_type": "code",
   "execution_count": 1033,
   "metadata": {},
   "outputs": [],
   "source": [
    "import polars as pl\n",
    "import re\n",
    "from unidecode import unidecode"
   ]
  },
  {
   "cell_type": "markdown",
   "metadata": {},
   "source": [
    "### Fonctions"
   ]
  },
  {
   "cell_type": "code",
   "execution_count": 1034,
   "metadata": {},
   "outputs": [],
   "source": [
    "def clean_column_names(df: pl.DataFrame) -> pl.DataFrame:\n",
    "    '''\n",
    "    Define a function to apply regex and transformations on column names\n",
    "    '''\n",
    "    def clean_name(col: str) -> str:\n",
    "        # Replace spaces with underscores, manage uppercase transitions, and handle non-ASCII chars\n",
    "        col = re.sub(r'(?<!^)(?=[A-Z])|(?<=_)(?=[A-Z])| |-', lambda x: \"_\" if x.group(0) == \" \" else \"\", unidecode(col.lower()))\n",
    "        # Replace any double underscores created by prior replacements\n",
    "        col = col.replace(\"'\", \"_\").replace(\"__\", \"_\")\n",
    "        return col\n",
    "    \n",
    "    # Apply renaming to each column\n",
    "    return df.rename({col: clean_name(col) for col in df.columns})"
   ]
  },
  {
   "cell_type": "markdown",
   "metadata": {},
   "source": [
    "### Variables"
   ]
  },
  {
   "cell_type": "code",
   "execution_count": 1035,
   "metadata": {},
   "outputs": [],
   "source": [
    "FICHIER_COMMUNE = './data/donnees_communes.xlsx'\n",
    "\n",
    "FICHIER_GEO = './data/fr-esr-referentiel-geographique.xlsx'\n",
    "\n",
    "FICHIER_IMMO = './data/Valeurs-foncières.xlsx'"
   ]
  },
  {
   "cell_type": "markdown",
   "metadata": {},
   "source": [
    "### Importations des fichiers"
   ]
  },
  {
   "cell_type": "code",
   "execution_count": 1036,
   "metadata": {},
   "outputs": [],
   "source": [
    "df_com = pl.read_excel(FICHIER_COMMUNE)\n",
    "\n",
    "df_geo = pl.read_excel(FICHIER_GEO)\n",
    "\n",
    "df_immo = pl.read_excel(FICHIER_IMMO)"
   ]
  },
  {
   "cell_type": "markdown",
   "metadata": {},
   "source": [
    "## Preparation des fichiers csv"
   ]
  },
  {
   "cell_type": "code",
   "execution_count": 1037,
   "metadata": {},
   "outputs": [],
   "source": [
    "# Standardisation du nom des colonnes:\n",
    "df_com = clean_column_names(df_com)\n",
    "\n",
    "df_geo = clean_column_names(df_geo)\n",
    "\n",
    "df_immo = clean_column_names(df_immo)"
   ]
  },
  {
   "cell_type": "code",
   "execution_count": 1038,
   "metadata": {},
   "outputs": [
    {
     "data": {
      "text/plain": [
       "<bound method DataFrame.head of shape: (34_991, 9)\n",
       "┌────────┬────────┬────────┬────────┬───┬─────────────────────────┬───────┬──────┬───────┐\n",
       "│ codreg ┆ coddep ┆ codarr ┆ codcan ┆ … ┆ com                     ┆ pmun  ┆ pcap ┆ ptot  │\n",
       "│ ---    ┆ ---    ┆ ---    ┆ ---    ┆   ┆ ---                     ┆ ---   ┆ ---  ┆ ---   │\n",
       "│ i64    ┆ str    ┆ str    ┆ str    ┆   ┆ str                     ┆ i64   ┆ i64  ┆ i64   │\n",
       "╞════════╪════════╪════════╪════════╪═══╪═════════════════════════╪═══════╪══════╪═══════╡\n",
       "│ 84     ┆ 01     ┆ 02     ┆ 08     ┆ … ┆ L'Abergement-Clémenciat ┆ 779   ┆ 19   ┆ 798   │\n",
       "│ 84     ┆ 01     ┆ 01     ┆ 01     ┆ … ┆ L'Abergement-de-Varey   ┆ 256   ┆ 1    ┆ 257   │\n",
       "│ 84     ┆ 01     ┆ 01     ┆ 01     ┆ … ┆ Ambérieu-en-Bugey       ┆ 14134 ┆ 380  ┆ 14514 │\n",
       "│ 84     ┆ 01     ┆ 02     ┆ 22     ┆ … ┆ Ambérieux-en-Dombes     ┆ 1751  ┆ 25   ┆ 1776  │\n",
       "│ 84     ┆ 01     ┆ 01     ┆ 04     ┆ … ┆ Ambléon                 ┆ 112   ┆ 6    ┆ 118   │\n",
       "│ …      ┆ …      ┆ …      ┆ …      ┆ … ┆ …                       ┆ …     ┆ …    ┆ …     │\n",
       "│ 4      ┆ 974    ┆ 01     ┆ 04     ┆ … ┆ Sainte-Suzanne          ┆ 24065 ┆ 227  ┆ 24292 │\n",
       "│ 4      ┆ 974    ┆ 03     ┆ 06     ┆ … ┆ Salazie                 ┆ 7136  ┆ 73   ┆ 7209  │\n",
       "│ 4      ┆ 974    ┆ 02     ┆ 99     ┆ … ┆ Le Tampon               ┆ 79824 ┆ 1009 ┆ 80833 │\n",
       "│ 4      ┆ 974    ┆ 04     ┆ 14     ┆ … ┆ Les Trois-Bassins       ┆ 7015  ┆ 91   ┆ 7106  │\n",
       "│ 4      ┆ 974    ┆ 02     ┆ 16     ┆ … ┆ Cilaos                  ┆ 5538  ┆ 85   ┆ 5623  │\n",
       "└────────┴────────┴────────┴────────┴───┴─────────────────────────┴───────┴──────┴───────┘>"
      ]
     },
     "execution_count": 1038,
     "metadata": {},
     "output_type": "execute_result"
    }
   ],
   "source": [
    "df_com.head"
   ]
  },
  {
   "cell_type": "code",
   "execution_count": 1039,
   "metadata": {},
   "outputs": [
    {
     "data": {
      "text/plain": [
       "<bound method DataFrame.head of shape: (38_916, 37)\n",
       "┌────────────┬────────────┬────────────┬─────────┬───┬────────┬────────────┬──────────┬────────────┐\n",
       "│ regrgp_nom ┆ reg_nom    ┆ reg_nom_ol ┆ aca_nom ┆ … ┆ auc_id ┆ auc_nom    ┆ uu_id_10 ┆ geolocalis │\n",
       "│ ---        ┆ ---        ┆ d          ┆ ---     ┆   ┆ ---    ┆ ---        ┆ ---      ┆ ation      │\n",
       "│ str        ┆ str        ┆ ---        ┆ str     ┆   ┆ str    ┆ str        ┆ str      ┆ ---        │\n",
       "│            ┆            ┆ str        ┆         ┆   ┆        ┆            ┆          ┆ str        │\n",
       "╞════════════╪════════════╪════════════╪═════════╪═══╪════════╪════════════╪══════════╪════════════╡\n",
       "│ Province   ┆ Auvergne-R ┆ Rhône-Alpe ┆ Lyon    ┆ … ┆ C01001 ┆ L'Abergeme ┆ SO       ┆ 46.1534255 │\n",
       "│            ┆ hône-Alpes ┆ s          ┆         ┆   ┆        ┆ nt-Clémenc ┆          ┆ 214,4.9261 │\n",
       "│            ┆            ┆            ┆         ┆   ┆        ┆ iat        ┆          ┆ 1354223    │\n",
       "│ Province   ┆ Auvergne-R ┆ Rhône-Alpe ┆ Lyon    ┆ … ┆ AU002  ┆ Lyon       ┆ SO       ┆ 46.0091878 │\n",
       "│            ┆ hône-Alpes ┆ s          ┆         ┆   ┆        ┆            ┆          ┆ 776,5.4280 │\n",
       "│            ┆            ┆            ┆         ┆   ┆        ┆            ┆          ┆ 1696363    │\n",
       "│ Province   ┆ Auvergne-R ┆ Rhône-Alpe ┆ Lyon    ┆ … ┆ SO     ┆ SO         ┆ SO       ┆ null       │\n",
       "│            ┆ hône-Alpes ┆ s          ┆         ┆   ┆        ┆            ┆          ┆            │\n",
       "│ Province   ┆ Auvergne-R ┆ Rhône-Alpe ┆ Lyon    ┆ … ┆ AU002  ┆ Lyon       ┆ UU01302  ┆ 45.9608475 │\n",
       "│            ┆ hône-Alpes ┆ s          ┆         ┆   ┆        ┆            ┆          ┆ 114,5.3729 │\n",
       "│            ┆            ┆            ┆         ┆   ┆        ┆            ┆          ┆ 257777     │\n",
       "│ Province   ┆ Auvergne-R ┆ Rhône-Alpe ┆ Lyon    ┆ … ┆ AU002  ┆ Lyon       ┆ SO       ┆ 45.9961799 │\n",
       "│            ┆ hône-Alpes ┆ s          ┆         ┆   ┆        ┆            ┆          ┆ 872,4.9122 │\n",
       "│            ┆            ┆            ┆         ┆   ┆        ┆            ┆          ┆ 7250796    │\n",
       "│ …          ┆ …          ┆ …          ┆ …       ┆ … ┆ …      ┆ …          ┆ …        ┆ …          │\n",
       "│ Province   ┆ Corse      ┆ Corse      ┆ Corse   ┆ … ┆ C2B356 ┆ Zalana     ┆ SO       ┆ 42.2536105 │\n",
       "│            ┆            ┆            ┆         ┆   ┆        ┆            ┆          ┆ 064,9.3821 │\n",
       "│            ┆            ┆            ┆         ┆   ┆        ┆            ┆          ┆ 6254299    │\n",
       "│ Province   ┆ Corse      ┆ Corse      ┆ Corse   ┆ … ┆ AU391  ┆ Calvi      ┆ SO       ┆ 42.5186011 │\n",
       "│            ┆            ┆            ┆         ┆   ┆        ┆            ┆          ┆ 027,8.9037 │\n",
       "│            ┆            ┆            ┆         ┆   ┆        ┆            ┆          ┆ 6320006    │\n",
       "│ Province   ┆ Corse      ┆ Corse      ┆ Corse   ┆ … ┆ C2B364 ┆ Zuani      ┆ SO       ┆ 42.2648264 │\n",
       "│            ┆            ┆            ┆         ┆   ┆        ┆            ┆          ┆ 25,9.34126 │\n",
       "│            ┆            ┆            ┆         ┆   ┆        ┆            ┆          ┆ 627348     │\n",
       "│ Province   ┆ Corse      ┆ Corse      ┆ Corse   ┆ … ┆ C2B365 ┆ San-Gavino ┆ SO       ┆ 41.9714498 │\n",
       "│            ┆            ┆            ┆         ┆   ┆        ┆ -di-Fiumor ┆          ┆ 244,9.2477 │\n",
       "│            ┆            ┆            ┆         ┆   ┆        ┆ bo         ┆          ┆ 5602009    │\n",
       "│ Province   ┆ Corse      ┆ Corse      ┆ Corse   ┆ … ┆ C2B366 ┆ Chisa      ┆ SO       ┆ 41.9210089 │\n",
       "│            ┆            ┆            ┆         ┆   ┆        ┆            ┆          ┆ 906,9.2656 │\n",
       "│            ┆            ┆            ┆         ┆   ┆        ┆            ┆          ┆ 0816948    │\n",
       "└────────────┴────────────┴────────────┴─────────┴───┴────────┴────────────┴──────────┴────────────┘>"
      ]
     },
     "execution_count": 1039,
     "metadata": {},
     "output_type": "execute_result"
    }
   ],
   "source": [
    "df_geo.head"
   ]
  },
  {
   "cell_type": "code",
   "execution_count": 1040,
   "metadata": {},
   "outputs": [
    {
     "data": {
      "text/plain": [
       "<bound method DataFrame.head of shape: (34_169, 46)\n",
       "┌───────────┬───────────┬───────────┬───────────┬───┬───────────┬───────────┬───────────┬──────────┐\n",
       "│ code_serv ┆ reference ┆ 1_article ┆ 2_article ┆ … ┆ nature_cu ┆ nature_cu ┆ surface_t ┆ nom_de_l │\n",
       "│ ice_ch    ┆ _document ┆ s_cgi     ┆ s_cgi     ┆   ┆ lture     ┆ lture_spe ┆ errain    ┆ _acquere │\n",
       "│ ---       ┆ ---       ┆ ---       ┆ ---       ┆   ┆ ---       ┆ ciale     ┆ ---       ┆ ur       │\n",
       "│ null      ┆ null      ┆ null      ┆ null      ┆   ┆ str       ┆ ---       ┆ i64       ┆ ---      │\n",
       "│           ┆           ┆           ┆           ┆   ┆           ┆ null      ┆           ┆ str      │\n",
       "╞═══════════╪═══════════╪═══════════╪═══════════╪═══╪═══════════╪═══════════╪═══════════╪══════════╡\n",
       "│ null      ┆ null      ┆ null      ┆ null      ┆ … ┆ null      ┆ null      ┆ null      ┆ GUIRAO   │\n",
       "│ null      ┆ null      ┆ null      ┆ null      ┆ … ┆ null      ┆ null      ┆ null      ┆ HARNOIS  │\n",
       "│ null      ┆ null      ┆ null      ┆ null      ┆ … ┆ null      ┆ null      ┆ null      ┆ ROGIER   │\n",
       "│ null      ┆ null      ┆ null      ┆ null      ┆ … ┆ null      ┆ null      ┆ null      ┆ BOCQUIER │\n",
       "│ null      ┆ null      ┆ null      ┆ null      ┆ … ┆ null      ┆ null      ┆ null      ┆ GUILLOSS │\n",
       "│           ┆           ┆           ┆           ┆   ┆           ┆           ┆           ┆ OU       │\n",
       "│ …         ┆ …         ┆ …         ┆ …         ┆ … ┆ …         ┆ …         ┆ …         ┆ …        │\n",
       "│ null      ┆ null      ┆ null      ┆ null      ┆ … ┆ null      ┆ null      ┆ null      ┆ SAADOUN  │\n",
       "│ null      ┆ null      ┆ null      ┆ null      ┆ … ┆ null      ┆ null      ┆ null      ┆ GUECHI   │\n",
       "│ null      ┆ null      ┆ null      ┆ null      ┆ … ┆ null      ┆ null      ┆ null      ┆ PEDRON   │\n",
       "│ null      ┆ null      ┆ null      ┆ null      ┆ … ┆ null      ┆ null      ┆ null      ┆ HOUARD   │\n",
       "│ null      ┆ null      ┆ null      ┆ null      ┆ … ┆ null      ┆ null      ┆ null      ┆ BOIN     │\n",
       "└───────────┴───────────┴───────────┴───────────┴───┴───────────┴───────────┴───────────┴──────────┘>"
      ]
     },
     "execution_count": 1040,
     "metadata": {},
     "output_type": "execute_result"
    }
   ],
   "source": [
    "df_immo.head"
   ]
  },
  {
   "cell_type": "code",
   "execution_count": 1041,
   "metadata": {},
   "outputs": [
    {
     "data": {
      "text/html": [
       "<div><style>\n",
       ".dataframe > thead > tr,\n",
       ".dataframe > tbody > tr {\n",
       "  text-align: right;\n",
       "  white-space: pre-wrap;\n",
       "}\n",
       "</style>\n",
       "<small>shape: (1, 46)</small><table border=\"1\" class=\"dataframe\"><thead><tr><th>code_service_ch</th><th>reference_document</th><th>1_articles_cgi</th><th>2_articles_cgi</th><th>3_articles_cgi</th><th>4_articles_cgi</th><th>5_articles_cgi</th><th>no_disposition</th><th>date_mutation</th><th>nature_mutation</th><th>valeur_fonciere</th><th>no_voie</th><th>b/t/q</th><th>code_type_de_voie</th><th>type_de_voie</th><th>code_voie</th><th>voie</th><th>code_id_commune</th><th>code_postal</th><th>commune</th><th>code_departement</th><th>code_commune</th><th>prefixe_de_section</th><th>section</th><th>no_plan</th><th>no_volume</th><th>1er_lot</th><th>surface_carrez_du_1er_lot</th><th>2eme_lot</th><th>surface_carrez_du_2eme_lot</th><th>3eme_lot</th><th>surface_carrez_du_3eme_lot</th><th>4eme_lot</th><th>surface_carrez_du_4eme_lot</th><th>5eme_lot</th><th>surface_carrez_du_5eme_lot</th><th>nombre_de_lots</th><th>code_type_local</th><th>type_local</th><th>identifiant_local</th><th>surface_reelle_bati</th><th>nombre_pieces_principales</th><th>nature_culture</th><th>nature_culture_speciale</th><th>surface_terrain</th><th>nom_de_l_acquereur</th></tr><tr><td>u32</td><td>u32</td><td>u32</td><td>u32</td><td>u32</td><td>u32</td><td>u32</td><td>u32</td><td>u32</td><td>u32</td><td>u32</td><td>u32</td><td>u32</td><td>u32</td><td>u32</td><td>u32</td><td>u32</td><td>u32</td><td>u32</td><td>u32</td><td>u32</td><td>u32</td><td>u32</td><td>u32</td><td>u32</td><td>u32</td><td>u32</td><td>u32</td><td>u32</td><td>u32</td><td>u32</td><td>u32</td><td>u32</td><td>u32</td><td>u32</td><td>u32</td><td>u32</td><td>u32</td><td>u32</td><td>u32</td><td>u32</td><td>u32</td><td>u32</td><td>u32</td><td>u32</td><td>u32</td></tr></thead><tbody><tr><td>34169</td><td>34169</td><td>34169</td><td>34169</td><td>34169</td><td>34169</td><td>34169</td><td>0</td><td>0</td><td>0</td><td>18</td><td>133</td><td>31995</td><td>0</td><td>940</td><td>0</td><td>0</td><td>0</td><td>0</td><td>0</td><td>0</td><td>0</td><td>33026</td><td>1</td><td>0</td><td>34169</td><td>5</td><td>0</td><td>34169</td><td>34169</td><td>34169</td><td>34169</td><td>34169</td><td>34169</td><td>34169</td><td>34169</td><td>0</td><td>0</td><td>0</td><td>34169</td><td>0</td><td>0</td><td>33916</td><td>34169</td><td>33916</td><td>0</td></tr></tbody></table></div>"
      ],
      "text/plain": [
       "shape: (1, 46)\n",
       "┌───────────┬───────────┬───────────┬───────────┬───┬───────────┬───────────┬───────────┬──────────┐\n",
       "│ code_serv ┆ reference ┆ 1_article ┆ 2_article ┆ … ┆ nature_cu ┆ nature_cu ┆ surface_t ┆ nom_de_l │\n",
       "│ ice_ch    ┆ _document ┆ s_cgi     ┆ s_cgi     ┆   ┆ lture     ┆ lture_spe ┆ errain    ┆ _acquere │\n",
       "│ ---       ┆ ---       ┆ ---       ┆ ---       ┆   ┆ ---       ┆ ciale     ┆ ---       ┆ ur       │\n",
       "│ u32       ┆ u32       ┆ u32       ┆ u32       ┆   ┆ u32       ┆ ---       ┆ u32       ┆ ---      │\n",
       "│           ┆           ┆           ┆           ┆   ┆           ┆ u32       ┆           ┆ u32      │\n",
       "╞═══════════╪═══════════╪═══════════╪═══════════╪═══╪═══════════╪═══════════╪═══════════╪══════════╡\n",
       "│ 34169     ┆ 34169     ┆ 34169     ┆ 34169     ┆ … ┆ 33916     ┆ 34169     ┆ 33916     ┆ 0        │\n",
       "└───────────┴───────────┴───────────┴───────────┴───┴───────────┴───────────┴───────────┴──────────┘"
      ]
     },
     "execution_count": 1041,
     "metadata": {},
     "output_type": "execute_result"
    }
   ],
   "source": [
    "df_immo.null_count()"
   ]
  },
  {
   "cell_type": "code",
   "execution_count": 1042,
   "metadata": {},
   "outputs": [],
   "source": [
    "df_immo = df_immo.rename({\"b/t/q\":\"btq\"})"
   ]
  },
  {
   "cell_type": "code",
   "execution_count": 1043,
   "metadata": {},
   "outputs": [],
   "source": [
    "df_immo = df_immo.with_columns(\n",
    "    (pl.concat_str([pl.col(\"code_departement\"), pl.col(\"code_commune\")])\n",
    "     .alias('id_code_depcommune'))\n",
    ")"
   ]
  },
  {
   "cell_type": "code",
   "execution_count": 1044,
   "metadata": {},
   "outputs": [],
   "source": [
    "df_immo = df_immo.with_columns(\n",
    "    pl.col('surface_terrain').fill_null(0).alias('surface_terrain'),\n",
    "    pl.col('1er_lot').fill_null('').alias('1er_lot')\n",
    ")"
   ]
  },
  {
   "cell_type": "code",
   "execution_count": 1045,
   "metadata": {},
   "outputs": [],
   "source": [
    "df_immo = df_immo.with_columns(\n",
    "    (pl.col('surface_reelle_bati') + pl.col('surface_terrain').fill_null(0))\n",
    "    .alias('surface_totale')\n",
    ")"
   ]
  },
  {
   "cell_type": "code",
   "execution_count": 1046,
   "metadata": {},
   "outputs": [],
   "source": [
    "df_immo = df_immo.with_columns(\n",
    "    (pl.concat_str([\n",
    "        pl.col('no_voie').fill_null(''),  \n",
    "        pl.col('btq').fill_null(''),\n",
    "        pl.col('type_de_voie').fill_null(''),\n",
    "        pl.col('voie').fill_null(''),\n",
    "        pl.col('nombre_pieces_principales').fill_null('').cast(pl.Utf8),\n",
    "        pl.col('type_local').fill_null(''),\n",
    "        pl.col('1er_lot'),\n",
    "        pl.col('surface_carrez_du_1er_lot').fill_null('').cast(pl.Utf8),\n",
    "        pl.col('surface_totale').fill_null('').cast(pl.Utf8),  \n",
    "        pl.col('id_code_depcommune').fill_null('')\n",
    "    ])\n",
    "    .hash()\n",
    "    .alias('id_bien'))\n",
    ")"
   ]
  },
  {
   "cell_type": "code",
   "execution_count": 1047,
   "metadata": {},
   "outputs": [
    {
     "name": "stdout",
     "output_type": "stream",
     "text": [
      "(0, 49)\n",
      "(0, 49)\n"
     ]
    }
   ],
   "source": [
    "print(df_immo.filter(pl.col('id_bien').is_duplicated()).shape)\n",
    "print(df_immo.filter(df_immo.select(    \n",
    "    'no_voie',\n",
    "    'btq',\n",
    "    'type_de_voie',\n",
    "    'voie',\n",
    "    '1er_lot',\n",
    "    'type_local',\n",
    "    'nombre_pieces_principales',\n",
    "    'surface_carrez_du_1er_lot',\n",
    "    'surface_totale',\n",
    "    'id_code_depcommune',\n",
    "    'id_bien').is_duplicated()).shape)"
   ]
  },
  {
   "cell_type": "code",
   "execution_count": 1048,
   "metadata": {},
   "outputs": [],
   "source": [
    "df_immo = df_immo.with_columns(\n",
    "    (pl.concat_str([\n",
    "        pl.col('id_bien').cast(pl.Utf8),\n",
    "        pl.col('date_mutation').cast(pl.Utf8)\n",
    "    ])\n",
    "     .hash()\n",
    "     .alias('id_vente'))\n",
    ")"
   ]
  },
  {
   "cell_type": "code",
   "execution_count": 1049,
   "metadata": {},
   "outputs": [
    {
     "data": {
      "text/html": [
       "<div><style>\n",
       ".dataframe > thead > tr,\n",
       ".dataframe > tbody > tr {\n",
       "  text-align: right;\n",
       "  white-space: pre-wrap;\n",
       "}\n",
       "</style>\n",
       "<small>shape: (0, 50)</small><table border=\"1\" class=\"dataframe\"><thead><tr><th>code_service_ch</th><th>reference_document</th><th>1_articles_cgi</th><th>2_articles_cgi</th><th>3_articles_cgi</th><th>4_articles_cgi</th><th>5_articles_cgi</th><th>no_disposition</th><th>date_mutation</th><th>nature_mutation</th><th>valeur_fonciere</th><th>no_voie</th><th>btq</th><th>code_type_de_voie</th><th>type_de_voie</th><th>code_voie</th><th>voie</th><th>code_id_commune</th><th>code_postal</th><th>commune</th><th>code_departement</th><th>code_commune</th><th>prefixe_de_section</th><th>section</th><th>no_plan</th><th>no_volume</th><th>1er_lot</th><th>surface_carrez_du_1er_lot</th><th>2eme_lot</th><th>surface_carrez_du_2eme_lot</th><th>3eme_lot</th><th>surface_carrez_du_3eme_lot</th><th>4eme_lot</th><th>surface_carrez_du_4eme_lot</th><th>5eme_lot</th><th>surface_carrez_du_5eme_lot</th><th>nombre_de_lots</th><th>code_type_local</th><th>type_local</th><th>identifiant_local</th><th>surface_reelle_bati</th><th>nombre_pieces_principales</th><th>nature_culture</th><th>nature_culture_speciale</th><th>surface_terrain</th><th>nom_de_l_acquereur</th><th>id_code_depcommune</th><th>surface_totale</th><th>id_bien</th><th>id_vente</th></tr><tr><td>null</td><td>null</td><td>null</td><td>null</td><td>null</td><td>null</td><td>null</td><td>i64</td><td>date</td><td>str</td><td>f64</td><td>i64</td><td>str</td><td>i64</td><td>str</td><td>str</td><td>str</td><td>i64</td><td>f64</td><td>str</td><td>str</td><td>str</td><td>i64</td><td>str</td><td>i64</td><td>null</td><td>str</td><td>f64</td><td>null</td><td>null</td><td>null</td><td>null</td><td>null</td><td>null</td><td>null</td><td>null</td><td>i64</td><td>i64</td><td>str</td><td>null</td><td>i64</td><td>i64</td><td>str</td><td>null</td><td>i64</td><td>str</td><td>str</td><td>i64</td><td>u64</td><td>u64</td></tr></thead><tbody></tbody></table></div>"
      ],
      "text/plain": [
       "shape: (0, 50)\n",
       "┌────────────┬────────────┬───────────┬───────────┬───┬───────────┬───────────┬─────────┬──────────┐\n",
       "│ code_servi ┆ reference_ ┆ 1_article ┆ 2_article ┆ … ┆ id_code_d ┆ surface_t ┆ id_bien ┆ id_vente │\n",
       "│ ce_ch      ┆ document   ┆ s_cgi     ┆ s_cgi     ┆   ┆ epcommune ┆ otale     ┆ ---     ┆ ---      │\n",
       "│ ---        ┆ ---        ┆ ---       ┆ ---       ┆   ┆ ---       ┆ ---       ┆ u64     ┆ u64      │\n",
       "│ null       ┆ null       ┆ null      ┆ null      ┆   ┆ str       ┆ i64       ┆         ┆          │\n",
       "╞════════════╪════════════╪═══════════╪═══════════╪═══╪═══════════╪═══════════╪═════════╪══════════╡\n",
       "└────────────┴────────────┴───────────┴───────────┴───┴───────────┴───────────┴─────────┴──────────┘"
      ]
     },
     "execution_count": 1049,
     "metadata": {},
     "output_type": "execute_result"
    }
   ],
   "source": [
    "df_immo.filter(pl.col('id_vente').is_duplicated())"
   ]
  },
  {
   "cell_type": "code",
   "execution_count": 1050,
   "metadata": {},
   "outputs": [
    {
     "data": {
      "text/html": [
       "<div><style>\n",
       ".dataframe > thead > tr,\n",
       ".dataframe > tbody > tr {\n",
       "  text-align: right;\n",
       "  white-space: pre-wrap;\n",
       "}\n",
       "</style>\n",
       "<small>shape: (34_169, 50)</small><table border=\"1\" class=\"dataframe\"><thead><tr><th>code_service_ch</th><th>reference_document</th><th>1_articles_cgi</th><th>2_articles_cgi</th><th>3_articles_cgi</th><th>4_articles_cgi</th><th>5_articles_cgi</th><th>no_disposition</th><th>date_mutation</th><th>nature_mutation</th><th>valeur_fonciere</th><th>no_voie</th><th>btq</th><th>code_type_de_voie</th><th>type_de_voie</th><th>code_voie</th><th>voie</th><th>code_id_commune</th><th>code_postal</th><th>commune</th><th>code_departement</th><th>code_commune</th><th>prefixe_de_section</th><th>section</th><th>no_plan</th><th>no_volume</th><th>1er_lot</th><th>surface_carrez_du_1er_lot</th><th>2eme_lot</th><th>surface_carrez_du_2eme_lot</th><th>3eme_lot</th><th>surface_carrez_du_3eme_lot</th><th>4eme_lot</th><th>surface_carrez_du_4eme_lot</th><th>5eme_lot</th><th>surface_carrez_du_5eme_lot</th><th>nombre_de_lots</th><th>code_type_local</th><th>type_local</th><th>identifiant_local</th><th>surface_reelle_bati</th><th>nombre_pieces_principales</th><th>nature_culture</th><th>nature_culture_speciale</th><th>surface_terrain</th><th>nom_de_l_acquereur</th><th>id_code_depcommune</th><th>surface_totale</th><th>id_bien</th><th>id_vente</th></tr><tr><td>null</td><td>null</td><td>null</td><td>null</td><td>null</td><td>null</td><td>null</td><td>i64</td><td>date</td><td>str</td><td>f64</td><td>i64</td><td>str</td><td>i64</td><td>str</td><td>str</td><td>str</td><td>i64</td><td>f64</td><td>str</td><td>str</td><td>str</td><td>i64</td><td>str</td><td>i64</td><td>null</td><td>str</td><td>f64</td><td>null</td><td>null</td><td>null</td><td>null</td><td>null</td><td>null</td><td>null</td><td>null</td><td>i64</td><td>i64</td><td>str</td><td>null</td><td>i64</td><td>i64</td><td>str</td><td>null</td><td>i64</td><td>str</td><td>str</td><td>i64</td><td>u64</td><td>u64</td></tr></thead><tbody><tr><td>null</td><td>null</td><td>null</td><td>null</td><td>null</td><td>null</td><td>null</td><td>1</td><td>2020-01-02</td><td>&quot;Vente&quot;</td><td>165000.0</td><td>347</td><td>null</td><td>0</td><td>&quot;RUE&quot;</td><td>&quot;20&quot;</td><td>&quot;DU CHATEAU&quot;</td><td>1</td><td>1170.0</td><td>&quot;CHEVRY&quot;</td><td>&quot;01&quot;</td><td>&quot;103&quot;</td><td>null</td><td>&quot;A&quot;</td><td>302</td><td>null</td><td>&quot;12&quot;</td><td>48.22</td><td>null</td><td>null</td><td>null</td><td>null</td><td>null</td><td>null</td><td>null</td><td>null</td><td>2</td><td>2</td><td>&quot;Appartement&quot;</td><td>null</td><td>48</td><td>3</td><td>null</td><td>null</td><td>0</td><td>&quot;GUIRAO&quot;</td><td>&quot;01103&quot;</td><td>48</td><td>15137228140333276830</td><td>9259935209207193945</td></tr><tr><td>null</td><td>null</td><td>null</td><td>null</td><td>null</td><td>null</td><td>null</td><td>1</td><td>2020-01-02</td><td>&quot;Vente&quot;</td><td>355680.0</td><td>4</td><td>null</td><td>15</td><td>&quot;BD&quot;</td><td>&quot;1000&quot;</td><td>&quot;EDOUARD BAUDOIN&quot;</td><td>205</td><td>6160.0</td><td>&quot;ANTIBES&quot;</td><td>&quot;06&quot;</td><td>&quot;004&quot;</td><td>null</td><td>&quot;CP&quot;</td><td>186</td><td>null</td><td>&quot;132&quot;</td><td>39.11</td><td>null</td><td>null</td><td>null</td><td>null</td><td>null</td><td>null</td><td>null</td><td>null</td><td>2</td><td>2</td><td>&quot;Appartement&quot;</td><td>null</td><td>40</td><td>1</td><td>null</td><td>null</td><td>0</td><td>&quot;HARNOIS&quot;</td><td>&quot;06004&quot;</td><td>40</td><td>17560310484389916846</td><td>13813125794198133400</td></tr><tr><td>null</td><td>null</td><td>null</td><td>null</td><td>null</td><td>null</td><td>null</td><td>1</td><td>2020-01-02</td><td>&quot;Vente&quot;</td><td>229500.0</td><td>20</td><td>&quot;B&quot;</td><td>0</td><td>&quot;RUE&quot;</td><td>&quot;3975&quot;</td><td>&quot;MARCEAU&quot;</td><td>142</td><td>6000.0</td><td>&quot;NICE&quot;</td><td>&quot;06&quot;</td><td>&quot;088&quot;</td><td>null</td><td>&quot;LS&quot;</td><td>169</td><td>null</td><td>&quot;99&quot;</td><td>80.25</td><td>null</td><td>null</td><td>null</td><td>null</td><td>null</td><td>null</td><td>null</td><td>null</td><td>1</td><td>2</td><td>&quot;Appartement&quot;</td><td>null</td><td>82</td><td>3</td><td>null</td><td>null</td><td>0</td><td>&quot;ROGIER&quot;</td><td>&quot;06088&quot;</td><td>82</td><td>9794828718374656783</td><td>15600841261221439612</td></tr><tr><td>null</td><td>null</td><td>null</td><td>null</td><td>null</td><td>null</td><td>null</td><td>1</td><td>2020-01-02</td><td>&quot;Vente&quot;</td><td>125000.0</td><td>550</td><td>null</td><td>3</td><td>&quot;RTE&quot;</td><td>&quot;1011&quot;</td><td>&quot;DES VESPINS RN7&quot;</td><td>228</td><td>6700.0</td><td>&quot;SAINT LAURENT DU VAR&quot;</td><td>&quot;06&quot;</td><td>&quot;123&quot;</td><td>null</td><td>&quot;AO&quot;</td><td>348</td><td>null</td><td>&quot;242&quot;</td><td>27.51</td><td>null</td><td>null</td><td>null</td><td>null</td><td>null</td><td>null</td><td>null</td><td>null</td><td>1</td><td>2</td><td>&quot;Appartement&quot;</td><td>null</td><td>27</td><td>1</td><td>null</td><td>null</td><td>0</td><td>&quot;BOCQUIER&quot;</td><td>&quot;06123&quot;</td><td>27</td><td>5313800244361690172</td><td>16145551626827266416</td></tr><tr><td>null</td><td>null</td><td>null</td><td>null</td><td>null</td><td>null</td><td>null</td><td>1</td><td>2020-01-02</td><td>&quot;Vente&quot;</td><td>90000.0</td><td>9300</td><td>null</td><td>18</td><td>&quot;RES&quot;</td><td>&quot;A084&quot;</td><td>&quot;LES ARPEGES BD DES ABA&quot;</td><td>326</td><td>13400.0</td><td>&quot;AUBAGNE&quot;</td><td>&quot;13&quot;</td><td>&quot;005&quot;</td><td>null</td><td>&quot;AW&quot;</td><td>224</td><td>null</td><td>&quot;218&quot;</td><td>47.33</td><td>null</td><td>null</td><td>null</td><td>null</td><td>null</td><td>null</td><td>null</td><td>null</td><td>1</td><td>2</td><td>&quot;Appartement&quot;</td><td>null</td><td>47</td><td>2</td><td>null</td><td>null</td><td>0</td><td>&quot;GUILLOSSOU&quot;</td><td>&quot;13005&quot;</td><td>47</td><td>16785843096445396717</td><td>5698024270704249500</td></tr><tr><td>&hellip;</td><td>&hellip;</td><td>&hellip;</td><td>&hellip;</td><td>&hellip;</td><td>&hellip;</td><td>&hellip;</td><td>&hellip;</td><td>&hellip;</td><td>&hellip;</td><td>&hellip;</td><td>&hellip;</td><td>&hellip;</td><td>&hellip;</td><td>&hellip;</td><td>&hellip;</td><td>&hellip;</td><td>&hellip;</td><td>&hellip;</td><td>&hellip;</td><td>&hellip;</td><td>&hellip;</td><td>&hellip;</td><td>&hellip;</td><td>&hellip;</td><td>&hellip;</td><td>&hellip;</td><td>&hellip;</td><td>&hellip;</td><td>&hellip;</td><td>&hellip;</td><td>&hellip;</td><td>&hellip;</td><td>&hellip;</td><td>&hellip;</td><td>&hellip;</td><td>&hellip;</td><td>&hellip;</td><td>&hellip;</td><td>&hellip;</td><td>&hellip;</td><td>&hellip;</td><td>&hellip;</td><td>&hellip;</td><td>&hellip;</td><td>&hellip;</td><td>&hellip;</td><td>&hellip;</td><td>&hellip;</td><td>&hellip;</td></tr><tr><td>null</td><td>null</td><td>null</td><td>null</td><td>null</td><td>null</td><td>null</td><td>1</td><td>2020-06-30</td><td>&quot;Vente&quot;</td><td>115000.0</td><td>5</td><td>null</td><td>12</td><td>&quot;PL&quot;</td><td>&quot;1375&quot;</td><td>&quot;JEAN CHARCOT&quot;</td><td>3111</td><td>95200.0</td><td>&quot;SARCELLES&quot;</td><td>&quot;95&quot;</td><td>&quot;585&quot;</td><td>null</td><td>&quot;BD&quot;</td><td>227</td><td>null</td><td>&quot;48&quot;</td><td>59.5</td><td>null</td><td>null</td><td>null</td><td>null</td><td>null</td><td>null</td><td>null</td><td>null</td><td>1</td><td>2</td><td>&quot;Appartement&quot;</td><td>null</td><td>63</td><td>3</td><td>null</td><td>null</td><td>0</td><td>&quot;SAADOUN&quot;</td><td>&quot;95585&quot;</td><td>63</td><td>1393333401999000253</td><td>6466178643350014766</td></tr><tr><td>null</td><td>null</td><td>null</td><td>null</td><td>null</td><td>null</td><td>null</td><td>1</td><td>2020-06-30</td><td>&quot;Vente&quot;</td><td>129000.0</td><td>59</td><td>null</td><td>1</td><td>&quot;AV&quot;</td><td>&quot;1140&quot;</td><td>&quot;DE PARIS&quot;</td><td>3149</td><td>95230.0</td><td>&quot;SOISY SS MONTMORENCY&quot;</td><td>&quot;95&quot;</td><td>&quot;598&quot;</td><td>null</td><td>&quot;AI&quot;</td><td>132</td><td>null</td><td>&quot;121&quot;</td><td>55.29</td><td>null</td><td>null</td><td>null</td><td>null</td><td>null</td><td>null</td><td>null</td><td>null</td><td>2</td><td>2</td><td>&quot;Appartement&quot;</td><td>null</td><td>66</td><td>3</td><td>null</td><td>null</td><td>0</td><td>&quot;GUECHI&quot;</td><td>&quot;95598&quot;</td><td>66</td><td>6364534923693533129</td><td>16513099725295730246</td></tr><tr><td>null</td><td>null</td><td>null</td><td>null</td><td>null</td><td>null</td><td>null</td><td>1</td><td>2020-06-30</td><td>&quot;Vente&quot;</td><td>212000.0</td><td>4</td><td>null</td><td>0</td><td>&quot;RUE&quot;</td><td>&quot;861&quot;</td><td>&quot;RENE ECHAVIDRE&quot;</td><td>3139</td><td>95150.0</td><td>&quot;TAVERNY&quot;</td><td>&quot;95&quot;</td><td>&quot;607&quot;</td><td>null</td><td>&quot;BX&quot;</td><td>673</td><td>null</td><td>&quot;4&quot;</td><td>62.05</td><td>null</td><td>null</td><td>null</td><td>null</td><td>null</td><td>null</td><td>null</td><td>null</td><td>1</td><td>2</td><td>&quot;Appartement&quot;</td><td>null</td><td>63</td><td>3</td><td>null</td><td>null</td><td>0</td><td>&quot;PEDRON&quot;</td><td>&quot;95607&quot;</td><td>63</td><td>10357380744557702374</td><td>9874549485008201950</td></tr><tr><td>null</td><td>null</td><td>null</td><td>null</td><td>null</td><td>null</td><td>null</td><td>1</td><td>2020-06-30</td><td>&quot;Vente&quot;</td><td>220000.0</td><td>5919</td><td>&quot;F&quot;</td><td>18</td><td>&quot;RES&quot;</td><td>&quot;A133&quot;</td><td>&quot;L EMERAUDE MORNE PAVILLON&quot;</td><td>3168</td><td>97232.0</td><td>&quot;LE LAMENTIN&quot;</td><td>&quot;972&quot;</td><td>&quot;213&quot;</td><td>null</td><td>&quot;K&quot;</td><td>919</td><td>null</td><td>&quot;138&quot;</td><td>77.88</td><td>null</td><td>null</td><td>null</td><td>null</td><td>null</td><td>null</td><td>null</td><td>null</td><td>1</td><td>2</td><td>&quot;Appartement&quot;</td><td>null</td><td>77</td><td>4</td><td>null</td><td>null</td><td>0</td><td>&quot;HOUARD&quot;</td><td>&quot;972213&quot;</td><td>77</td><td>17027493186363633437</td><td>167432590582771712</td></tr><tr><td>null</td><td>null</td><td>null</td><td>null</td><td>null</td><td>null</td><td>null</td><td>1</td><td>2020-06-30</td><td>&quot;Vente&quot;</td><td>121000.0</td><td>5368</td><td>&quot;F&quot;</td><td>18</td><td>&quot;RES&quot;</td><td>&quot;A013&quot;</td><td>&quot;GRAND VILLAGE&quot;</td><td>3162</td><td>97233.0</td><td>&quot;SCHOELCHER&quot;</td><td>&quot;972&quot;</td><td>&quot;229&quot;</td><td>null</td><td>&quot;AC&quot;</td><td>368</td><td>null</td><td>&quot;93&quot;</td><td>75.7</td><td>null</td><td>null</td><td>null</td><td>null</td><td>null</td><td>null</td><td>null</td><td>null</td><td>1</td><td>2</td><td>&quot;Appartement&quot;</td><td>null</td><td>84</td><td>4</td><td>null</td><td>null</td><td>0</td><td>&quot;BOIN&quot;</td><td>&quot;972229&quot;</td><td>84</td><td>16620929746766903255</td><td>4228773406687001932</td></tr></tbody></table></div>"
      ],
      "text/plain": [
       "shape: (34_169, 50)\n",
       "┌───────────┬───────────┬───────────┬───────────┬───┬───────────┬───────────┬───────────┬──────────┐\n",
       "│ code_serv ┆ reference ┆ 1_article ┆ 2_article ┆ … ┆ id_code_d ┆ surface_t ┆ id_bien   ┆ id_vente │\n",
       "│ ice_ch    ┆ _document ┆ s_cgi     ┆ s_cgi     ┆   ┆ epcommune ┆ otale     ┆ ---       ┆ ---      │\n",
       "│ ---       ┆ ---       ┆ ---       ┆ ---       ┆   ┆ ---       ┆ ---       ┆ u64       ┆ u64      │\n",
       "│ null      ┆ null      ┆ null      ┆ null      ┆   ┆ str       ┆ i64       ┆           ┆          │\n",
       "╞═══════════╪═══════════╪═══════════╪═══════════╪═══╪═══════════╪═══════════╪═══════════╪══════════╡\n",
       "│ null      ┆ null      ┆ null      ┆ null      ┆ … ┆ 01103     ┆ 48        ┆ 151372281 ┆ 92599352 │\n",
       "│           ┆           ┆           ┆           ┆   ┆           ┆           ┆ 403332768 ┆ 09207193 │\n",
       "│           ┆           ┆           ┆           ┆   ┆           ┆           ┆ 30        ┆ 945      │\n",
       "│ null      ┆ null      ┆ null      ┆ null      ┆ … ┆ 06004     ┆ 40        ┆ 175603104 ┆ 13813125 │\n",
       "│           ┆           ┆           ┆           ┆   ┆           ┆           ┆ 843899168 ┆ 79419813 │\n",
       "│           ┆           ┆           ┆           ┆   ┆           ┆           ┆ 46        ┆ 3400     │\n",
       "│ null      ┆ null      ┆ null      ┆ null      ┆ … ┆ 06088     ┆ 82        ┆ 979482871 ┆ 15600841 │\n",
       "│           ┆           ┆           ┆           ┆   ┆           ┆           ┆ 837465678 ┆ 26122143 │\n",
       "│           ┆           ┆           ┆           ┆   ┆           ┆           ┆ 3         ┆ 9612     │\n",
       "│ null      ┆ null      ┆ null      ┆ null      ┆ … ┆ 06123     ┆ 27        ┆ 531380024 ┆ 16145551 │\n",
       "│           ┆           ┆           ┆           ┆   ┆           ┆           ┆ 436169017 ┆ 62682726 │\n",
       "│           ┆           ┆           ┆           ┆   ┆           ┆           ┆ 2         ┆ 6416     │\n",
       "│ null      ┆ null      ┆ null      ┆ null      ┆ … ┆ 13005     ┆ 47        ┆ 167858430 ┆ 56980242 │\n",
       "│           ┆           ┆           ┆           ┆   ┆           ┆           ┆ 964453967 ┆ 70704249 │\n",
       "│           ┆           ┆           ┆           ┆   ┆           ┆           ┆ 17        ┆ 500      │\n",
       "│ …         ┆ …         ┆ …         ┆ …         ┆ … ┆ …         ┆ …         ┆ …         ┆ …        │\n",
       "│ null      ┆ null      ┆ null      ┆ null      ┆ … ┆ 95585     ┆ 63        ┆ 139333340 ┆ 64661786 │\n",
       "│           ┆           ┆           ┆           ┆   ┆           ┆           ┆ 199900025 ┆ 43350014 │\n",
       "│           ┆           ┆           ┆           ┆   ┆           ┆           ┆ 3         ┆ 766      │\n",
       "│ null      ┆ null      ┆ null      ┆ null      ┆ … ┆ 95598     ┆ 66        ┆ 636453492 ┆ 16513099 │\n",
       "│           ┆           ┆           ┆           ┆   ┆           ┆           ┆ 369353312 ┆ 72529573 │\n",
       "│           ┆           ┆           ┆           ┆   ┆           ┆           ┆ 9         ┆ 0246     │\n",
       "│ null      ┆ null      ┆ null      ┆ null      ┆ … ┆ 95607     ┆ 63        ┆ 103573807 ┆ 98745494 │\n",
       "│           ┆           ┆           ┆           ┆   ┆           ┆           ┆ 445577023 ┆ 85008201 │\n",
       "│           ┆           ┆           ┆           ┆   ┆           ┆           ┆ 74        ┆ 950      │\n",
       "│ null      ┆ null      ┆ null      ┆ null      ┆ … ┆ 972213    ┆ 77        ┆ 170274931 ┆ 16743259 │\n",
       "│           ┆           ┆           ┆           ┆   ┆           ┆           ┆ 863636334 ┆ 05827717 │\n",
       "│           ┆           ┆           ┆           ┆   ┆           ┆           ┆ 37        ┆ 12       │\n",
       "│ null      ┆ null      ┆ null      ┆ null      ┆ … ┆ 972229    ┆ 84        ┆ 166209297 ┆ 42287734 │\n",
       "│           ┆           ┆           ┆           ┆   ┆           ┆           ┆ 467669032 ┆ 06687001 │\n",
       "│           ┆           ┆           ┆           ┆   ┆           ┆           ┆ 55        ┆ 932      │\n",
       "└───────────┴───────────┴───────────┴───────────┴───┴───────────┴───────────┴───────────┴──────────┘"
      ]
     },
     "execution_count": 1050,
     "metadata": {},
     "output_type": "execute_result"
    }
   ],
   "source": [
    "df_immo"
   ]
  },
  {
   "cell_type": "markdown",
   "metadata": {},
   "source": [
    "### Préparation du fichier 'bien.csv'"
   ]
  },
  {
   "cell_type": "code",
   "execution_count": 1051,
   "metadata": {},
   "outputs": [],
   "source": [
    "df_bien = df_immo.select(\n",
    "    'no_voie',\n",
    "    'btq',\n",
    "    'type_de_voie',\n",
    "    'voie',\n",
    "    'type_local',\n",
    "    'nombre_pieces_principales',\n",
    "    'surface_carrez_du_1er_lot',\n",
    "    'surface_totale',\n",
    "    'id_code_depcommune',\n",
    "    'id_bien'\n",
    "    )"
   ]
  },
  {
   "cell_type": "code",
   "execution_count": 1052,
   "metadata": {},
   "outputs": [
    {
     "data": {
      "text/html": [
       "<div><style>\n",
       ".dataframe > thead > tr,\n",
       ".dataframe > tbody > tr {\n",
       "  text-align: right;\n",
       "  white-space: pre-wrap;\n",
       "}\n",
       "</style>\n",
       "<small>shape: (0, 10)</small><table border=\"1\" class=\"dataframe\"><thead><tr><th>no_voie</th><th>btq</th><th>type_de_voie</th><th>voie</th><th>type_local</th><th>nombre_pieces_principales</th><th>surface_carrez_du_1er_lot</th><th>surface_totale</th><th>id_code_depcommune</th><th>id_bien</th></tr><tr><td>i64</td><td>str</td><td>str</td><td>str</td><td>str</td><td>i64</td><td>f64</td><td>i64</td><td>str</td><td>u64</td></tr></thead><tbody></tbody></table></div>"
      ],
      "text/plain": [
       "shape: (0, 10)\n",
       "┌─────────┬─────┬──────────────┬──────┬───┬───────────────┬───────────────┬──────────────┬─────────┐\n",
       "│ no_voie ┆ btq ┆ type_de_voie ┆ voie ┆ … ┆ surface_carre ┆ surface_total ┆ id_code_depc ┆ id_bien │\n",
       "│ ---     ┆ --- ┆ ---          ┆ ---  ┆   ┆ z_du_1er_lot  ┆ e             ┆ ommune       ┆ ---     │\n",
       "│ i64     ┆ str ┆ str          ┆ str  ┆   ┆ ---           ┆ ---           ┆ ---          ┆ u64     │\n",
       "│         ┆     ┆              ┆      ┆   ┆ f64           ┆ i64           ┆ str          ┆         │\n",
       "╞═════════╪═════╪══════════════╪══════╪═══╪═══════════════╪═══════════════╪══════════════╪═════════╡\n",
       "└─────────┴─────┴──────────────┴──────┴───┴───────────────┴───────────────┴──────────────┴─────────┘"
      ]
     },
     "execution_count": 1052,
     "metadata": {},
     "output_type": "execute_result"
    }
   ],
   "source": [
    "df_bien.filter(df_bien.is_duplicated())"
   ]
  },
  {
   "cell_type": "code",
   "execution_count": 1053,
   "metadata": {},
   "outputs": [
    {
     "data": {
      "text/html": [
       "<div><style>\n",
       ".dataframe > thead > tr,\n",
       ".dataframe > tbody > tr {\n",
       "  text-align: right;\n",
       "  white-space: pre-wrap;\n",
       "}\n",
       "</style>\n",
       "<small>shape: (34_169, 10)</small><table border=\"1\" class=\"dataframe\"><thead><tr><th>no_voie</th><th>btq</th><th>type_de_voie</th><th>voie</th><th>type_local</th><th>nombre_pieces_principales</th><th>surface_carrez_du_1er_lot</th><th>surface_totale</th><th>id_code_depcommune</th><th>id_bien</th></tr><tr><td>i64</td><td>str</td><td>str</td><td>str</td><td>str</td><td>i64</td><td>f64</td><td>i64</td><td>str</td><td>u64</td></tr></thead><tbody><tr><td>347</td><td>null</td><td>&quot;RUE&quot;</td><td>&quot;DU CHATEAU&quot;</td><td>&quot;Appartement&quot;</td><td>3</td><td>48.22</td><td>48</td><td>&quot;01103&quot;</td><td>15137228140333276830</td></tr><tr><td>4</td><td>null</td><td>&quot;BD&quot;</td><td>&quot;EDOUARD BAUDOIN&quot;</td><td>&quot;Appartement&quot;</td><td>1</td><td>39.11</td><td>40</td><td>&quot;06004&quot;</td><td>17560310484389916846</td></tr><tr><td>20</td><td>&quot;B&quot;</td><td>&quot;RUE&quot;</td><td>&quot;MARCEAU&quot;</td><td>&quot;Appartement&quot;</td><td>3</td><td>80.25</td><td>82</td><td>&quot;06088&quot;</td><td>9794828718374656783</td></tr><tr><td>550</td><td>null</td><td>&quot;RTE&quot;</td><td>&quot;DES VESPINS RN7&quot;</td><td>&quot;Appartement&quot;</td><td>1</td><td>27.51</td><td>27</td><td>&quot;06123&quot;</td><td>5313800244361690172</td></tr><tr><td>9300</td><td>null</td><td>&quot;RES&quot;</td><td>&quot;LES ARPEGES BD DES ABA&quot;</td><td>&quot;Appartement&quot;</td><td>2</td><td>47.33</td><td>47</td><td>&quot;13005&quot;</td><td>16785843096445396717</td></tr><tr><td>&hellip;</td><td>&hellip;</td><td>&hellip;</td><td>&hellip;</td><td>&hellip;</td><td>&hellip;</td><td>&hellip;</td><td>&hellip;</td><td>&hellip;</td><td>&hellip;</td></tr><tr><td>5</td><td>null</td><td>&quot;PL&quot;</td><td>&quot;JEAN CHARCOT&quot;</td><td>&quot;Appartement&quot;</td><td>3</td><td>59.5</td><td>63</td><td>&quot;95585&quot;</td><td>1393333401999000253</td></tr><tr><td>59</td><td>null</td><td>&quot;AV&quot;</td><td>&quot;DE PARIS&quot;</td><td>&quot;Appartement&quot;</td><td>3</td><td>55.29</td><td>66</td><td>&quot;95598&quot;</td><td>6364534923693533129</td></tr><tr><td>4</td><td>null</td><td>&quot;RUE&quot;</td><td>&quot;RENE ECHAVIDRE&quot;</td><td>&quot;Appartement&quot;</td><td>3</td><td>62.05</td><td>63</td><td>&quot;95607&quot;</td><td>10357380744557702374</td></tr><tr><td>5919</td><td>&quot;F&quot;</td><td>&quot;RES&quot;</td><td>&quot;L EMERAUDE MORNE PAVILLON&quot;</td><td>&quot;Appartement&quot;</td><td>4</td><td>77.88</td><td>77</td><td>&quot;972213&quot;</td><td>17027493186363633437</td></tr><tr><td>5368</td><td>&quot;F&quot;</td><td>&quot;RES&quot;</td><td>&quot;GRAND VILLAGE&quot;</td><td>&quot;Appartement&quot;</td><td>4</td><td>75.7</td><td>84</td><td>&quot;972229&quot;</td><td>16620929746766903255</td></tr></tbody></table></div>"
      ],
      "text/plain": [
       "shape: (34_169, 10)\n",
       "┌─────────┬──────┬────────────┬────────────┬───┬────────────┬────────────┬────────────┬────────────┐\n",
       "│ no_voie ┆ btq  ┆ type_de_vo ┆ voie       ┆ … ┆ surface_ca ┆ surface_to ┆ id_code_de ┆ id_bien    │\n",
       "│ ---     ┆ ---  ┆ ie         ┆ ---        ┆   ┆ rrez_du_1e ┆ tale       ┆ pcommune   ┆ ---        │\n",
       "│ i64     ┆ str  ┆ ---        ┆ str        ┆   ┆ r_lot      ┆ ---        ┆ ---        ┆ u64        │\n",
       "│         ┆      ┆ str        ┆            ┆   ┆ ---        ┆ i64        ┆ str        ┆            │\n",
       "│         ┆      ┆            ┆            ┆   ┆ f64        ┆            ┆            ┆            │\n",
       "╞═════════╪══════╪════════════╪════════════╪═══╪════════════╪════════════╪════════════╪════════════╡\n",
       "│ 347     ┆ null ┆ RUE        ┆ DU CHATEAU ┆ … ┆ 48.22      ┆ 48         ┆ 01103      ┆ 1513722814 │\n",
       "│         ┆      ┆            ┆            ┆   ┆            ┆            ┆            ┆ 0333276830 │\n",
       "│ 4       ┆ null ┆ BD         ┆ EDOUARD    ┆ … ┆ 39.11      ┆ 40         ┆ 06004      ┆ 1756031048 │\n",
       "│         ┆      ┆            ┆ BAUDOIN    ┆   ┆            ┆            ┆            ┆ 4389916846 │\n",
       "│ 20      ┆ B    ┆ RUE        ┆ MARCEAU    ┆ … ┆ 80.25      ┆ 82         ┆ 06088      ┆ 9794828718 │\n",
       "│         ┆      ┆            ┆            ┆   ┆            ┆            ┆            ┆ 374656783  │\n",
       "│ 550     ┆ null ┆ RTE        ┆ DES        ┆ … ┆ 27.51      ┆ 27         ┆ 06123      ┆ 5313800244 │\n",
       "│         ┆      ┆            ┆ VESPINS    ┆   ┆            ┆            ┆            ┆ 361690172  │\n",
       "│         ┆      ┆            ┆ RN7        ┆   ┆            ┆            ┆            ┆            │\n",
       "│ 9300    ┆ null ┆ RES        ┆ LES        ┆ … ┆ 47.33      ┆ 47         ┆ 13005      ┆ 1678584309 │\n",
       "│         ┆      ┆            ┆ ARPEGES BD ┆   ┆            ┆            ┆            ┆ 6445396717 │\n",
       "│         ┆      ┆            ┆ DES ABA    ┆   ┆            ┆            ┆            ┆            │\n",
       "│ …       ┆ …    ┆ …          ┆ …          ┆ … ┆ …          ┆ …          ┆ …          ┆ …          │\n",
       "│ 5       ┆ null ┆ PL         ┆ JEAN       ┆ … ┆ 59.5       ┆ 63         ┆ 95585      ┆ 1393333401 │\n",
       "│         ┆      ┆            ┆ CHARCOT    ┆   ┆            ┆            ┆            ┆ 999000253  │\n",
       "│ 59      ┆ null ┆ AV         ┆ DE PARIS   ┆ … ┆ 55.29      ┆ 66         ┆ 95598      ┆ 6364534923 │\n",
       "│         ┆      ┆            ┆            ┆   ┆            ┆            ┆            ┆ 693533129  │\n",
       "│ 4       ┆ null ┆ RUE        ┆ RENE       ┆ … ┆ 62.05      ┆ 63         ┆ 95607      ┆ 1035738074 │\n",
       "│         ┆      ┆            ┆ ECHAVIDRE  ┆   ┆            ┆            ┆            ┆ 4557702374 │\n",
       "│ 5919    ┆ F    ┆ RES        ┆ L EMERAUDE ┆ … ┆ 77.88      ┆ 77         ┆ 972213     ┆ 1702749318 │\n",
       "│         ┆      ┆            ┆ MORNE      ┆   ┆            ┆            ┆            ┆ 6363633437 │\n",
       "│         ┆      ┆            ┆ PAVILLON   ┆   ┆            ┆            ┆            ┆            │\n",
       "│ 5368    ┆ F    ┆ RES        ┆ GRAND      ┆ … ┆ 75.7       ┆ 84         ┆ 972229     ┆ 1662092974 │\n",
       "│         ┆      ┆            ┆ VILLAGE    ┆   ┆            ┆            ┆            ┆ 6766903255 │\n",
       "└─────────┴──────┴────────────┴────────────┴───┴────────────┴────────────┴────────────┴────────────┘"
      ]
     },
     "execution_count": 1053,
     "metadata": {},
     "output_type": "execute_result"
    }
   ],
   "source": [
    "df_bien"
   ]
  },
  {
   "cell_type": "code",
   "execution_count": 1054,
   "metadata": {},
   "outputs": [],
   "source": [
    "df_bien = df_bien.rename({\n",
    "    \"type_de_voie\":\"type_voie\",\n",
    "    \"voie\":\"nom_voie\",\n",
    "    \"nombre_pieces_principales\":\"nb_pieces\",\n",
    "    \"surface_carrez_du_1er_lot\":\"surface_carrez\",\n",
    "})"
   ]
  },
  {
   "cell_type": "code",
   "execution_count": 1055,
   "metadata": {},
   "outputs": [],
   "source": [
    "df_bien = df_bien.select(\n",
    "    \"id_bien\",\n",
    "    \"no_voie\",\n",
    "    \"btq\",\n",
    "    \"type_voie\",\n",
    "    \"nom_voie\",\n",
    "    \"type_local\",\n",
    "    \"nb_pieces\",\n",
    "    \"surface_carrez\",\n",
    "    \"surface_totale\",\n",
    "    \"id_code_depcommune\"\n",
    ")"
   ]
  },
  {
   "cell_type": "code",
   "execution_count": 1056,
   "metadata": {},
   "outputs": [
    {
     "data": {
      "text/html": [
       "<div><style>\n",
       ".dataframe > thead > tr,\n",
       ".dataframe > tbody > tr {\n",
       "  text-align: right;\n",
       "  white-space: pre-wrap;\n",
       "}\n",
       "</style>\n",
       "<small>shape: (0, 10)</small><table border=\"1\" class=\"dataframe\"><thead><tr><th>id_bien</th><th>no_voie</th><th>btq</th><th>type_voie</th><th>nom_voie</th><th>type_local</th><th>nb_pieces</th><th>surface_carrez</th><th>surface_totale</th><th>id_code_depcommune</th></tr><tr><td>u64</td><td>i64</td><td>str</td><td>str</td><td>str</td><td>str</td><td>i64</td><td>f64</td><td>i64</td><td>str</td></tr></thead><tbody></tbody></table></div>"
      ],
      "text/plain": [
       "shape: (0, 10)\n",
       "┌─────────┬─────────┬─────┬───────────┬───┬───────────┬──────────────┬──────────────┬──────────────┐\n",
       "│ id_bien ┆ no_voie ┆ btq ┆ type_voie ┆ … ┆ nb_pieces ┆ surface_carr ┆ surface_tota ┆ id_code_depc │\n",
       "│ ---     ┆ ---     ┆ --- ┆ ---       ┆   ┆ ---       ┆ ez           ┆ le           ┆ ommune       │\n",
       "│ u64     ┆ i64     ┆ str ┆ str       ┆   ┆ i64       ┆ ---          ┆ ---          ┆ ---          │\n",
       "│         ┆         ┆     ┆           ┆   ┆           ┆ f64          ┆ i64          ┆ str          │\n",
       "╞═════════╪═════════╪═════╪═══════════╪═══╪═══════════╪══════════════╪══════════════╪══════════════╡\n",
       "└─────────┴─────────┴─────┴───────────┴───┴───────────┴──────────────┴──────────────┴──────────────┘"
      ]
     },
     "execution_count": 1056,
     "metadata": {},
     "output_type": "execute_result"
    }
   ],
   "source": [
    "df_bien.filter(df_bien.is_duplicated())"
   ]
  },
  {
   "cell_type": "code",
   "execution_count": 1057,
   "metadata": {},
   "outputs": [],
   "source": [
    "df_bien = df_bien.unique()"
   ]
  },
  {
   "cell_type": "code",
   "execution_count": 1058,
   "metadata": {},
   "outputs": [],
   "source": [
    "df_bien.write_csv(\"./data_clean/bien.csv\")"
   ]
  },
  {
   "cell_type": "markdown",
   "metadata": {},
   "source": [
    "### Préparation du fichier 'vente.csv'"
   ]
  },
  {
   "cell_type": "code",
   "execution_count": 1059,
   "metadata": {},
   "outputs": [
    {
     "data": {
      "text/html": [
       "<div><style>\n",
       ".dataframe > thead > tr,\n",
       ".dataframe > tbody > tr {\n",
       "  text-align: right;\n",
       "  white-space: pre-wrap;\n",
       "}\n",
       "</style>\n",
       "<small>shape: (5, 50)</small><table border=\"1\" class=\"dataframe\"><thead><tr><th>code_service_ch</th><th>reference_document</th><th>1_articles_cgi</th><th>2_articles_cgi</th><th>3_articles_cgi</th><th>4_articles_cgi</th><th>5_articles_cgi</th><th>no_disposition</th><th>date_mutation</th><th>nature_mutation</th><th>valeur_fonciere</th><th>no_voie</th><th>btq</th><th>code_type_de_voie</th><th>type_de_voie</th><th>code_voie</th><th>voie</th><th>code_id_commune</th><th>code_postal</th><th>commune</th><th>code_departement</th><th>code_commune</th><th>prefixe_de_section</th><th>section</th><th>no_plan</th><th>no_volume</th><th>1er_lot</th><th>surface_carrez_du_1er_lot</th><th>2eme_lot</th><th>surface_carrez_du_2eme_lot</th><th>3eme_lot</th><th>surface_carrez_du_3eme_lot</th><th>4eme_lot</th><th>surface_carrez_du_4eme_lot</th><th>5eme_lot</th><th>surface_carrez_du_5eme_lot</th><th>nombre_de_lots</th><th>code_type_local</th><th>type_local</th><th>identifiant_local</th><th>surface_reelle_bati</th><th>nombre_pieces_principales</th><th>nature_culture</th><th>nature_culture_speciale</th><th>surface_terrain</th><th>nom_de_l_acquereur</th><th>id_code_depcommune</th><th>surface_totale</th><th>id_bien</th><th>id_vente</th></tr><tr><td>null</td><td>null</td><td>null</td><td>null</td><td>null</td><td>null</td><td>null</td><td>i64</td><td>date</td><td>str</td><td>f64</td><td>i64</td><td>str</td><td>i64</td><td>str</td><td>str</td><td>str</td><td>i64</td><td>f64</td><td>str</td><td>str</td><td>str</td><td>i64</td><td>str</td><td>i64</td><td>null</td><td>str</td><td>f64</td><td>null</td><td>null</td><td>null</td><td>null</td><td>null</td><td>null</td><td>null</td><td>null</td><td>i64</td><td>i64</td><td>str</td><td>null</td><td>i64</td><td>i64</td><td>str</td><td>null</td><td>i64</td><td>str</td><td>str</td><td>i64</td><td>u64</td><td>u64</td></tr></thead><tbody><tr><td>null</td><td>null</td><td>null</td><td>null</td><td>null</td><td>null</td><td>null</td><td>1</td><td>2020-01-02</td><td>&quot;Vente&quot;</td><td>165000.0</td><td>347</td><td>null</td><td>0</td><td>&quot;RUE&quot;</td><td>&quot;20&quot;</td><td>&quot;DU CHATEAU&quot;</td><td>1</td><td>1170.0</td><td>&quot;CHEVRY&quot;</td><td>&quot;01&quot;</td><td>&quot;103&quot;</td><td>null</td><td>&quot;A&quot;</td><td>302</td><td>null</td><td>&quot;12&quot;</td><td>48.22</td><td>null</td><td>null</td><td>null</td><td>null</td><td>null</td><td>null</td><td>null</td><td>null</td><td>2</td><td>2</td><td>&quot;Appartement&quot;</td><td>null</td><td>48</td><td>3</td><td>null</td><td>null</td><td>0</td><td>&quot;GUIRAO&quot;</td><td>&quot;01103&quot;</td><td>48</td><td>15137228140333276830</td><td>9259935209207193945</td></tr><tr><td>null</td><td>null</td><td>null</td><td>null</td><td>null</td><td>null</td><td>null</td><td>1</td><td>2020-01-02</td><td>&quot;Vente&quot;</td><td>355680.0</td><td>4</td><td>null</td><td>15</td><td>&quot;BD&quot;</td><td>&quot;1000&quot;</td><td>&quot;EDOUARD BAUDOIN&quot;</td><td>205</td><td>6160.0</td><td>&quot;ANTIBES&quot;</td><td>&quot;06&quot;</td><td>&quot;004&quot;</td><td>null</td><td>&quot;CP&quot;</td><td>186</td><td>null</td><td>&quot;132&quot;</td><td>39.11</td><td>null</td><td>null</td><td>null</td><td>null</td><td>null</td><td>null</td><td>null</td><td>null</td><td>2</td><td>2</td><td>&quot;Appartement&quot;</td><td>null</td><td>40</td><td>1</td><td>null</td><td>null</td><td>0</td><td>&quot;HARNOIS&quot;</td><td>&quot;06004&quot;</td><td>40</td><td>17560310484389916846</td><td>13813125794198133400</td></tr><tr><td>null</td><td>null</td><td>null</td><td>null</td><td>null</td><td>null</td><td>null</td><td>1</td><td>2020-01-02</td><td>&quot;Vente&quot;</td><td>229500.0</td><td>20</td><td>&quot;B&quot;</td><td>0</td><td>&quot;RUE&quot;</td><td>&quot;3975&quot;</td><td>&quot;MARCEAU&quot;</td><td>142</td><td>6000.0</td><td>&quot;NICE&quot;</td><td>&quot;06&quot;</td><td>&quot;088&quot;</td><td>null</td><td>&quot;LS&quot;</td><td>169</td><td>null</td><td>&quot;99&quot;</td><td>80.25</td><td>null</td><td>null</td><td>null</td><td>null</td><td>null</td><td>null</td><td>null</td><td>null</td><td>1</td><td>2</td><td>&quot;Appartement&quot;</td><td>null</td><td>82</td><td>3</td><td>null</td><td>null</td><td>0</td><td>&quot;ROGIER&quot;</td><td>&quot;06088&quot;</td><td>82</td><td>9794828718374656783</td><td>15600841261221439612</td></tr><tr><td>null</td><td>null</td><td>null</td><td>null</td><td>null</td><td>null</td><td>null</td><td>1</td><td>2020-01-02</td><td>&quot;Vente&quot;</td><td>125000.0</td><td>550</td><td>null</td><td>3</td><td>&quot;RTE&quot;</td><td>&quot;1011&quot;</td><td>&quot;DES VESPINS RN7&quot;</td><td>228</td><td>6700.0</td><td>&quot;SAINT LAURENT DU VAR&quot;</td><td>&quot;06&quot;</td><td>&quot;123&quot;</td><td>null</td><td>&quot;AO&quot;</td><td>348</td><td>null</td><td>&quot;242&quot;</td><td>27.51</td><td>null</td><td>null</td><td>null</td><td>null</td><td>null</td><td>null</td><td>null</td><td>null</td><td>1</td><td>2</td><td>&quot;Appartement&quot;</td><td>null</td><td>27</td><td>1</td><td>null</td><td>null</td><td>0</td><td>&quot;BOCQUIER&quot;</td><td>&quot;06123&quot;</td><td>27</td><td>5313800244361690172</td><td>16145551626827266416</td></tr><tr><td>null</td><td>null</td><td>null</td><td>null</td><td>null</td><td>null</td><td>null</td><td>1</td><td>2020-01-02</td><td>&quot;Vente&quot;</td><td>90000.0</td><td>9300</td><td>null</td><td>18</td><td>&quot;RES&quot;</td><td>&quot;A084&quot;</td><td>&quot;LES ARPEGES BD DES ABA&quot;</td><td>326</td><td>13400.0</td><td>&quot;AUBAGNE&quot;</td><td>&quot;13&quot;</td><td>&quot;005&quot;</td><td>null</td><td>&quot;AW&quot;</td><td>224</td><td>null</td><td>&quot;218&quot;</td><td>47.33</td><td>null</td><td>null</td><td>null</td><td>null</td><td>null</td><td>null</td><td>null</td><td>null</td><td>1</td><td>2</td><td>&quot;Appartement&quot;</td><td>null</td><td>47</td><td>2</td><td>null</td><td>null</td><td>0</td><td>&quot;GUILLOSSOU&quot;</td><td>&quot;13005&quot;</td><td>47</td><td>16785843096445396717</td><td>5698024270704249500</td></tr></tbody></table></div>"
      ],
      "text/plain": [
       "shape: (5, 50)\n",
       "┌───────────┬───────────┬───────────┬───────────┬───┬───────────┬───────────┬───────────┬──────────┐\n",
       "│ code_serv ┆ reference ┆ 1_article ┆ 2_article ┆ … ┆ id_code_d ┆ surface_t ┆ id_bien   ┆ id_vente │\n",
       "│ ice_ch    ┆ _document ┆ s_cgi     ┆ s_cgi     ┆   ┆ epcommune ┆ otale     ┆ ---       ┆ ---      │\n",
       "│ ---       ┆ ---       ┆ ---       ┆ ---       ┆   ┆ ---       ┆ ---       ┆ u64       ┆ u64      │\n",
       "│ null      ┆ null      ┆ null      ┆ null      ┆   ┆ str       ┆ i64       ┆           ┆          │\n",
       "╞═══════════╪═══════════╪═══════════╪═══════════╪═══╪═══════════╪═══════════╪═══════════╪══════════╡\n",
       "│ null      ┆ null      ┆ null      ┆ null      ┆ … ┆ 01103     ┆ 48        ┆ 151372281 ┆ 92599352 │\n",
       "│           ┆           ┆           ┆           ┆   ┆           ┆           ┆ 403332768 ┆ 09207193 │\n",
       "│           ┆           ┆           ┆           ┆   ┆           ┆           ┆ 30        ┆ 945      │\n",
       "│ null      ┆ null      ┆ null      ┆ null      ┆ … ┆ 06004     ┆ 40        ┆ 175603104 ┆ 13813125 │\n",
       "│           ┆           ┆           ┆           ┆   ┆           ┆           ┆ 843899168 ┆ 79419813 │\n",
       "│           ┆           ┆           ┆           ┆   ┆           ┆           ┆ 46        ┆ 3400     │\n",
       "│ null      ┆ null      ┆ null      ┆ null      ┆ … ┆ 06088     ┆ 82        ┆ 979482871 ┆ 15600841 │\n",
       "│           ┆           ┆           ┆           ┆   ┆           ┆           ┆ 837465678 ┆ 26122143 │\n",
       "│           ┆           ┆           ┆           ┆   ┆           ┆           ┆ 3         ┆ 9612     │\n",
       "│ null      ┆ null      ┆ null      ┆ null      ┆ … ┆ 06123     ┆ 27        ┆ 531380024 ┆ 16145551 │\n",
       "│           ┆           ┆           ┆           ┆   ┆           ┆           ┆ 436169017 ┆ 62682726 │\n",
       "│           ┆           ┆           ┆           ┆   ┆           ┆           ┆ 2         ┆ 6416     │\n",
       "│ null      ┆ null      ┆ null      ┆ null      ┆ … ┆ 13005     ┆ 47        ┆ 167858430 ┆ 56980242 │\n",
       "│           ┆           ┆           ┆           ┆   ┆           ┆           ┆ 964453967 ┆ 70704249 │\n",
       "│           ┆           ┆           ┆           ┆   ┆           ┆           ┆ 17        ┆ 500      │\n",
       "└───────────┴───────────┴───────────┴───────────┴───┴───────────┴───────────┴───────────┴──────────┘"
      ]
     },
     "execution_count": 1059,
     "metadata": {},
     "output_type": "execute_result"
    }
   ],
   "source": [
    "df_immo.head()"
   ]
  },
  {
   "cell_type": "code",
   "execution_count": 1060,
   "metadata": {},
   "outputs": [],
   "source": [
    "df_vente = df_immo.select(\n",
    "    'id_vente',\n",
    "    'nom_de_l_acquereur',\n",
    "    'id_bien',\n",
    "    'date_mutation',\n",
    "    'valeur_fonciere'\n",
    ")"
   ]
  },
  {
   "cell_type": "code",
   "execution_count": 1061,
   "metadata": {},
   "outputs": [
    {
     "data": {
      "text/html": [
       "<div><style>\n",
       ".dataframe > thead > tr,\n",
       ".dataframe > tbody > tr {\n",
       "  text-align: right;\n",
       "  white-space: pre-wrap;\n",
       "}\n",
       "</style>\n",
       "<small>shape: (34_169, 5)</small><table border=\"1\" class=\"dataframe\"><thead><tr><th>id_vente</th><th>nom_de_l_acquereur</th><th>id_bien</th><th>date_mutation</th><th>valeur_fonciere</th></tr><tr><td>u64</td><td>str</td><td>u64</td><td>date</td><td>f64</td></tr></thead><tbody><tr><td>9259935209207193945</td><td>&quot;GUIRAO&quot;</td><td>15137228140333276830</td><td>2020-01-02</td><td>165000.0</td></tr><tr><td>13813125794198133400</td><td>&quot;HARNOIS&quot;</td><td>17560310484389916846</td><td>2020-01-02</td><td>355680.0</td></tr><tr><td>15600841261221439612</td><td>&quot;ROGIER&quot;</td><td>9794828718374656783</td><td>2020-01-02</td><td>229500.0</td></tr><tr><td>16145551626827266416</td><td>&quot;BOCQUIER&quot;</td><td>5313800244361690172</td><td>2020-01-02</td><td>125000.0</td></tr><tr><td>5698024270704249500</td><td>&quot;GUILLOSSOU&quot;</td><td>16785843096445396717</td><td>2020-01-02</td><td>90000.0</td></tr><tr><td>&hellip;</td><td>&hellip;</td><td>&hellip;</td><td>&hellip;</td><td>&hellip;</td></tr><tr><td>6466178643350014766</td><td>&quot;SAADOUN&quot;</td><td>1393333401999000253</td><td>2020-06-30</td><td>115000.0</td></tr><tr><td>16513099725295730246</td><td>&quot;GUECHI&quot;</td><td>6364534923693533129</td><td>2020-06-30</td><td>129000.0</td></tr><tr><td>9874549485008201950</td><td>&quot;PEDRON&quot;</td><td>10357380744557702374</td><td>2020-06-30</td><td>212000.0</td></tr><tr><td>167432590582771712</td><td>&quot;HOUARD&quot;</td><td>17027493186363633437</td><td>2020-06-30</td><td>220000.0</td></tr><tr><td>4228773406687001932</td><td>&quot;BOIN&quot;</td><td>16620929746766903255</td><td>2020-06-30</td><td>121000.0</td></tr></tbody></table></div>"
      ],
      "text/plain": [
       "shape: (34_169, 5)\n",
       "┌─────────────────────┬────────────────────┬─────────────────────┬───────────────┬─────────────────┐\n",
       "│ id_vente            ┆ nom_de_l_acquereur ┆ id_bien             ┆ date_mutation ┆ valeur_fonciere │\n",
       "│ ---                 ┆ ---                ┆ ---                 ┆ ---           ┆ ---             │\n",
       "│ u64                 ┆ str                ┆ u64                 ┆ date          ┆ f64             │\n",
       "╞═════════════════════╪════════════════════╪═════════════════════╪═══════════════╪═════════════════╡\n",
       "│ 9259935209207193945 ┆ GUIRAO             ┆ 1513722814033327683 ┆ 2020-01-02    ┆ 165000.0        │\n",
       "│                     ┆                    ┆ 0                   ┆               ┆                 │\n",
       "│ 1381312579419813340 ┆ HARNOIS            ┆ 1756031048438991684 ┆ 2020-01-02    ┆ 355680.0        │\n",
       "│ 0                   ┆                    ┆ 6                   ┆               ┆                 │\n",
       "│ 1560084126122143961 ┆ ROGIER             ┆ 9794828718374656783 ┆ 2020-01-02    ┆ 229500.0        │\n",
       "│ 2                   ┆                    ┆                     ┆               ┆                 │\n",
       "│ 1614555162682726641 ┆ BOCQUIER           ┆ 5313800244361690172 ┆ 2020-01-02    ┆ 125000.0        │\n",
       "│ 6                   ┆                    ┆                     ┆               ┆                 │\n",
       "│ 5698024270704249500 ┆ GUILLOSSOU         ┆ 1678584309644539671 ┆ 2020-01-02    ┆ 90000.0         │\n",
       "│                     ┆                    ┆ 7                   ┆               ┆                 │\n",
       "│ …                   ┆ …                  ┆ …                   ┆ …             ┆ …               │\n",
       "│ 6466178643350014766 ┆ SAADOUN            ┆ 1393333401999000253 ┆ 2020-06-30    ┆ 115000.0        │\n",
       "│ 1651309972529573024 ┆ GUECHI             ┆ 6364534923693533129 ┆ 2020-06-30    ┆ 129000.0        │\n",
       "│ 6                   ┆                    ┆                     ┆               ┆                 │\n",
       "│ 9874549485008201950 ┆ PEDRON             ┆ 1035738074455770237 ┆ 2020-06-30    ┆ 212000.0        │\n",
       "│                     ┆                    ┆ 4                   ┆               ┆                 │\n",
       "│ 167432590582771712  ┆ HOUARD             ┆ 1702749318636363343 ┆ 2020-06-30    ┆ 220000.0        │\n",
       "│                     ┆                    ┆ 7                   ┆               ┆                 │\n",
       "│ 4228773406687001932 ┆ BOIN               ┆ 1662092974676690325 ┆ 2020-06-30    ┆ 121000.0        │\n",
       "│                     ┆                    ┆ 5                   ┆               ┆                 │\n",
       "└─────────────────────┴────────────────────┴─────────────────────┴───────────────┴─────────────────┘"
      ]
     },
     "execution_count": 1061,
     "metadata": {},
     "output_type": "execute_result"
    }
   ],
   "source": [
    "df_vente"
   ]
  },
  {
   "cell_type": "code",
   "execution_count": 1062,
   "metadata": {},
   "outputs": [],
   "source": [
    "df_vente = df_vente.rename({\n",
    "    \"nom_de_l_acquereur\":\"nom_acquereur\",\n",
    "    \"date_mutation\":\"date_vente\"\n",
    "    })"
   ]
  },
  {
   "cell_type": "code",
   "execution_count": 1063,
   "metadata": {},
   "outputs": [],
   "source": [
    "df_vente = df_vente.select(\n",
    "    \"id_vente\",\n",
    "    \"id_bien\",\n",
    "    \"date_vente\",\n",
    "    \"valeur_fonciere\",\n",
    "    \"nom_acquereur\"\n",
    ")"
   ]
  },
  {
   "cell_type": "code",
   "execution_count": 1064,
   "metadata": {},
   "outputs": [],
   "source": [
    "df_vente.write_csv('./data_clean/vente.csv')"
   ]
  },
  {
   "cell_type": "markdown",
   "metadata": {},
   "source": [
    "### Préparation du fichier 'commune.csv'"
   ]
  },
  {
   "cell_type": "code",
   "execution_count": 1065,
   "metadata": {},
   "outputs": [
    {
     "data": {
      "text/html": [
       "<div><style>\n",
       ".dataframe > thead > tr,\n",
       ".dataframe > tbody > tr {\n",
       "  text-align: right;\n",
       "  white-space: pre-wrap;\n",
       "}\n",
       "</style>\n",
       "<small>shape: (34_991, 9)</small><table border=\"1\" class=\"dataframe\"><thead><tr><th>codreg</th><th>coddep</th><th>codarr</th><th>codcan</th><th>codcom</th><th>com</th><th>pmun</th><th>pcap</th><th>ptot</th></tr><tr><td>i64</td><td>str</td><td>str</td><td>str</td><td>str</td><td>str</td><td>i64</td><td>i64</td><td>i64</td></tr></thead><tbody><tr><td>84</td><td>&quot;01&quot;</td><td>&quot;02&quot;</td><td>&quot;08&quot;</td><td>&quot;001&quot;</td><td>&quot;L&#x27;Abergement-Clémenciat&quot;</td><td>779</td><td>19</td><td>798</td></tr><tr><td>84</td><td>&quot;01&quot;</td><td>&quot;01&quot;</td><td>&quot;01&quot;</td><td>&quot;002&quot;</td><td>&quot;L&#x27;Abergement-de-Varey&quot;</td><td>256</td><td>1</td><td>257</td></tr><tr><td>84</td><td>&quot;01&quot;</td><td>&quot;01&quot;</td><td>&quot;01&quot;</td><td>&quot;004&quot;</td><td>&quot;Ambérieu-en-Bugey&quot;</td><td>14134</td><td>380</td><td>14514</td></tr><tr><td>84</td><td>&quot;01&quot;</td><td>&quot;02&quot;</td><td>&quot;22&quot;</td><td>&quot;005&quot;</td><td>&quot;Ambérieux-en-Dombes&quot;</td><td>1751</td><td>25</td><td>1776</td></tr><tr><td>84</td><td>&quot;01&quot;</td><td>&quot;01&quot;</td><td>&quot;04&quot;</td><td>&quot;006&quot;</td><td>&quot;Ambléon&quot;</td><td>112</td><td>6</td><td>118</td></tr><tr><td>&hellip;</td><td>&hellip;</td><td>&hellip;</td><td>&hellip;</td><td>&hellip;</td><td>&hellip;</td><td>&hellip;</td><td>&hellip;</td><td>&hellip;</td></tr><tr><td>4</td><td>&quot;974&quot;</td><td>&quot;01&quot;</td><td>&quot;04&quot;</td><td>&quot;420&quot;</td><td>&quot;Sainte-Suzanne&quot;</td><td>24065</td><td>227</td><td>24292</td></tr><tr><td>4</td><td>&quot;974&quot;</td><td>&quot;03&quot;</td><td>&quot;06&quot;</td><td>&quot;421&quot;</td><td>&quot;Salazie&quot;</td><td>7136</td><td>73</td><td>7209</td></tr><tr><td>4</td><td>&quot;974&quot;</td><td>&quot;02&quot;</td><td>&quot;99&quot;</td><td>&quot;422&quot;</td><td>&quot;Le Tampon&quot;</td><td>79824</td><td>1009</td><td>80833</td></tr><tr><td>4</td><td>&quot;974&quot;</td><td>&quot;04&quot;</td><td>&quot;14&quot;</td><td>&quot;423&quot;</td><td>&quot;Les Trois-Bassins&quot;</td><td>7015</td><td>91</td><td>7106</td></tr><tr><td>4</td><td>&quot;974&quot;</td><td>&quot;02&quot;</td><td>&quot;16&quot;</td><td>&quot;424&quot;</td><td>&quot;Cilaos&quot;</td><td>5538</td><td>85</td><td>5623</td></tr></tbody></table></div>"
      ],
      "text/plain": [
       "shape: (34_991, 9)\n",
       "┌────────┬────────┬────────┬────────┬───┬─────────────────────────┬───────┬──────┬───────┐\n",
       "│ codreg ┆ coddep ┆ codarr ┆ codcan ┆ … ┆ com                     ┆ pmun  ┆ pcap ┆ ptot  │\n",
       "│ ---    ┆ ---    ┆ ---    ┆ ---    ┆   ┆ ---                     ┆ ---   ┆ ---  ┆ ---   │\n",
       "│ i64    ┆ str    ┆ str    ┆ str    ┆   ┆ str                     ┆ i64   ┆ i64  ┆ i64   │\n",
       "╞════════╪════════╪════════╪════════╪═══╪═════════════════════════╪═══════╪══════╪═══════╡\n",
       "│ 84     ┆ 01     ┆ 02     ┆ 08     ┆ … ┆ L'Abergement-Clémenciat ┆ 779   ┆ 19   ┆ 798   │\n",
       "│ 84     ┆ 01     ┆ 01     ┆ 01     ┆ … ┆ L'Abergement-de-Varey   ┆ 256   ┆ 1    ┆ 257   │\n",
       "│ 84     ┆ 01     ┆ 01     ┆ 01     ┆ … ┆ Ambérieu-en-Bugey       ┆ 14134 ┆ 380  ┆ 14514 │\n",
       "│ 84     ┆ 01     ┆ 02     ┆ 22     ┆ … ┆ Ambérieux-en-Dombes     ┆ 1751  ┆ 25   ┆ 1776  │\n",
       "│ 84     ┆ 01     ┆ 01     ┆ 04     ┆ … ┆ Ambléon                 ┆ 112   ┆ 6    ┆ 118   │\n",
       "│ …      ┆ …      ┆ …      ┆ …      ┆ … ┆ …                       ┆ …     ┆ …    ┆ …     │\n",
       "│ 4      ┆ 974    ┆ 01     ┆ 04     ┆ … ┆ Sainte-Suzanne          ┆ 24065 ┆ 227  ┆ 24292 │\n",
       "│ 4      ┆ 974    ┆ 03     ┆ 06     ┆ … ┆ Salazie                 ┆ 7136  ┆ 73   ┆ 7209  │\n",
       "│ 4      ┆ 974    ┆ 02     ┆ 99     ┆ … ┆ Le Tampon               ┆ 79824 ┆ 1009 ┆ 80833 │\n",
       "│ 4      ┆ 974    ┆ 04     ┆ 14     ┆ … ┆ Les Trois-Bassins       ┆ 7015  ┆ 91   ┆ 7106  │\n",
       "│ 4      ┆ 974    ┆ 02     ┆ 16     ┆ … ┆ Cilaos                  ┆ 5538  ┆ 85   ┆ 5623  │\n",
       "└────────┴────────┴────────┴────────┴───┴─────────────────────────┴───────┴──────┴───────┘"
      ]
     },
     "execution_count": 1065,
     "metadata": {},
     "output_type": "execute_result"
    }
   ],
   "source": [
    "df_com"
   ]
  },
  {
   "cell_type": "code",
   "execution_count": 1066,
   "metadata": {},
   "outputs": [
    {
     "data": {
      "text/html": [
       "<div><style>\n",
       ".dataframe > thead > tr,\n",
       ".dataframe > tbody > tr {\n",
       "  text-align: right;\n",
       "  white-space: pre-wrap;\n",
       "}\n",
       "</style>\n",
       "<small>shape: (1, 9)</small><table border=\"1\" class=\"dataframe\"><thead><tr><th>codreg</th><th>coddep</th><th>codarr</th><th>codcan</th><th>codcom</th><th>com</th><th>pmun</th><th>pcap</th><th>ptot</th></tr><tr><td>u32</td><td>u32</td><td>u32</td><td>u32</td><td>u32</td><td>u32</td><td>u32</td><td>u32</td><td>u32</td></tr></thead><tbody><tr><td>0</td><td>0</td><td>1</td><td>1</td><td>0</td><td>0</td><td>0</td><td>0</td><td>0</td></tr></tbody></table></div>"
      ],
      "text/plain": [
       "shape: (1, 9)\n",
       "┌────────┬────────┬────────┬────────┬───┬─────┬──────┬──────┬──────┐\n",
       "│ codreg ┆ coddep ┆ codarr ┆ codcan ┆ … ┆ com ┆ pmun ┆ pcap ┆ ptot │\n",
       "│ ---    ┆ ---    ┆ ---    ┆ ---    ┆   ┆ --- ┆ ---  ┆ ---  ┆ ---  │\n",
       "│ u32    ┆ u32    ┆ u32    ┆ u32    ┆   ┆ u32 ┆ u32  ┆ u32  ┆ u32  │\n",
       "╞════════╪════════╪════════╪════════╪═══╪═════╪══════╪══════╪══════╡\n",
       "│ 0      ┆ 0      ┆ 1      ┆ 1      ┆ … ┆ 0   ┆ 0    ┆ 0    ┆ 0    │\n",
       "└────────┴────────┴────────┴────────┴───┴─────┴──────┴──────┴──────┘"
      ]
     },
     "execution_count": 1066,
     "metadata": {},
     "output_type": "execute_result"
    }
   ],
   "source": [
    "df_com.null_count()"
   ]
  },
  {
   "cell_type": "code",
   "execution_count": 1067,
   "metadata": {},
   "outputs": [],
   "source": [
    "df_com = df_com.with_columns(\n",
    "    pl.concat_str([\n",
    "        pl.col(\"coddep\"),\n",
    "        pl.col(\"codcom\")\n",
    "    ])\n",
    "    .alias('id_code_depcommune')\n",
    ")"
   ]
  },
  {
   "cell_type": "code",
   "execution_count": 1068,
   "metadata": {},
   "outputs": [
    {
     "data": {
      "text/html": [
       "<div><style>\n",
       ".dataframe > thead > tr,\n",
       ".dataframe > tbody > tr {\n",
       "  text-align: right;\n",
       "  white-space: pre-wrap;\n",
       "}\n",
       "</style>\n",
       "<small>shape: (34_991, 10)</small><table border=\"1\" class=\"dataframe\"><thead><tr><th>codreg</th><th>coddep</th><th>codarr</th><th>codcan</th><th>codcom</th><th>com</th><th>pmun</th><th>pcap</th><th>ptot</th><th>id_code_depcommune</th></tr><tr><td>i64</td><td>str</td><td>str</td><td>str</td><td>str</td><td>str</td><td>i64</td><td>i64</td><td>i64</td><td>str</td></tr></thead><tbody><tr><td>84</td><td>&quot;01&quot;</td><td>&quot;02&quot;</td><td>&quot;08&quot;</td><td>&quot;001&quot;</td><td>&quot;L&#x27;Abergement-Clémenciat&quot;</td><td>779</td><td>19</td><td>798</td><td>&quot;01001&quot;</td></tr><tr><td>84</td><td>&quot;01&quot;</td><td>&quot;01&quot;</td><td>&quot;01&quot;</td><td>&quot;002&quot;</td><td>&quot;L&#x27;Abergement-de-Varey&quot;</td><td>256</td><td>1</td><td>257</td><td>&quot;01002&quot;</td></tr><tr><td>84</td><td>&quot;01&quot;</td><td>&quot;01&quot;</td><td>&quot;01&quot;</td><td>&quot;004&quot;</td><td>&quot;Ambérieu-en-Bugey&quot;</td><td>14134</td><td>380</td><td>14514</td><td>&quot;01004&quot;</td></tr><tr><td>84</td><td>&quot;01&quot;</td><td>&quot;02&quot;</td><td>&quot;22&quot;</td><td>&quot;005&quot;</td><td>&quot;Ambérieux-en-Dombes&quot;</td><td>1751</td><td>25</td><td>1776</td><td>&quot;01005&quot;</td></tr><tr><td>84</td><td>&quot;01&quot;</td><td>&quot;01&quot;</td><td>&quot;04&quot;</td><td>&quot;006&quot;</td><td>&quot;Ambléon&quot;</td><td>112</td><td>6</td><td>118</td><td>&quot;01006&quot;</td></tr><tr><td>&hellip;</td><td>&hellip;</td><td>&hellip;</td><td>&hellip;</td><td>&hellip;</td><td>&hellip;</td><td>&hellip;</td><td>&hellip;</td><td>&hellip;</td><td>&hellip;</td></tr><tr><td>4</td><td>&quot;974&quot;</td><td>&quot;01&quot;</td><td>&quot;04&quot;</td><td>&quot;420&quot;</td><td>&quot;Sainte-Suzanne&quot;</td><td>24065</td><td>227</td><td>24292</td><td>&quot;974420&quot;</td></tr><tr><td>4</td><td>&quot;974&quot;</td><td>&quot;03&quot;</td><td>&quot;06&quot;</td><td>&quot;421&quot;</td><td>&quot;Salazie&quot;</td><td>7136</td><td>73</td><td>7209</td><td>&quot;974421&quot;</td></tr><tr><td>4</td><td>&quot;974&quot;</td><td>&quot;02&quot;</td><td>&quot;99&quot;</td><td>&quot;422&quot;</td><td>&quot;Le Tampon&quot;</td><td>79824</td><td>1009</td><td>80833</td><td>&quot;974422&quot;</td></tr><tr><td>4</td><td>&quot;974&quot;</td><td>&quot;04&quot;</td><td>&quot;14&quot;</td><td>&quot;423&quot;</td><td>&quot;Les Trois-Bassins&quot;</td><td>7015</td><td>91</td><td>7106</td><td>&quot;974423&quot;</td></tr><tr><td>4</td><td>&quot;974&quot;</td><td>&quot;02&quot;</td><td>&quot;16&quot;</td><td>&quot;424&quot;</td><td>&quot;Cilaos&quot;</td><td>5538</td><td>85</td><td>5623</td><td>&quot;974424&quot;</td></tr></tbody></table></div>"
      ],
      "text/plain": [
       "shape: (34_991, 10)\n",
       "┌────────┬────────┬────────┬────────┬───┬───────┬──────┬───────┬────────────────────┐\n",
       "│ codreg ┆ coddep ┆ codarr ┆ codcan ┆ … ┆ pmun  ┆ pcap ┆ ptot  ┆ id_code_depcommune │\n",
       "│ ---    ┆ ---    ┆ ---    ┆ ---    ┆   ┆ ---   ┆ ---  ┆ ---   ┆ ---                │\n",
       "│ i64    ┆ str    ┆ str    ┆ str    ┆   ┆ i64   ┆ i64  ┆ i64   ┆ str                │\n",
       "╞════════╪════════╪════════╪════════╪═══╪═══════╪══════╪═══════╪════════════════════╡\n",
       "│ 84     ┆ 01     ┆ 02     ┆ 08     ┆ … ┆ 779   ┆ 19   ┆ 798   ┆ 01001              │\n",
       "│ 84     ┆ 01     ┆ 01     ┆ 01     ┆ … ┆ 256   ┆ 1    ┆ 257   ┆ 01002              │\n",
       "│ 84     ┆ 01     ┆ 01     ┆ 01     ┆ … ┆ 14134 ┆ 380  ┆ 14514 ┆ 01004              │\n",
       "│ 84     ┆ 01     ┆ 02     ┆ 22     ┆ … ┆ 1751  ┆ 25   ┆ 1776  ┆ 01005              │\n",
       "│ 84     ┆ 01     ┆ 01     ┆ 04     ┆ … ┆ 112   ┆ 6    ┆ 118   ┆ 01006              │\n",
       "│ …      ┆ …      ┆ …      ┆ …      ┆ … ┆ …     ┆ …    ┆ …     ┆ …                  │\n",
       "│ 4      ┆ 974    ┆ 01     ┆ 04     ┆ … ┆ 24065 ┆ 227  ┆ 24292 ┆ 974420             │\n",
       "│ 4      ┆ 974    ┆ 03     ┆ 06     ┆ … ┆ 7136  ┆ 73   ┆ 7209  ┆ 974421             │\n",
       "│ 4      ┆ 974    ┆ 02     ┆ 99     ┆ … ┆ 79824 ┆ 1009 ┆ 80833 ┆ 974422             │\n",
       "│ 4      ┆ 974    ┆ 04     ┆ 14     ┆ … ┆ 7015  ┆ 91   ┆ 7106  ┆ 974423             │\n",
       "│ 4      ┆ 974    ┆ 02     ┆ 16     ┆ … ┆ 5538  ┆ 85   ┆ 5623  ┆ 974424             │\n",
       "└────────┴────────┴────────┴────────┴───┴───────┴──────┴───────┴────────────────────┘"
      ]
     },
     "execution_count": 1068,
     "metadata": {},
     "output_type": "execute_result"
    }
   ],
   "source": [
    "df_com"
   ]
  },
  {
   "cell_type": "code",
   "execution_count": 1069,
   "metadata": {},
   "outputs": [],
   "source": [
    "df_commune = df_com.select(\n",
    "    \"codreg\",\n",
    "    \"coddep\",\n",
    "    \"codcom\",\n",
    "    \"com\",\n",
    "    \"ptot\",\n",
    "    \"id_code_depcommune\"\n",
    ")"
   ]
  },
  {
   "cell_type": "code",
   "execution_count": 1070,
   "metadata": {},
   "outputs": [
    {
     "data": {
      "text/html": [
       "<div><style>\n",
       ".dataframe > thead > tr,\n",
       ".dataframe > tbody > tr {\n",
       "  text-align: right;\n",
       "  white-space: pre-wrap;\n",
       "}\n",
       "</style>\n",
       "<small>shape: (34_991, 6)</small><table border=\"1\" class=\"dataframe\"><thead><tr><th>codreg</th><th>coddep</th><th>codcom</th><th>com</th><th>ptot</th><th>id_code_depcommune</th></tr><tr><td>i64</td><td>str</td><td>str</td><td>str</td><td>i64</td><td>str</td></tr></thead><tbody><tr><td>84</td><td>&quot;01&quot;</td><td>&quot;001&quot;</td><td>&quot;L&#x27;Abergement-Clémenciat&quot;</td><td>798</td><td>&quot;01001&quot;</td></tr><tr><td>84</td><td>&quot;01&quot;</td><td>&quot;002&quot;</td><td>&quot;L&#x27;Abergement-de-Varey&quot;</td><td>257</td><td>&quot;01002&quot;</td></tr><tr><td>84</td><td>&quot;01&quot;</td><td>&quot;004&quot;</td><td>&quot;Ambérieu-en-Bugey&quot;</td><td>14514</td><td>&quot;01004&quot;</td></tr><tr><td>84</td><td>&quot;01&quot;</td><td>&quot;005&quot;</td><td>&quot;Ambérieux-en-Dombes&quot;</td><td>1776</td><td>&quot;01005&quot;</td></tr><tr><td>84</td><td>&quot;01&quot;</td><td>&quot;006&quot;</td><td>&quot;Ambléon&quot;</td><td>118</td><td>&quot;01006&quot;</td></tr><tr><td>&hellip;</td><td>&hellip;</td><td>&hellip;</td><td>&hellip;</td><td>&hellip;</td><td>&hellip;</td></tr><tr><td>4</td><td>&quot;974&quot;</td><td>&quot;420&quot;</td><td>&quot;Sainte-Suzanne&quot;</td><td>24292</td><td>&quot;974420&quot;</td></tr><tr><td>4</td><td>&quot;974&quot;</td><td>&quot;421&quot;</td><td>&quot;Salazie&quot;</td><td>7209</td><td>&quot;974421&quot;</td></tr><tr><td>4</td><td>&quot;974&quot;</td><td>&quot;422&quot;</td><td>&quot;Le Tampon&quot;</td><td>80833</td><td>&quot;974422&quot;</td></tr><tr><td>4</td><td>&quot;974&quot;</td><td>&quot;423&quot;</td><td>&quot;Les Trois-Bassins&quot;</td><td>7106</td><td>&quot;974423&quot;</td></tr><tr><td>4</td><td>&quot;974&quot;</td><td>&quot;424&quot;</td><td>&quot;Cilaos&quot;</td><td>5623</td><td>&quot;974424&quot;</td></tr></tbody></table></div>"
      ],
      "text/plain": [
       "shape: (34_991, 6)\n",
       "┌────────┬────────┬────────┬─────────────────────────┬───────┬────────────────────┐\n",
       "│ codreg ┆ coddep ┆ codcom ┆ com                     ┆ ptot  ┆ id_code_depcommune │\n",
       "│ ---    ┆ ---    ┆ ---    ┆ ---                     ┆ ---   ┆ ---                │\n",
       "│ i64    ┆ str    ┆ str    ┆ str                     ┆ i64   ┆ str                │\n",
       "╞════════╪════════╪════════╪═════════════════════════╪═══════╪════════════════════╡\n",
       "│ 84     ┆ 01     ┆ 001    ┆ L'Abergement-Clémenciat ┆ 798   ┆ 01001              │\n",
       "│ 84     ┆ 01     ┆ 002    ┆ L'Abergement-de-Varey   ┆ 257   ┆ 01002              │\n",
       "│ 84     ┆ 01     ┆ 004    ┆ Ambérieu-en-Bugey       ┆ 14514 ┆ 01004              │\n",
       "│ 84     ┆ 01     ┆ 005    ┆ Ambérieux-en-Dombes     ┆ 1776  ┆ 01005              │\n",
       "│ 84     ┆ 01     ┆ 006    ┆ Ambléon                 ┆ 118   ┆ 01006              │\n",
       "│ …      ┆ …      ┆ …      ┆ …                       ┆ …     ┆ …                  │\n",
       "│ 4      ┆ 974    ┆ 420    ┆ Sainte-Suzanne          ┆ 24292 ┆ 974420             │\n",
       "│ 4      ┆ 974    ┆ 421    ┆ Salazie                 ┆ 7209  ┆ 974421             │\n",
       "│ 4      ┆ 974    ┆ 422    ┆ Le Tampon               ┆ 80833 ┆ 974422             │\n",
       "│ 4      ┆ 974    ┆ 423    ┆ Les Trois-Bassins       ┆ 7106  ┆ 974423             │\n",
       "│ 4      ┆ 974    ┆ 424    ┆ Cilaos                  ┆ 5623  ┆ 974424             │\n",
       "└────────┴────────┴────────┴─────────────────────────┴───────┴────────────────────┘"
      ]
     },
     "execution_count": 1070,
     "metadata": {},
     "output_type": "execute_result"
    }
   ],
   "source": [
    "df_commune"
   ]
  },
  {
   "cell_type": "code",
   "execution_count": 1071,
   "metadata": {},
   "outputs": [],
   "source": [
    "df_commune = df_commune.rename({\n",
    "    \"codreg\":\"id_reg\",\n",
    "    \"coddep\":\"code_dep\",\n",
    "    \"codcom\":\"code_commune\",\n",
    "    \"com\":\"nom_commune\",\n",
    "    \"ptot\":\"pop_totale\"\n",
    "})"
   ]
  },
  {
   "cell_type": "code",
   "execution_count": 1072,
   "metadata": {},
   "outputs": [],
   "source": [
    "df_commune = df_commune.select(\n",
    "    \"id_code_depcommune\",\n",
    "    \"id_reg\",\n",
    "    \"code_dep\",\n",
    "    \"code_commune\",\n",
    "    \"pop_totale\",\n",
    "    \"nom_commune\"\n",
    ")"
   ]
  },
  {
   "cell_type": "code",
   "execution_count": 1073,
   "metadata": {},
   "outputs": [
    {
     "data": {
      "text/html": [
       "<div><style>\n",
       ".dataframe > thead > tr,\n",
       ".dataframe > tbody > tr {\n",
       "  text-align: right;\n",
       "  white-space: pre-wrap;\n",
       "}\n",
       "</style>\n",
       "<small>shape: (34_991, 6)</small><table border=\"1\" class=\"dataframe\"><thead><tr><th>id_code_depcommune</th><th>id_reg</th><th>code_dep</th><th>code_commune</th><th>pop_totale</th><th>nom_commune</th></tr><tr><td>str</td><td>i64</td><td>str</td><td>str</td><td>i64</td><td>str</td></tr></thead><tbody><tr><td>&quot;01001&quot;</td><td>84</td><td>&quot;01&quot;</td><td>&quot;001&quot;</td><td>798</td><td>&quot;L&#x27;Abergement-Clémenciat&quot;</td></tr><tr><td>&quot;01002&quot;</td><td>84</td><td>&quot;01&quot;</td><td>&quot;002&quot;</td><td>257</td><td>&quot;L&#x27;Abergement-de-Varey&quot;</td></tr><tr><td>&quot;01004&quot;</td><td>84</td><td>&quot;01&quot;</td><td>&quot;004&quot;</td><td>14514</td><td>&quot;Ambérieu-en-Bugey&quot;</td></tr><tr><td>&quot;01005&quot;</td><td>84</td><td>&quot;01&quot;</td><td>&quot;005&quot;</td><td>1776</td><td>&quot;Ambérieux-en-Dombes&quot;</td></tr><tr><td>&quot;01006&quot;</td><td>84</td><td>&quot;01&quot;</td><td>&quot;006&quot;</td><td>118</td><td>&quot;Ambléon&quot;</td></tr><tr><td>&hellip;</td><td>&hellip;</td><td>&hellip;</td><td>&hellip;</td><td>&hellip;</td><td>&hellip;</td></tr><tr><td>&quot;974420&quot;</td><td>4</td><td>&quot;974&quot;</td><td>&quot;420&quot;</td><td>24292</td><td>&quot;Sainte-Suzanne&quot;</td></tr><tr><td>&quot;974421&quot;</td><td>4</td><td>&quot;974&quot;</td><td>&quot;421&quot;</td><td>7209</td><td>&quot;Salazie&quot;</td></tr><tr><td>&quot;974422&quot;</td><td>4</td><td>&quot;974&quot;</td><td>&quot;422&quot;</td><td>80833</td><td>&quot;Le Tampon&quot;</td></tr><tr><td>&quot;974423&quot;</td><td>4</td><td>&quot;974&quot;</td><td>&quot;423&quot;</td><td>7106</td><td>&quot;Les Trois-Bassins&quot;</td></tr><tr><td>&quot;974424&quot;</td><td>4</td><td>&quot;974&quot;</td><td>&quot;424&quot;</td><td>5623</td><td>&quot;Cilaos&quot;</td></tr></tbody></table></div>"
      ],
      "text/plain": [
       "shape: (34_991, 6)\n",
       "┌────────────────────┬────────┬──────────┬──────────────┬────────────┬─────────────────────────┐\n",
       "│ id_code_depcommune ┆ id_reg ┆ code_dep ┆ code_commune ┆ pop_totale ┆ nom_commune             │\n",
       "│ ---                ┆ ---    ┆ ---      ┆ ---          ┆ ---        ┆ ---                     │\n",
       "│ str                ┆ i64    ┆ str      ┆ str          ┆ i64        ┆ str                     │\n",
       "╞════════════════════╪════════╪══════════╪══════════════╪════════════╪═════════════════════════╡\n",
       "│ 01001              ┆ 84     ┆ 01       ┆ 001          ┆ 798        ┆ L'Abergement-Clémenciat │\n",
       "│ 01002              ┆ 84     ┆ 01       ┆ 002          ┆ 257        ┆ L'Abergement-de-Varey   │\n",
       "│ 01004              ┆ 84     ┆ 01       ┆ 004          ┆ 14514      ┆ Ambérieu-en-Bugey       │\n",
       "│ 01005              ┆ 84     ┆ 01       ┆ 005          ┆ 1776       ┆ Ambérieux-en-Dombes     │\n",
       "│ 01006              ┆ 84     ┆ 01       ┆ 006          ┆ 118        ┆ Ambléon                 │\n",
       "│ …                  ┆ …      ┆ …        ┆ …            ┆ …          ┆ …                       │\n",
       "│ 974420             ┆ 4      ┆ 974      ┆ 420          ┆ 24292      ┆ Sainte-Suzanne          │\n",
       "│ 974421             ┆ 4      ┆ 974      ┆ 421          ┆ 7209       ┆ Salazie                 │\n",
       "│ 974422             ┆ 4      ┆ 974      ┆ 422          ┆ 80833      ┆ Le Tampon               │\n",
       "│ 974423             ┆ 4      ┆ 974      ┆ 423          ┆ 7106       ┆ Les Trois-Bassins       │\n",
       "│ 974424             ┆ 4      ┆ 974      ┆ 424          ┆ 5623       ┆ Cilaos                  │\n",
       "└────────────────────┴────────┴──────────┴──────────────┴────────────┴─────────────────────────┘"
      ]
     },
     "execution_count": 1073,
     "metadata": {},
     "output_type": "execute_result"
    }
   ],
   "source": [
    "df_commune"
   ]
  },
  {
   "cell_type": "code",
   "execution_count": 1074,
   "metadata": {},
   "outputs": [],
   "source": [
    "df_commune.write_csv('./data_clean/commune.csv')"
   ]
  },
  {
   "cell_type": "markdown",
   "metadata": {},
   "source": [
    "### Préparation du fichier 'region.csv'"
   ]
  },
  {
   "cell_type": "code",
   "execution_count": 1075,
   "metadata": {},
   "outputs": [
    {
     "data": {
      "text/html": [
       "<div><style>\n",
       ".dataframe > thead > tr,\n",
       ".dataframe > tbody > tr {\n",
       "  text-align: right;\n",
       "  white-space: pre-wrap;\n",
       "}\n",
       "</style>\n",
       "<small>shape: (1, 37)</small><table border=\"1\" class=\"dataframe\"><thead><tr><th>regrgp_nom</th><th>reg_nom</th><th>reg_nom_old</th><th>aca_nom</th><th>dep_nom</th><th>com_code</th><th>com_code1</th><th>com_code2</th><th>com_id</th><th>com_nom_maj_court</th><th>com_nom_maj</th><th>com_nom</th><th>uu_code</th><th>uu_id</th><th>uucr_id</th><th>uucr_nom</th><th>ze_id</th><th>dep_code</th><th>dep_id</th><th>dep_nom_num</th><th>dep_num_nom</th><th>aca_code</th><th>aca_id</th><th>reg_code</th><th>reg_id</th><th>reg_code_old</th><th>reg_id_old</th><th>fd_id</th><th>fr_id</th><th>fe_id</th><th>uu_id_99</th><th>au_code</th><th>au_id</th><th>auc_id</th><th>auc_nom</th><th>uu_id_10</th><th>geolocalisation</th></tr><tr><td>u32</td><td>u32</td><td>u32</td><td>u32</td><td>u32</td><td>u32</td><td>u32</td><td>u32</td><td>u32</td><td>u32</td><td>u32</td><td>u32</td><td>u32</td><td>u32</td><td>u32</td><td>u32</td><td>u32</td><td>u32</td><td>u32</td><td>u32</td><td>u32</td><td>u32</td><td>u32</td><td>u32</td><td>u32</td><td>u32</td><td>u32</td><td>u32</td><td>u32</td><td>u32</td><td>u32</td><td>u32</td><td>u32</td><td>u32</td><td>u32</td><td>u32</td><td>u32</td></tr></thead><tbody><tr><td>0</td><td>0</td><td>0</td><td>0</td><td>0</td><td>0</td><td>366</td><td>366</td><td>0</td><td>0</td><td>0</td><td>0</td><td>31432</td><td>0</td><td>0</td><td>0</td><td>0</td><td>366</td><td>0</td><td>0</td><td>0</td><td>0</td><td>0</td><td>0</td><td>0</td><td>0</td><td>0</td><td>0</td><td>0</td><td>0</td><td>0</td><td>17472</td><td>0</td><td>0</td><td>0</td><td>0</td><td>2171</td></tr></tbody></table></div>"
      ],
      "text/plain": [
       "shape: (1, 37)\n",
       "┌────────────┬─────────┬─────────────┬─────────┬───┬────────┬─────────┬──────────┬─────────────────┐\n",
       "│ regrgp_nom ┆ reg_nom ┆ reg_nom_old ┆ aca_nom ┆ … ┆ auc_id ┆ auc_nom ┆ uu_id_10 ┆ geolocalisation │\n",
       "│ ---        ┆ ---     ┆ ---         ┆ ---     ┆   ┆ ---    ┆ ---     ┆ ---      ┆ ---             │\n",
       "│ u32        ┆ u32     ┆ u32         ┆ u32     ┆   ┆ u32    ┆ u32     ┆ u32      ┆ u32             │\n",
       "╞════════════╪═════════╪═════════════╪═════════╪═══╪════════╪═════════╪══════════╪═════════════════╡\n",
       "│ 0          ┆ 0       ┆ 0           ┆ 0       ┆ … ┆ 0      ┆ 0       ┆ 0        ┆ 2171            │\n",
       "└────────────┴─────────┴─────────────┴─────────┴───┴────────┴─────────┴──────────┴─────────────────┘"
      ]
     },
     "execution_count": 1075,
     "metadata": {},
     "output_type": "execute_result"
    }
   ],
   "source": [
    "df_geo.null_count()"
   ]
  },
  {
   "cell_type": "code",
   "execution_count": 1076,
   "metadata": {},
   "outputs": [
    {
     "data": {
      "text/html": [
       "<div><style>\n",
       ".dataframe > thead > tr,\n",
       ".dataframe > tbody > tr {\n",
       "  text-align: right;\n",
       "  white-space: pre-wrap;\n",
       "}\n",
       "</style>\n",
       "<small>shape: (38_916, 37)</small><table border=\"1\" class=\"dataframe\"><thead><tr><th>regrgp_nom</th><th>reg_nom</th><th>reg_nom_old</th><th>aca_nom</th><th>dep_nom</th><th>com_code</th><th>com_code1</th><th>com_code2</th><th>com_id</th><th>com_nom_maj_court</th><th>com_nom_maj</th><th>com_nom</th><th>uu_code</th><th>uu_id</th><th>uucr_id</th><th>uucr_nom</th><th>ze_id</th><th>dep_code</th><th>dep_id</th><th>dep_nom_num</th><th>dep_num_nom</th><th>aca_code</th><th>aca_id</th><th>reg_code</th><th>reg_id</th><th>reg_code_old</th><th>reg_id_old</th><th>fd_id</th><th>fr_id</th><th>fe_id</th><th>uu_id_99</th><th>au_code</th><th>au_id</th><th>auc_id</th><th>auc_nom</th><th>uu_id_10</th><th>geolocalisation</th></tr><tr><td>str</td><td>str</td><td>str</td><td>str</td><td>str</td><td>str</td><td>i64</td><td>i64</td><td>str</td><td>str</td><td>str</td><td>str</td><td>i64</td><td>str</td><td>str</td><td>str</td><td>str</td><td>i64</td><td>str</td><td>str</td><td>str</td><td>i64</td><td>str</td><td>i64</td><td>str</td><td>i64</td><td>str</td><td>str</td><td>str</td><td>str</td><td>str</td><td>str</td><td>str</td><td>str</td><td>str</td><td>str</td><td>str</td></tr></thead><tbody><tr><td>&quot;Province&quot;</td><td>&quot;Auvergne-Rhône-Alpes&quot;</td><td>&quot;Rhône-Alpes&quot;</td><td>&quot;Lyon&quot;</td><td>&quot;Ain&quot;</td><td>&quot;01001&quot;</td><td>1001</td><td>1001</td><td>&quot;C01001&quot;</td><td>&quot;L ABERGEMENT CLEMENCIAT&quot;</td><td>&quot;L&#x27;ABERGEMENT-CLEMENCIAT&quot;</td><td>&quot;L&#x27;Abergement-Clémenciat&quot;</td><td>null</td><td>&quot;SO&quot;</td><td>&quot;CR01001&quot;</td><td>&quot;L&#x27;Abergement-Clémenciat&quot;</td><td>&quot;ZE8213&quot;</td><td>1</td><td>&quot;D001&quot;</td><td>&quot;Ain (01)&quot;</td><td>&quot;01 - Ain&quot;</td><td>10</td><td>&quot;A10&quot;</td><td>84</td><td>&quot;R84&quot;</td><td>82</td><td>&quot;R82&quot;</td><td>&quot;FD111&quot;</td><td>&quot;FR11&quot;</td><td>&quot;FE1&quot;</td><td>&quot;SO&quot;</td><td>null</td><td>&quot;AU997&quot;</td><td>&quot;C01001&quot;</td><td>&quot;L&#x27;Abergement-Clémenciat&quot;</td><td>&quot;SO&quot;</td><td>&quot;46.1534255214,4.92611354223&quot;</td></tr><tr><td>&quot;Province&quot;</td><td>&quot;Auvergne-Rhône-Alpes&quot;</td><td>&quot;Rhône-Alpes&quot;</td><td>&quot;Lyon&quot;</td><td>&quot;Ain&quot;</td><td>&quot;01002&quot;</td><td>1002</td><td>1002</td><td>&quot;C01002&quot;</td><td>&quot;L ABERGEMENT DE VAREY&quot;</td><td>&quot;L&#x27;ABERGEMENT-DE-VAREY&quot;</td><td>&quot;L&#x27;Abergement-de-Varey&quot;</td><td>null</td><td>&quot;SO&quot;</td><td>&quot;CR01002&quot;</td><td>&quot;L&#x27;Abergement-de-Varey&quot;</td><td>&quot;ZE8201&quot;</td><td>1</td><td>&quot;D001&quot;</td><td>&quot;Ain (01)&quot;</td><td>&quot;01 - Ain&quot;</td><td>10</td><td>&quot;A10&quot;</td><td>84</td><td>&quot;R84&quot;</td><td>82</td><td>&quot;R82&quot;</td><td>&quot;FD111&quot;</td><td>&quot;FR11&quot;</td><td>&quot;FE1&quot;</td><td>&quot;SO&quot;</td><td>&quot;2&quot;</td><td>&quot;AU002&quot;</td><td>&quot;AU002&quot;</td><td>&quot;Lyon&quot;</td><td>&quot;SO&quot;</td><td>&quot;46.0091878776,5.42801696363&quot;</td></tr><tr><td>&quot;Province&quot;</td><td>&quot;Auvergne-Rhône-Alpes&quot;</td><td>&quot;Rhône-Alpes&quot;</td><td>&quot;Lyon&quot;</td><td>&quot;Ain&quot;</td><td>&quot;01003&quot;</td><td>1003</td><td>1003</td><td>&quot;C01003&quot;</td><td>&quot;AMAREINS&quot;</td><td>&quot;AMAREINS&quot;</td><td>&quot;Amareins&quot;</td><td>null</td><td>&quot;SO&quot;</td><td>&quot;SO&quot;</td><td>&quot;Amareins&quot;</td><td>&quot;SO&quot;</td><td>1</td><td>&quot;D001&quot;</td><td>&quot;Ain (01)&quot;</td><td>&quot;01 - Ain&quot;</td><td>10</td><td>&quot;A10&quot;</td><td>84</td><td>&quot;R84&quot;</td><td>82</td><td>&quot;R82&quot;</td><td>&quot;FD111&quot;</td><td>&quot;FR11&quot;</td><td>&quot;FE1&quot;</td><td>&quot;SO&quot;</td><td>&quot;SO&quot;</td><td>&quot;SO&quot;</td><td>&quot;SO&quot;</td><td>&quot;SO&quot;</td><td>&quot;SO&quot;</td><td>null</td></tr><tr><td>&quot;Province&quot;</td><td>&quot;Auvergne-Rhône-Alpes&quot;</td><td>&quot;Rhône-Alpes&quot;</td><td>&quot;Lyon&quot;</td><td>&quot;Ain&quot;</td><td>&quot;01004&quot;</td><td>1004</td><td>1004</td><td>&quot;C01004&quot;</td><td>&quot;AMBERIEU EN BUGEY&quot;</td><td>&quot;AMBERIEU-EN-BUGEY&quot;</td><td>&quot;Ambérieu-en-Bugey&quot;</td><td>1303</td><td>&quot;UU01303&quot;</td><td>&quot;UU01303&quot;</td><td>&quot;Ambérieu-en-Bugey&quot;</td><td>&quot;ZE8201&quot;</td><td>1</td><td>&quot;D001&quot;</td><td>&quot;Ain (01)&quot;</td><td>&quot;01 - Ain&quot;</td><td>10</td><td>&quot;A10&quot;</td><td>84</td><td>&quot;R84&quot;</td><td>82</td><td>&quot;R82&quot;</td><td>&quot;FD111&quot;</td><td>&quot;FR11&quot;</td><td>&quot;FE1&quot;</td><td>&quot;UU01303&quot;</td><td>&quot;2&quot;</td><td>&quot;AU002&quot;</td><td>&quot;AU002&quot;</td><td>&quot;Lyon&quot;</td><td>&quot;UU01302&quot;</td><td>&quot;45.9608475114,5.3729257777&quot;</td></tr><tr><td>&quot;Province&quot;</td><td>&quot;Auvergne-Rhône-Alpes&quot;</td><td>&quot;Rhône-Alpes&quot;</td><td>&quot;Lyon&quot;</td><td>&quot;Ain&quot;</td><td>&quot;01005&quot;</td><td>1005</td><td>1005</td><td>&quot;C01005&quot;</td><td>&quot;AMBERIEUX EN DOMBES&quot;</td><td>&quot;AMBERIEUX-EN-DOMBES&quot;</td><td>&quot;Ambérieux-en-Dombes&quot;</td><td>null</td><td>&quot;SO&quot;</td><td>&quot;CR01005&quot;</td><td>&quot;Ambérieux-en-Dombes&quot;</td><td>&quot;ZE8213&quot;</td><td>1</td><td>&quot;D001&quot;</td><td>&quot;Ain (01)&quot;</td><td>&quot;01 - Ain&quot;</td><td>10</td><td>&quot;A10&quot;</td><td>84</td><td>&quot;R84&quot;</td><td>82</td><td>&quot;R82&quot;</td><td>&quot;FD111&quot;</td><td>&quot;FR11&quot;</td><td>&quot;FE1&quot;</td><td>&quot;SO&quot;</td><td>&quot;2&quot;</td><td>&quot;AU002&quot;</td><td>&quot;AU002&quot;</td><td>&quot;Lyon&quot;</td><td>&quot;SO&quot;</td><td>&quot;45.9961799872,4.91227250796&quot;</td></tr><tr><td>&hellip;</td><td>&hellip;</td><td>&hellip;</td><td>&hellip;</td><td>&hellip;</td><td>&hellip;</td><td>&hellip;</td><td>&hellip;</td><td>&hellip;</td><td>&hellip;</td><td>&hellip;</td><td>&hellip;</td><td>&hellip;</td><td>&hellip;</td><td>&hellip;</td><td>&hellip;</td><td>&hellip;</td><td>&hellip;</td><td>&hellip;</td><td>&hellip;</td><td>&hellip;</td><td>&hellip;</td><td>&hellip;</td><td>&hellip;</td><td>&hellip;</td><td>&hellip;</td><td>&hellip;</td><td>&hellip;</td><td>&hellip;</td><td>&hellip;</td><td>&hellip;</td><td>&hellip;</td><td>&hellip;</td><td>&hellip;</td><td>&hellip;</td><td>&hellip;</td><td>&hellip;</td></tr><tr><td>&quot;Province&quot;</td><td>&quot;Corse&quot;</td><td>&quot;Corse&quot;</td><td>&quot;Corse&quot;</td><td>&quot;Haute-Corse&quot;</td><td>&quot;2B356&quot;</td><td>null</td><td>null</td><td>&quot;C2B356&quot;</td><td>&quot;ZALANA&quot;</td><td>&quot;ZALANA&quot;</td><td>&quot;Zalana&quot;</td><td>null</td><td>&quot;SO&quot;</td><td>&quot;CR2B356&quot;</td><td>&quot;Zalana&quot;</td><td>&quot;ZE9404&quot;</td><td>null</td><td>&quot;D02B&quot;</td><td>&quot;Haute-Corse (2B)&quot;</td><td>&quot;2B - Haute-Corse&quot;</td><td>27</td><td>&quot;A27&quot;</td><td>94</td><td>&quot;R94&quot;</td><td>94</td><td>&quot;R94&quot;</td><td>&quot;FD111&quot;</td><td>&quot;FR11&quot;</td><td>&quot;FE1&quot;</td><td>&quot;SO&quot;</td><td>null</td><td>&quot;AU998&quot;</td><td>&quot;C2B356&quot;</td><td>&quot;Zalana&quot;</td><td>&quot;SO&quot;</td><td>&quot;42.2536105064,9.38216254299&quot;</td></tr><tr><td>&quot;Province&quot;</td><td>&quot;Corse&quot;</td><td>&quot;Corse&quot;</td><td>&quot;Corse&quot;</td><td>&quot;Haute-Corse&quot;</td><td>&quot;2B361&quot;</td><td>null</td><td>null</td><td>&quot;C2B361&quot;</td><td>&quot;ZILIA&quot;</td><td>&quot;ZILIA&quot;</td><td>&quot;Zilia&quot;</td><td>null</td><td>&quot;SO&quot;</td><td>&quot;CR2B361&quot;</td><td>&quot;Zilia&quot;</td><td>&quot;ZE9405&quot;</td><td>null</td><td>&quot;D02B&quot;</td><td>&quot;Haute-Corse (2B)&quot;</td><td>&quot;2B - Haute-Corse&quot;</td><td>27</td><td>&quot;A27&quot;</td><td>94</td><td>&quot;R94&quot;</td><td>94</td><td>&quot;R94&quot;</td><td>&quot;FD111&quot;</td><td>&quot;FR11&quot;</td><td>&quot;FE1&quot;</td><td>&quot;SO&quot;</td><td>&quot;391&quot;</td><td>&quot;AU391&quot;</td><td>&quot;AU391&quot;</td><td>&quot;Calvi&quot;</td><td>&quot;SO&quot;</td><td>&quot;42.5186011027,8.90376320006&quot;</td></tr><tr><td>&quot;Province&quot;</td><td>&quot;Corse&quot;</td><td>&quot;Corse&quot;</td><td>&quot;Corse&quot;</td><td>&quot;Haute-Corse&quot;</td><td>&quot;2B364&quot;</td><td>null</td><td>null</td><td>&quot;C2B364&quot;</td><td>&quot;ZUANI&quot;</td><td>&quot;ZUANI&quot;</td><td>&quot;Zuani&quot;</td><td>null</td><td>&quot;SO&quot;</td><td>&quot;CR2B364&quot;</td><td>&quot;Zuani&quot;</td><td>&quot;ZE9404&quot;</td><td>null</td><td>&quot;D02B&quot;</td><td>&quot;Haute-Corse (2B)&quot;</td><td>&quot;2B - Haute-Corse&quot;</td><td>27</td><td>&quot;A27&quot;</td><td>94</td><td>&quot;R94&quot;</td><td>94</td><td>&quot;R94&quot;</td><td>&quot;FD111&quot;</td><td>&quot;FR11&quot;</td><td>&quot;FE1&quot;</td><td>&quot;SO&quot;</td><td>null</td><td>&quot;AU998&quot;</td><td>&quot;C2B364&quot;</td><td>&quot;Zuani&quot;</td><td>&quot;SO&quot;</td><td>&quot;42.264826425,9.34126627348&quot;</td></tr><tr><td>&quot;Province&quot;</td><td>&quot;Corse&quot;</td><td>&quot;Corse&quot;</td><td>&quot;Corse&quot;</td><td>&quot;Haute-Corse&quot;</td><td>&quot;2B365&quot;</td><td>null</td><td>null</td><td>&quot;C2B365&quot;</td><td>&quot;SAN GAVINO DI FIUMORBO&quot;</td><td>&quot;SAN-GAVINO-DI-FIUMORBO&quot;</td><td>&quot;San-Gavino-di-Fiumorbo&quot;</td><td>null</td><td>&quot;SO&quot;</td><td>&quot;CR2B365&quot;</td><td>&quot;San-Gavino-di-Fiumorbo&quot;</td><td>&quot;ZE9407&quot;</td><td>null</td><td>&quot;D02B&quot;</td><td>&quot;Haute-Corse (2B)&quot;</td><td>&quot;2B - Haute-Corse&quot;</td><td>27</td><td>&quot;A27&quot;</td><td>94</td><td>&quot;R94&quot;</td><td>94</td><td>&quot;R94&quot;</td><td>&quot;FD111&quot;</td><td>&quot;FR11&quot;</td><td>&quot;FE1&quot;</td><td>&quot;SO&quot;</td><td>null</td><td>&quot;AU000&quot;</td><td>&quot;C2B365&quot;</td><td>&quot;San-Gavino-di-Fiumorbo&quot;</td><td>&quot;SO&quot;</td><td>&quot;41.9714498244,9.24775602009&quot;</td></tr><tr><td>&quot;Province&quot;</td><td>&quot;Corse&quot;</td><td>&quot;Corse&quot;</td><td>&quot;Corse&quot;</td><td>&quot;Haute-Corse&quot;</td><td>&quot;2B366&quot;</td><td>null</td><td>null</td><td>&quot;C2B366&quot;</td><td>&quot;CHISA&quot;</td><td>&quot;CHISA&quot;</td><td>&quot;Chisa&quot;</td><td>null</td><td>&quot;SO&quot;</td><td>&quot;CR2B366&quot;</td><td>&quot;Chisa&quot;</td><td>&quot;ZE9407&quot;</td><td>null</td><td>&quot;D02B&quot;</td><td>&quot;Haute-Corse (2B)&quot;</td><td>&quot;2B - Haute-Corse&quot;</td><td>27</td><td>&quot;A27&quot;</td><td>94</td><td>&quot;R94&quot;</td><td>94</td><td>&quot;R94&quot;</td><td>&quot;FD111&quot;</td><td>&quot;FR11&quot;</td><td>&quot;FE1&quot;</td><td>&quot;SO&quot;</td><td>null</td><td>&quot;AU000&quot;</td><td>&quot;C2B366&quot;</td><td>&quot;Chisa&quot;</td><td>&quot;SO&quot;</td><td>&quot;41.9210089906,9.26560816948&quot;</td></tr></tbody></table></div>"
      ],
      "text/plain": [
       "shape: (38_916, 37)\n",
       "┌────────────┬────────────┬────────────┬─────────┬───┬────────┬────────────┬──────────┬────────────┐\n",
       "│ regrgp_nom ┆ reg_nom    ┆ reg_nom_ol ┆ aca_nom ┆ … ┆ auc_id ┆ auc_nom    ┆ uu_id_10 ┆ geolocalis │\n",
       "│ ---        ┆ ---        ┆ d          ┆ ---     ┆   ┆ ---    ┆ ---        ┆ ---      ┆ ation      │\n",
       "│ str        ┆ str        ┆ ---        ┆ str     ┆   ┆ str    ┆ str        ┆ str      ┆ ---        │\n",
       "│            ┆            ┆ str        ┆         ┆   ┆        ┆            ┆          ┆ str        │\n",
       "╞════════════╪════════════╪════════════╪═════════╪═══╪════════╪════════════╪══════════╪════════════╡\n",
       "│ Province   ┆ Auvergne-R ┆ Rhône-Alpe ┆ Lyon    ┆ … ┆ C01001 ┆ L'Abergeme ┆ SO       ┆ 46.1534255 │\n",
       "│            ┆ hône-Alpes ┆ s          ┆         ┆   ┆        ┆ nt-Clémenc ┆          ┆ 214,4.9261 │\n",
       "│            ┆            ┆            ┆         ┆   ┆        ┆ iat        ┆          ┆ 1354223    │\n",
       "│ Province   ┆ Auvergne-R ┆ Rhône-Alpe ┆ Lyon    ┆ … ┆ AU002  ┆ Lyon       ┆ SO       ┆ 46.0091878 │\n",
       "│            ┆ hône-Alpes ┆ s          ┆         ┆   ┆        ┆            ┆          ┆ 776,5.4280 │\n",
       "│            ┆            ┆            ┆         ┆   ┆        ┆            ┆          ┆ 1696363    │\n",
       "│ Province   ┆ Auvergne-R ┆ Rhône-Alpe ┆ Lyon    ┆ … ┆ SO     ┆ SO         ┆ SO       ┆ null       │\n",
       "│            ┆ hône-Alpes ┆ s          ┆         ┆   ┆        ┆            ┆          ┆            │\n",
       "│ Province   ┆ Auvergne-R ┆ Rhône-Alpe ┆ Lyon    ┆ … ┆ AU002  ┆ Lyon       ┆ UU01302  ┆ 45.9608475 │\n",
       "│            ┆ hône-Alpes ┆ s          ┆         ┆   ┆        ┆            ┆          ┆ 114,5.3729 │\n",
       "│            ┆            ┆            ┆         ┆   ┆        ┆            ┆          ┆ 257777     │\n",
       "│ Province   ┆ Auvergne-R ┆ Rhône-Alpe ┆ Lyon    ┆ … ┆ AU002  ┆ Lyon       ┆ SO       ┆ 45.9961799 │\n",
       "│            ┆ hône-Alpes ┆ s          ┆         ┆   ┆        ┆            ┆          ┆ 872,4.9122 │\n",
       "│            ┆            ┆            ┆         ┆   ┆        ┆            ┆          ┆ 7250796    │\n",
       "│ …          ┆ …          ┆ …          ┆ …       ┆ … ┆ …      ┆ …          ┆ …        ┆ …          │\n",
       "│ Province   ┆ Corse      ┆ Corse      ┆ Corse   ┆ … ┆ C2B356 ┆ Zalana     ┆ SO       ┆ 42.2536105 │\n",
       "│            ┆            ┆            ┆         ┆   ┆        ┆            ┆          ┆ 064,9.3821 │\n",
       "│            ┆            ┆            ┆         ┆   ┆        ┆            ┆          ┆ 6254299    │\n",
       "│ Province   ┆ Corse      ┆ Corse      ┆ Corse   ┆ … ┆ AU391  ┆ Calvi      ┆ SO       ┆ 42.5186011 │\n",
       "│            ┆            ┆            ┆         ┆   ┆        ┆            ┆          ┆ 027,8.9037 │\n",
       "│            ┆            ┆            ┆         ┆   ┆        ┆            ┆          ┆ 6320006    │\n",
       "│ Province   ┆ Corse      ┆ Corse      ┆ Corse   ┆ … ┆ C2B364 ┆ Zuani      ┆ SO       ┆ 42.2648264 │\n",
       "│            ┆            ┆            ┆         ┆   ┆        ┆            ┆          ┆ 25,9.34126 │\n",
       "│            ┆            ┆            ┆         ┆   ┆        ┆            ┆          ┆ 627348     │\n",
       "│ Province   ┆ Corse      ┆ Corse      ┆ Corse   ┆ … ┆ C2B365 ┆ San-Gavino ┆ SO       ┆ 41.9714498 │\n",
       "│            ┆            ┆            ┆         ┆   ┆        ┆ -di-Fiumor ┆          ┆ 244,9.2477 │\n",
       "│            ┆            ┆            ┆         ┆   ┆        ┆ bo         ┆          ┆ 5602009    │\n",
       "│ Province   ┆ Corse      ┆ Corse      ┆ Corse   ┆ … ┆ C2B366 ┆ Chisa      ┆ SO       ┆ 41.9210089 │\n",
       "│            ┆            ┆            ┆         ┆   ┆        ┆            ┆          ┆ 906,9.2656 │\n",
       "│            ┆            ┆            ┆         ┆   ┆        ┆            ┆          ┆ 0816948    │\n",
       "└────────────┴────────────┴────────────┴─────────┴───┴────────┴────────────┴──────────┴────────────┘"
      ]
     },
     "execution_count": 1076,
     "metadata": {},
     "output_type": "execute_result"
    }
   ],
   "source": [
    "df_geo"
   ]
  },
  {
   "cell_type": "code",
   "execution_count": 1077,
   "metadata": {},
   "outputs": [],
   "source": [
    "df_region = df_geo.select(\n",
    "    \"reg_code\",\n",
    "    \"regrgp_nom\",\n",
    "    \"reg_nom\"\n",
    ")"
   ]
  },
  {
   "cell_type": "code",
   "execution_count": 1078,
   "metadata": {},
   "outputs": [
    {
     "data": {
      "text/html": [
       "<div><style>\n",
       ".dataframe > thead > tr,\n",
       ".dataframe > tbody > tr {\n",
       "  text-align: right;\n",
       "  white-space: pre-wrap;\n",
       "}\n",
       "</style>\n",
       "<small>shape: (38_916, 3)</small><table border=\"1\" class=\"dataframe\"><thead><tr><th>reg_code</th><th>regrgp_nom</th><th>reg_nom</th></tr><tr><td>i64</td><td>str</td><td>str</td></tr></thead><tbody><tr><td>84</td><td>&quot;Province&quot;</td><td>&quot;Auvergne-Rhône-Alpes&quot;</td></tr><tr><td>84</td><td>&quot;Province&quot;</td><td>&quot;Auvergne-Rhône-Alpes&quot;</td></tr><tr><td>84</td><td>&quot;Province&quot;</td><td>&quot;Auvergne-Rhône-Alpes&quot;</td></tr><tr><td>84</td><td>&quot;Province&quot;</td><td>&quot;Auvergne-Rhône-Alpes&quot;</td></tr><tr><td>84</td><td>&quot;Province&quot;</td><td>&quot;Auvergne-Rhône-Alpes&quot;</td></tr><tr><td>&hellip;</td><td>&hellip;</td><td>&hellip;</td></tr><tr><td>94</td><td>&quot;Province&quot;</td><td>&quot;Corse&quot;</td></tr><tr><td>94</td><td>&quot;Province&quot;</td><td>&quot;Corse&quot;</td></tr><tr><td>94</td><td>&quot;Province&quot;</td><td>&quot;Corse&quot;</td></tr><tr><td>94</td><td>&quot;Province&quot;</td><td>&quot;Corse&quot;</td></tr><tr><td>94</td><td>&quot;Province&quot;</td><td>&quot;Corse&quot;</td></tr></tbody></table></div>"
      ],
      "text/plain": [
       "shape: (38_916, 3)\n",
       "┌──────────┬────────────┬──────────────────────┐\n",
       "│ reg_code ┆ regrgp_nom ┆ reg_nom              │\n",
       "│ ---      ┆ ---        ┆ ---                  │\n",
       "│ i64      ┆ str        ┆ str                  │\n",
       "╞══════════╪════════════╪══════════════════════╡\n",
       "│ 84       ┆ Province   ┆ Auvergne-Rhône-Alpes │\n",
       "│ 84       ┆ Province   ┆ Auvergne-Rhône-Alpes │\n",
       "│ 84       ┆ Province   ┆ Auvergne-Rhône-Alpes │\n",
       "│ 84       ┆ Province   ┆ Auvergne-Rhône-Alpes │\n",
       "│ 84       ┆ Province   ┆ Auvergne-Rhône-Alpes │\n",
       "│ …        ┆ …          ┆ …                    │\n",
       "│ 94       ┆ Province   ┆ Corse                │\n",
       "│ 94       ┆ Province   ┆ Corse                │\n",
       "│ 94       ┆ Province   ┆ Corse                │\n",
       "│ 94       ┆ Province   ┆ Corse                │\n",
       "│ 94       ┆ Province   ┆ Corse                │\n",
       "└──────────┴────────────┴──────────────────────┘"
      ]
     },
     "execution_count": 1078,
     "metadata": {},
     "output_type": "execute_result"
    }
   ],
   "source": [
    "df_region"
   ]
  },
  {
   "cell_type": "code",
   "execution_count": 1079,
   "metadata": {},
   "outputs": [],
   "source": [
    "df_region = df_region.rename({\n",
    "    \"reg_code\":\"id_reg\",\n",
    "    \"regrgp_nom\":\"nom_regroupement\",\n",
    "    \"reg_nom\":\"nom_region\"\n",
    "})"
   ]
  },
  {
   "cell_type": "code",
   "execution_count": 1080,
   "metadata": {},
   "outputs": [],
   "source": [
    "df_region = df_region.select(\n",
    "    \"id_reg\",\n",
    "    \"nom_region\",\n",
    "    \"nom_regroupement\"\n",
    "    )"
   ]
  },
  {
   "cell_type": "code",
   "execution_count": 1081,
   "metadata": {},
   "outputs": [],
   "source": [
    "df_region = df_region.unique()"
   ]
  },
  {
   "cell_type": "code",
   "execution_count": 1082,
   "metadata": {},
   "outputs": [
    {
     "data": {
      "text/html": [
       "<div><style>\n",
       ".dataframe > thead > tr,\n",
       ".dataframe > tbody > tr {\n",
       "  text-align: right;\n",
       "  white-space: pre-wrap;\n",
       "}\n",
       "</style>\n",
       "<small>shape: (19, 3)</small><table border=\"1\" class=\"dataframe\"><thead><tr><th>id_reg</th><th>nom_region</th><th>nom_regroupement</th></tr><tr><td>i64</td><td>str</td><td>str</td></tr></thead><tbody><tr><td>3</td><td>&quot;Guyane&quot;</td><td>&quot;DROM-COM&quot;</td></tr><tr><td>2</td><td>&quot;Martinique&quot;</td><td>&quot;DROM-COM&quot;</td></tr><tr><td>4</td><td>&quot;La Réunion&quot;</td><td>&quot;DROM-COM&quot;</td></tr><tr><td>53</td><td>&quot;Bretagne&quot;</td><td>&quot;Province&quot;</td></tr><tr><td>93</td><td>&quot;Provence-Alpes-Côte d&#x27;Azur&quot;</td><td>&quot;Province&quot;</td></tr><tr><td>&hellip;</td><td>&hellip;</td><td>&hellip;</td></tr><tr><td>0</td><td>&quot;Collectivités d&#x27;outre-mer&quot;</td><td>&quot;DROM-COM&quot;</td></tr><tr><td>94</td><td>&quot;Corse&quot;</td><td>&quot;Province&quot;</td></tr><tr><td>6</td><td>&quot;Mayotte&quot;</td><td>&quot;DROM-COM&quot;</td></tr><tr><td>27</td><td>&quot;Bourgogne-Franche-Comté&quot;</td><td>&quot;Province&quot;</td></tr><tr><td>32</td><td>&quot;Hauts-de-France&quot;</td><td>&quot;Province&quot;</td></tr></tbody></table></div>"
      ],
      "text/plain": [
       "shape: (19, 3)\n",
       "┌────────┬────────────────────────────┬──────────────────┐\n",
       "│ id_reg ┆ nom_region                 ┆ nom_regroupement │\n",
       "│ ---    ┆ ---                        ┆ ---              │\n",
       "│ i64    ┆ str                        ┆ str              │\n",
       "╞════════╪════════════════════════════╪══════════════════╡\n",
       "│ 3      ┆ Guyane                     ┆ DROM-COM         │\n",
       "│ 2      ┆ Martinique                 ┆ DROM-COM         │\n",
       "│ 4      ┆ La Réunion                 ┆ DROM-COM         │\n",
       "│ 53     ┆ Bretagne                   ┆ Province         │\n",
       "│ 93     ┆ Provence-Alpes-Côte d'Azur ┆ Province         │\n",
       "│ …      ┆ …                          ┆ …                │\n",
       "│ 0      ┆ Collectivités d'outre-mer  ┆ DROM-COM         │\n",
       "│ 94     ┆ Corse                      ┆ Province         │\n",
       "│ 6      ┆ Mayotte                    ┆ DROM-COM         │\n",
       "│ 27     ┆ Bourgogne-Franche-Comté    ┆ Province         │\n",
       "│ 32     ┆ Hauts-de-France            ┆ Province         │\n",
       "└────────┴────────────────────────────┴──────────────────┘"
      ]
     },
     "execution_count": 1082,
     "metadata": {},
     "output_type": "execute_result"
    }
   ],
   "source": [
    "df_region"
   ]
  },
  {
   "cell_type": "code",
   "execution_count": 1083,
   "metadata": {},
   "outputs": [],
   "source": [
    "df_region.write_csv('./data_clean/region.csv')"
   ]
  },
  {
   "cell_type": "code",
   "execution_count": 1095,
   "metadata": {},
   "outputs": [
    {
     "data": {
      "text/html": [
       "<div><style>\n",
       ".dataframe > thead > tr,\n",
       ".dataframe > tbody > tr {\n",
       "  text-align: right;\n",
       "  white-space: pre-wrap;\n",
       "}\n",
       "</style>\n",
       "<small>shape: (10, 1)</small><table border=\"1\" class=\"dataframe\"><thead><tr><th>date_vente</th></tr><tr><td>date</td></tr></thead><tbody><tr><td>2020-06-19</td></tr><tr><td>2020-06-20</td></tr><tr><td>2020-06-22</td></tr><tr><td>2020-06-23</td></tr><tr><td>2020-06-24</td></tr><tr><td>2020-06-25</td></tr><tr><td>2020-06-26</td></tr><tr><td>2020-06-27</td></tr><tr><td>2020-06-29</td></tr><tr><td>2020-06-30</td></tr></tbody></table></div>"
      ],
      "text/plain": [
       "shape: (10, 1)\n",
       "┌────────────┐\n",
       "│ date_vente │\n",
       "│ ---        │\n",
       "│ date       │\n",
       "╞════════════╡\n",
       "│ 2020-06-19 │\n",
       "│ 2020-06-20 │\n",
       "│ 2020-06-22 │\n",
       "│ 2020-06-23 │\n",
       "│ 2020-06-24 │\n",
       "│ 2020-06-25 │\n",
       "│ 2020-06-26 │\n",
       "│ 2020-06-27 │\n",
       "│ 2020-06-29 │\n",
       "│ 2020-06-30 │\n",
       "└────────────┘"
      ]
     },
     "execution_count": 1095,
     "metadata": {},
     "output_type": "execute_result"
    }
   ],
   "source": [
    "df_vente.select(pl.col('date_vente').unique()).tail(10)"
   ]
  }
 ],
 "metadata": {
  "kernelspec": {
   "display_name": ".venv",
   "language": "python",
   "name": "python3"
  },
  "language_info": {
   "codemirror_mode": {
    "name": "ipython",
    "version": 3
   },
   "file_extension": ".py",
   "mimetype": "text/x-python",
   "name": "python",
   "nbconvert_exporter": "python",
   "pygments_lexer": "ipython3",
   "version": "3.10.12"
  }
 },
 "nbformat": 4,
 "nbformat_minor": 2
}
