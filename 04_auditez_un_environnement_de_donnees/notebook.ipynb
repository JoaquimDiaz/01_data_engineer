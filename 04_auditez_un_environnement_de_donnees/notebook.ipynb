{
 "cells": [
  {
   "cell_type": "code",
   "execution_count": 122,
   "metadata": {},
   "outputs": [],
   "source": [
    "import polars as pl\n",
    "import re\n",
    "from unidecode import unidecode\n",
    "from datetime import datetime, timedelta"
   ]
  },
  {
   "cell_type": "markdown",
   "metadata": {},
   "source": [
    "## Fonctions :"
   ]
  },
  {
   "cell_type": "code",
   "execution_count": 123,
   "metadata": {},
   "outputs": [],
   "source": [
    "def date_serial_number(serial_number: int) -> datetime:\n",
    "    \"\"\"\n",
    "    Convert an Excel serial number to a Python datetime object\n",
    "    :param serial_number: the date serial number\n",
    "    :return: a datetime object\n",
    "    \"\"\"\n",
    "    # Excel stores dates as \"number of days since 1900\"\n",
    "\n",
    "    delta = datetime(1899, 12, 30) + timedelta(days=serial_number)\n",
    "    return delta"
   ]
  },
  {
   "cell_type": "code",
   "execution_count": 124,
   "metadata": {},
   "outputs": [],
   "source": [
    "def standardize_column_name(df: pl.DataFrame) -> pl.DataFrame:\n",
    "    \"\"\"\n",
    "    Define a function to apply regex and transformations on column names\n",
    "    \"\"\"\n",
    "    def clean_name(col: str) -> str:\n",
    "        col = re.sub(r'(?<!^)(?=[A-Z])|(?<=_)(?=[A-Z])| |-', lambda x: \"_\" if x.group(0) == \" \" else \"\", unidecode(col.lower()))\n",
    "        col = col.replace(\"'\", \"_\").replace(\"__\", \"_\")\n",
    "        return col\n",
    "    \n",
    "    return df.rename({col: clean_name(col) for col in df.columns})"
   ]
  },
  {
   "cell_type": "code",
   "execution_count": 125,
   "metadata": {},
   "outputs": [],
   "source": [
    "def get_infos(df: pl.DataFrame, file=None, head=True, display_memory=False):\n",
    "    \"\"\"\n",
    "    Provides basic information about a Polars DataFrame including shape, duplicates, \n",
    "    and missing values.\n",
    "\n",
    "    Parameters:\n",
    "    -----------\n",
    "    df : pl.DataFrame\n",
    "        The Polars DataFrame to be analyzed.\n",
    "    \n",
    "    file : str, optional\n",
    "        The name of the file or source of the DataFrame. Default is None.\n",
    "        If provided, it will be displayed in the output.\n",
    "    \n",
    "    head : bool, optional\n",
    "        A flag indicating whether to display the first few rows of the DataFrame.\n",
    "        Default is True. If set to True, `df.head()` will be printed.\n",
    "\n",
    "    Returns:\n",
    "    --------\n",
    "    None\n",
    "        The function prints out information about the DataFrame such as the number of \n",
    "        rows, columns, duplicated rows, percentage of missing values, and optionally \n",
    "        the first few rows of the DataFrame.\n",
    "\n",
    "    Notes:\n",
    "    ------\n",
    "    - The function computes the percentage of missing values based on the sum of \n",
    "      all missing values across all columns.\n",
    "    - Duplicated rows are identified using Polars' `is_duplicated()` method.\n",
    "    \"\"\"\n",
    "\n",
    "    if df.shape[0] == 0 or df.shape[1] == 0:\n",
    "        print(\"The DataFrame is empty.\")\n",
    "        return\n",
    "    \n",
    "    # Count duplicated rows\n",
    "    duplicated_rows = df.is_duplicated().sum()\n",
    "    \n",
    "    # Calculate the total number of missing values\n",
    "    isnull_total = df.null_count().sum_horizontal()\n",
    "    \n",
    "    # Calculate the total number of values (rows * columns)\n",
    "    value_total = df.shape[0] * df.shape[1]\n",
    "    \n",
    "    # Compute the percentage of missing values\n",
    "    pct_missing = isnull_total / value_total\n",
    "\n",
    "    memory_usage_mb = (df.shape[0] * df.shape[1] * 8) / (1024 ** 2)\n",
    "\n",
    "    # If a file name is provided, print it\n",
    "    if file:\n",
    "        print(f\"Nom du fichier : {file}\")\n",
    "    \n",
    "    # Display basic shape information\n",
    "    print(f\"Nombre de lignes : {df.shape[0]}\")\n",
    "    print(f\"Nombre de colonnes : {df.shape[1]}\")\n",
    "    print(\"------\")\n",
    "    \n",
    "    # Display duplicated rows and missing values percentage\n",
    "    print(f\"Nombre de lignes en double : {duplicated_rows}\")\n",
    "    print(f\"Pourcentage de valeurs manquantes : {pct_missing.item():.2%}\")\n",
    "   \n",
    "    if display_memory == True:\n",
    "    # Display memory usage\n",
    "        print(f\"Estimated memory usage: {memory_usage_mb:.2f} MB\")\n",
    "    \n",
    "    # Optionally print the first few rows of the DataFrame\n",
    "    if head:\n",
    "        print(f\"-----\")\n",
    "        print(df.head())"
   ]
  },
  {
   "cell_type": "markdown",
   "metadata": {},
   "source": [
    "## Variables"
   ]
  },
  {
   "cell_type": "code",
   "execution_count": 126,
   "metadata": {},
   "outputs": [],
   "source": [
    "FILE_PATH = 'documents/extraction_olap.xlsx'\n",
    "SHEET_1 = 'Vente Détail'\n",
    "SHEET_2 = 'Produits'\n",
    "SHEET_3 = 'Clients'\n",
    "SHEET_4 = 'Calendrier'\n",
    "SHEET_5 = 'Employé'"
   ]
  },
  {
   "cell_type": "markdown",
   "metadata": {},
   "source": [
    "## Importations"
   ]
  },
  {
   "cell_type": "code",
   "execution_count": 127,
   "metadata": {},
   "outputs": [],
   "source": [
    "df_vente = pl.read_excel(FILE_PATH, sheet_name=SHEET_1)\n",
    "\n",
    "df_prod = pl.read_excel(FILE_PATH, sheet_name=SHEET_2)\n",
    "\n",
    "df_client = pl.read_excel(FILE_PATH, sheet_name=SHEET_3)\n",
    "\n",
    "df_calendrier = pl.read_excel(FILE_PATH, sheet_name=SHEET_4)\n",
    "\n",
    "df_employe = pl.read_excel(FILE_PATH, sheet_name=SHEET_5)"
   ]
  },
  {
   "cell_type": "code",
   "execution_count": 128,
   "metadata": {},
   "outputs": [],
   "source": [
    "df_vente = standardize_column_name(df_vente)\n",
    "\n",
    "df_prod = standardize_column_name(df_prod)\n",
    "\n",
    "df_client = standardize_column_name(df_client)\n",
    "\n",
    "df_calendrier = standardize_column_name(df_calendrier)\n",
    "\n",
    "df_employe = standardize_column_name(df_employe)"
   ]
  },
  {
   "cell_type": "markdown",
   "metadata": {},
   "source": [
    "## Exploration"
   ]
  },
  {
   "cell_type": "markdown",
   "metadata": {},
   "source": [
    "### 1. Table vente"
   ]
  },
  {
   "cell_type": "code",
   "execution_count": 129,
   "metadata": {},
   "outputs": [
    {
     "name": "stdout",
     "output_type": "stream",
     "text": [
      "Nombre de lignes : 41377\n",
      "Nombre de colonnes : 6\n",
      "------\n",
      "Nombre de lignes en double : 0\n",
      "Pourcentage de valeurs manquantes : 0.00%\n",
      "-----\n",
      "shape: (5, 6)\n",
      "┌───────────────────┬──────────────────┬──────────────────┬───────────────┬────────────┬───────────┐\n",
      "│ id_bdd            ┆ customer_id      ┆ id_employe       ┆ ean           ┆ date_achat ┆ id_ticket │\n",
      "│ ---               ┆ ---              ┆ ---              ┆ ---           ┆ ---        ┆ ---       │\n",
      "│ str               ┆ str              ┆ str              ┆ i64           ┆ i64        ┆ str       │\n",
      "╞═══════════════════╪══════════════════╪══════════════════╪═══════════════╪════════════╪═══════════╡\n",
      "│ HZDG8U15NNY7SI6HD ┆ CUST-G42Z6WE8QLW ┆ b413ca065a762e8c ┆ 6473630445822 ┆ 45518      ┆ t_2693    │\n",
      "│ K8NMFDEK7MOVU…    ┆ J                ┆ f2e86cfea8b9c1…  ┆               ┆            ┆           │\n",
      "│ 1H51BRR800TK9DCIH ┆ CUST-CUA37GP8GAB ┆ a7ada0770091e838 ┆ 1857802002765 ┆ 45518      ┆ t_4408    │\n",
      "│ 8M9QCRH3LEAR0…    ┆ Q                ┆ e3dcd452652828…  ┆               ┆            ┆           │\n",
      "│ W6VNWK6ZX0D4QZ545 ┆ CUST-NHWI0DGNESY ┆ fa836e3f5faf72d2 ┆ 6831886714876 ┆ 45518      ┆ t_3258    │\n",
      "│ ZD5Y0THWQQDBT…    ┆ I                ┆ 4e079235332169…  ┆               ┆            ┆           │\n",
      "│ 58EC3JD1TDZZAVQZA ┆ CUST-IYXDMN7Q11O ┆ 6c1c3292c852c6c5 ┆ 6916826750723 ┆ 45518      ┆ t_1080    │\n",
      "│ W4AHFOUEKTR61…    ┆ 4                ┆ 93b95cc146b00c…  ┆               ┆            ┆           │\n",
      "│ 96FE6HA91BRDDF6XR ┆ CUST-VR9O54A46EV ┆ 38680e129f45c493 ┆ 7930902861368 ┆ 45518      ┆ t_979     │\n",
      "│ I3O9B83M5PKIX…    ┆ F                ┆ 22cb12303b7fb6…  ┆               ┆            ┆           │\n",
      "└───────────────────┴──────────────────┴──────────────────┴───────────────┴────────────┴───────────┘\n"
     ]
    }
   ],
   "source": [
    "get_infos(df_vente)"
   ]
  },
  {
   "cell_type": "code",
   "execution_count": 130,
   "metadata": {},
   "outputs": [],
   "source": [
    "df_vente = (\n",
    "    df_vente.with_columns(\n",
    "        pl.col('date_achat')\n",
    "        .map_elements(lambda x: date_serial_number(int(x)).strftime(\"%Y-%m-%d\"), return_dtype=pl.Utf8)\n",
    "        .alias('date_achat')\n",
    "    )\n",
    ")"
   ]
  },
  {
   "cell_type": "code",
   "execution_count": 131,
   "metadata": {},
   "outputs": [
    {
     "data": {
      "text/plain": [
       "1"
      ]
     },
     "execution_count": 131,
     "metadata": {},
     "output_type": "execute_result"
    }
   ],
   "source": [
    "df_vente.select('date_achat').n_unique()"
   ]
  },
  {
   "cell_type": "code",
   "execution_count": 132,
   "metadata": {},
   "outputs": [
    {
     "data": {
      "text/html": [
       "<div><style>\n",
       ".dataframe > thead > tr,\n",
       ".dataframe > tbody > tr {\n",
       "  text-align: right;\n",
       "  white-space: pre-wrap;\n",
       "}\n",
       "</style>\n",
       "<small>shape: (1, 6)</small><table border=\"1\" class=\"dataframe\"><thead><tr><th>id_bdd</th><th>customer_id</th><th>id_employe</th><th>ean</th><th>date_achat</th><th>id_ticket</th></tr><tr><td>u32</td><td>u32</td><td>u32</td><td>u32</td><td>u32</td><td>u32</td></tr></thead><tbody><tr><td>41377</td><td>2297</td><td>56</td><td>16146</td><td>1</td><td>1808</td></tr></tbody></table></div>"
      ],
      "text/plain": [
       "shape: (1, 6)\n",
       "┌────────┬─────────────┬────────────┬───────┬────────────┬───────────┐\n",
       "│ id_bdd ┆ customer_id ┆ id_employe ┆ ean   ┆ date_achat ┆ id_ticket │\n",
       "│ ---    ┆ ---         ┆ ---        ┆ ---   ┆ ---        ┆ ---       │\n",
       "│ u32    ┆ u32         ┆ u32        ┆ u32   ┆ u32        ┆ u32       │\n",
       "╞════════╪═════════════╪════════════╪═══════╪════════════╪═══════════╡\n",
       "│ 41377  ┆ 2297        ┆ 56         ┆ 16146 ┆ 1          ┆ 1808      │\n",
       "└────────┴─────────────┴────────────┴───────┴────────────┴───────────┘"
      ]
     },
     "execution_count": 132,
     "metadata": {},
     "output_type": "execute_result"
    }
   ],
   "source": [
    "df_vente.select([pl.col(column).n_unique() for column in df_vente.columns])"
   ]
  },
  {
   "cell_type": "markdown",
   "metadata": {},
   "source": [
    "### 2. Table produit"
   ]
  },
  {
   "cell_type": "code",
   "execution_count": 133,
   "metadata": {},
   "outputs": [
    {
     "name": "stdout",
     "output_type": "stream",
     "text": [
      "Nombre de lignes : 18040\n",
      "Nombre de colonnes : 5\n",
      "------\n",
      "Nombre de lignes en double : 0\n",
      "Pourcentage de valeurs manquantes : 0.00%\n",
      "-----\n",
      "shape: (5, 5)\n",
      "┌───────────────┬───────────────────────────┬───────┬───────────────────────────┬──────┐\n",
      "│ ean           ┆ categorie                 ┆ rayon ┆ libelle_produit           ┆ prix │\n",
      "│ ---           ┆ ---                       ┆ ---   ┆ ---                       ┆ ---  │\n",
      "│ i64           ┆ str                       ┆ str   ┆ str                       ┆ f64  │\n",
      "╞═══════════════╪═══════════════════════════╪═══════╪═══════════════════════════╪══════╡\n",
      "│ 5026767366043 ┆ Produits Secs & Conserves ┆ pates ┆ 500g penne rigate panzani ┆ 1.24 │\n",
      "│ 1002603715237 ┆ Produits Secs & Conserves ┆ pates ┆ 500g spaghetti panzani    ┆ 0.84 │\n",
      "│ 2113941413715 ┆ Produits Secs & Conserves ┆ pates ┆ 1kg coquillettes panzani  ┆ 1.73 │\n",
      "│ 2597945667827 ┆ Produits Secs & Conserves ┆ pates ┆ 1kg spaghetti panzani     ┆ 1.53 │\n",
      "│ 8046456922921 ┆ Produits Secs & Conserves ┆ pates ┆ panzani farfalle 500g     ┆ 1.22 │\n",
      "└───────────────┴───────────────────────────┴───────┴───────────────────────────┴──────┘\n"
     ]
    }
   ],
   "source": [
    "get_infos(df_prod)"
   ]
  },
  {
   "cell_type": "code",
   "execution_count": 134,
   "metadata": {},
   "outputs": [
    {
     "data": {
      "text/html": [
       "<div><style>\n",
       ".dataframe > thead > tr,\n",
       ".dataframe > tbody > tr {\n",
       "  text-align: right;\n",
       "  white-space: pre-wrap;\n",
       "}\n",
       "</style>\n",
       "<small>shape: (1, 5)</small><table border=\"1\" class=\"dataframe\"><thead><tr><th>ean</th><th>categorie</th><th>rayon</th><th>libelle_produit</th><th>prix</th></tr><tr><td>u32</td><td>u32</td><td>u32</td><td>u32</td><td>u32</td></tr></thead><tbody><tr><td>18040</td><td>15</td><td>128</td><td>17972</td><td>1789</td></tr></tbody></table></div>"
      ],
      "text/plain": [
       "shape: (1, 5)\n",
       "┌───────┬───────────┬───────┬─────────────────┬──────┐\n",
       "│ ean   ┆ categorie ┆ rayon ┆ libelle_produit ┆ prix │\n",
       "│ ---   ┆ ---       ┆ ---   ┆ ---             ┆ ---  │\n",
       "│ u32   ┆ u32       ┆ u32   ┆ u32             ┆ u32  │\n",
       "╞═══════╪═══════════╪═══════╪═════════════════╪══════╡\n",
       "│ 18040 ┆ 15        ┆ 128   ┆ 17972           ┆ 1789 │\n",
       "└───────┴───────────┴───────┴─────────────────┴──────┘"
      ]
     },
     "execution_count": 134,
     "metadata": {},
     "output_type": "execute_result"
    }
   ],
   "source": [
    "df_prod.select([pl.col(column).n_unique() for column in df_prod.columns])"
   ]
  },
  {
   "cell_type": "code",
   "execution_count": 135,
   "metadata": {},
   "outputs": [
    {
     "name": "stdout",
     "output_type": "stream",
     "text": [
      "shape: (15, 2)\n",
      "┌──────────────────────────────┬───────┐\n",
      "│ categorie                    ┆ count │\n",
      "│ ---                          ┆ ---   │\n",
      "│ str                          ┆ u32   │\n",
      "╞══════════════════════════════╪═══════╡\n",
      "│ Produits Secs & Conserves    ┆ 4566  │\n",
      "│ Hygiène & Parfumerie         ┆ 3322  │\n",
      "│ Cosmétiques & Maquillage     ┆ 1756  │\n",
      "│ Boissons                     ┆ 1431  │\n",
      "│ Produits Laitiers & Crèmerie ┆ 1342  │\n",
      "│ …                            ┆ …     │\n",
      "│ Soins de la Maison           ┆ 400   │\n",
      "│ Soins & Produits Bébé        ┆ 337   │\n",
      "│ Pâtisseries Emballées        ┆ 289   │\n",
      "│ Maison & Décoration          ┆ 231   │\n",
      "│ Produits de Volaille         ┆ 130   │\n",
      "└──────────────────────────────┴───────┘\n"
     ]
    }
   ],
   "source": [
    "print(df_prod['categorie'].value_counts(sort=True))"
   ]
  },
  {
   "cell_type": "code",
   "execution_count": 136,
   "metadata": {},
   "outputs": [
    {
     "data": {
      "text/plain": [
       "['Bricolage & Outillage',\n",
       " 'Boulangerie & Viennoiseries',\n",
       " 'Pâtisseries Emballées',\n",
       " 'Hygiène & Parfumerie',\n",
       " 'Produits Laitiers & Crèmerie',\n",
       " 'Soins & Produits Bébé',\n",
       " 'Produits Secs & Conserves',\n",
       " 'Jouets & Jeux',\n",
       " 'Charcuterie & Plats Traiteur',\n",
       " 'Soins de la Maison',\n",
       " 'Maison & Décoration',\n",
       " 'Produits de Volaille',\n",
       " 'Produits Surgelés & Préparés',\n",
       " 'Boissons',\n",
       " 'Cosmétiques & Maquillage']"
      ]
     },
     "execution_count": 136,
     "metadata": {},
     "output_type": "execute_result"
    }
   ],
   "source": [
    "df_prod.select('categorie').unique().to_series().to_list()"
   ]
  },
  {
   "cell_type": "code",
   "execution_count": 137,
   "metadata": {},
   "outputs": [
    {
     "name": "stdout",
     "output_type": "stream",
     "text": [
      "shape: (9, 2)\n",
      "┌────────────┬───────────┐\n",
      "│ statistic  ┆ prix      │\n",
      "│ ---        ┆ ---       │\n",
      "│ str        ┆ f64       │\n",
      "╞════════════╪═══════════╡\n",
      "│ count      ┆ 18040.0   │\n",
      "│ null_count ┆ 0.0       │\n",
      "│ mean       ┆ 6.885182  │\n",
      "│ std        ┆ 10.374337 │\n",
      "│ min        ┆ 0.16      │\n",
      "│ 25%        ┆ 2.67      │\n",
      "│ 50%        ┆ 4.3       │\n",
      "│ 75%        ┆ 8.5       │\n",
      "│ max        ┆ 798.0     │\n",
      "└────────────┴───────────┘\n"
     ]
    }
   ],
   "source": [
    "print(df_prod.select('prix').describe())"
   ]
  },
  {
   "cell_type": "code",
   "execution_count": 138,
   "metadata": {},
   "outputs": [
    {
     "data": {
      "text/html": [
       "<div><style>\n",
       ".dataframe > thead > tr,\n",
       ".dataframe > tbody > tr {\n",
       "  text-align: right;\n",
       "  white-space: pre-wrap;\n",
       "}\n",
       "</style>\n",
       "<small>shape: (1, 5)</small><table border=\"1\" class=\"dataframe\"><thead><tr><th>ean</th><th>categorie</th><th>rayon</th><th>libelle_produit</th><th>prix</th></tr><tr><td>i64</td><td>str</td><td>str</td><td>str</td><td>f64</td></tr></thead><tbody><tr><td>7148304214354</td><td>&quot;Boissons&quot;</td><td>&quot;champagnes&quot;</td><td>&quot;6l chp bollinger cuv.bt math+c&quot;</td><td>798.0</td></tr></tbody></table></div>"
      ],
      "text/plain": [
       "shape: (1, 5)\n",
       "┌───────────────┬───────────┬────────────┬────────────────────────────────┬───────┐\n",
       "│ ean           ┆ categorie ┆ rayon      ┆ libelle_produit                ┆ prix  │\n",
       "│ ---           ┆ ---       ┆ ---        ┆ ---                            ┆ ---   │\n",
       "│ i64           ┆ str       ┆ str        ┆ str                            ┆ f64   │\n",
       "╞═══════════════╪═══════════╪════════════╪════════════════════════════════╪═══════╡\n",
       "│ 7148304214354 ┆ Boissons  ┆ champagnes ┆ 6l chp bollinger cuv.bt math+c ┆ 798.0 │\n",
       "└───────────────┴───────────┴────────────┴────────────────────────────────┴───────┘"
      ]
     },
     "execution_count": 138,
     "metadata": {},
     "output_type": "execute_result"
    }
   ],
   "source": [
    "df_prod.filter(pl.col('prix') == 798)"
   ]
  },
  {
   "cell_type": "markdown",
   "metadata": {},
   "source": [
    "### 3. Table client"
   ]
  },
  {
   "cell_type": "code",
   "execution_count": 139,
   "metadata": {},
   "outputs": [
    {
     "name": "stdout",
     "output_type": "stream",
     "text": [
      "Nombre de lignes : 2297\n",
      "Nombre de colonnes : 2\n",
      "------\n",
      "Nombre de lignes en double : 0\n",
      "Pourcentage de valeurs manquantes : 0.00%\n",
      "-----\n",
      "shape: (5, 2)\n",
      "┌───────────────────┬──────────────────┐\n",
      "│ custumer_id       ┆ date_inscription │\n",
      "│ ---               ┆ ---              │\n",
      "│ str               ┆ date             │\n",
      "╞═══════════════════╪══════════════════╡\n",
      "│ CUST-2KYXXXW1NK7I ┆ 2023-07-17       │\n",
      "│ CUST-NR43XRT2PXYG ┆ 2023-09-07       │\n",
      "│ CUST-CH58P8PSVIYU ┆ 2021-08-24       │\n",
      "│ CUST-CI7JQHW4TIYT ┆ 2021-12-22       │\n",
      "│ CUST-3QHP3KL4NPP2 ┆ 2020-12-20       │\n",
      "└───────────────────┴──────────────────┘\n"
     ]
    }
   ],
   "source": [
    "get_infos(df_client)"
   ]
  },
  {
   "cell_type": "code",
   "execution_count": 140,
   "metadata": {},
   "outputs": [
    {
     "data": {
      "text/plain": [
       "2297"
      ]
     },
     "execution_count": 140,
     "metadata": {},
     "output_type": "execute_result"
    }
   ],
   "source": [
    "df_client.select('custumer_id').n_unique()"
   ]
  },
  {
   "cell_type": "code",
   "execution_count": 141,
   "metadata": {},
   "outputs": [],
   "source": [
    "df_client = df_client.rename({'custumer_id':'customer_id'})"
   ]
  },
  {
   "cell_type": "code",
   "execution_count": 142,
   "metadata": {},
   "outputs": [
    {
     "name": "stdout",
     "output_type": "stream",
     "text": [
      "shape: (1, 1)\n",
      "┌──────────────────┐\n",
      "│ date_inscription │\n",
      "│ ---              │\n",
      "│ date             │\n",
      "╞══════════════════╡\n",
      "│ 2020-01-01       │\n",
      "└──────────────────┘\n",
      "shape: (1, 1)\n",
      "┌──────────────────┐\n",
      "│ date_inscription │\n",
      "│ ---              │\n",
      "│ date             │\n",
      "╞══════════════════╡\n",
      "│ 2024-08-14       │\n",
      "└──────────────────┘\n"
     ]
    }
   ],
   "source": [
    "print(df_client.select('date_inscription').min())\n",
    "print(df_client.select('date_inscription').max())"
   ]
  },
  {
   "cell_type": "markdown",
   "metadata": {},
   "source": [
    "### 4. Table calendrier"
   ]
  },
  {
   "cell_type": "code",
   "execution_count": 152,
   "metadata": {},
   "outputs": [
    {
     "name": "stdout",
     "output_type": "stream",
     "text": [
      "Nombre de lignes : 1999\n",
      "Nombre de colonnes : 8\n",
      "------\n",
      "Nombre de lignes en double : 0\n",
      "Pourcentage de valeurs manquantes : 0.00%\n",
      "-----\n",
      "shape: (5, 8)\n",
      "┌────────────┬───────┬──────┬──────┬──────────┬────────────┬──────────────┬───────────┐\n",
      "│ date       ┆ annee ┆ mois ┆ jour ┆ mois_nom ┆ annee_mois ┆ jour_semaine ┆ trimestre │\n",
      "│ ---        ┆ ---   ┆ ---  ┆ ---  ┆ ---      ┆ ---        ┆ ---          ┆ ---       │\n",
      "│ str        ┆ i64   ┆ i64  ┆ i8   ┆ str      ┆ str        ┆ i64          ┆ str       │\n",
      "╞════════════╪═══════╪══════╪══════╪══════════╪════════════╪══════════════╪═══════════╡\n",
      "│ 2020-01-01 ┆ 2020  ┆ 1    ┆ 1    ┆ janvier  ┆ 2020-01    ┆ 4            ┆ Q1        │\n",
      "│ 2020-01-02 ┆ 2020  ┆ 1    ┆ 2    ┆ janvier  ┆ 2020-01    ┆ 5            ┆ Q1        │\n",
      "│ 2020-01-03 ┆ 2020  ┆ 1    ┆ 3    ┆ janvier  ┆ 2020-01    ┆ 6            ┆ Q1        │\n",
      "│ 2020-01-04 ┆ 2020  ┆ 1    ┆ 4    ┆ janvier  ┆ 2020-01    ┆ 7            ┆ Q1        │\n",
      "│ 2020-01-05 ┆ 2020  ┆ 1    ┆ 5    ┆ janvier  ┆ 2020-01    ┆ 1            ┆ Q1        │\n",
      "└────────────┴───────┴──────┴──────┴──────────┴────────────┴──────────────┴───────────┘\n"
     ]
    }
   ],
   "source": [
    "get_infos(df_calendrier)"
   ]
  },
  {
   "cell_type": "code",
   "execution_count": 144,
   "metadata": {},
   "outputs": [],
   "source": [
    "df_calendrier = (\n",
    "    df_calendrier.with_columns(\n",
    "        pl.col('annee_mois')\n",
    "        .map_elements(lambda x: date_serial_number(int(x)).strftime(\"%Y-%m\"), return_dtype=pl.Utf8)\n",
    "        .alias('annee_mois')\n",
    "    )\n",
    ")"
   ]
  },
  {
   "cell_type": "code",
   "execution_count": 145,
   "metadata": {},
   "outputs": [],
   "source": [
    "df_calendrier = (\n",
    "    df_calendrier.with_columns(\n",
    "        pl.col('date')\n",
    "        .map_elements(lambda x: date_serial_number(int(x)).strftime(\"%Y-%m-%d\"), return_dtype=pl.Utf8)\n",
    "        .alias('date')\n",
    "    )\n",
    ")"
   ]
  },
  {
   "cell_type": "code",
   "execution_count": 146,
   "metadata": {},
   "outputs": [
    {
     "data": {
      "text/html": [
       "<div><style>\n",
       ".dataframe > thead > tr,\n",
       ".dataframe > tbody > tr {\n",
       "  text-align: right;\n",
       "  white-space: pre-wrap;\n",
       "}\n",
       "</style>\n",
       "<small>shape: (1, 8)</small><table border=\"1\" class=\"dataframe\"><thead><tr><th>date</th><th>annee</th><th>mois</th><th>jour</th><th>mois_nom</th><th>annee_mois</th><th>jour_semaine</th><th>trimestre</th></tr><tr><td>u32</td><td>u32</td><td>u32</td><td>u32</td><td>u32</td><td>u32</td><td>u32</td><td>u32</td></tr></thead><tbody><tr><td>1999</td><td>6</td><td>12</td><td>31</td><td>12</td><td>66</td><td>7</td><td>4</td></tr></tbody></table></div>"
      ],
      "text/plain": [
       "shape: (1, 8)\n",
       "┌──────┬───────┬──────┬──────┬──────────┬────────────┬──────────────┬───────────┐\n",
       "│ date ┆ annee ┆ mois ┆ jour ┆ mois_nom ┆ annee_mois ┆ jour_semaine ┆ trimestre │\n",
       "│ ---  ┆ ---   ┆ ---  ┆ ---  ┆ ---      ┆ ---        ┆ ---          ┆ ---       │\n",
       "│ u32  ┆ u32   ┆ u32  ┆ u32  ┆ u32      ┆ u32        ┆ u32          ┆ u32       │\n",
       "╞══════╪═══════╪══════╪══════╪══════════╪════════════╪══════════════╪═══════════╡\n",
       "│ 1999 ┆ 6     ┆ 12   ┆ 31   ┆ 12       ┆ 66         ┆ 7            ┆ 4         │\n",
       "└──────┴───────┴──────┴──────┴──────────┴────────────┴──────────────┴───────────┘"
      ]
     },
     "execution_count": 146,
     "metadata": {},
     "output_type": "execute_result"
    }
   ],
   "source": [
    "df_calendrier.select([pl.col(column).n_unique() for column in df_calendrier.columns])"
   ]
  },
  {
   "cell_type": "code",
   "execution_count": 147,
   "metadata": {},
   "outputs": [],
   "source": [
    "df_calendrier = df_calendrier.with_columns(pl.col('jour').dt.day().alias('jour'))"
   ]
  },
  {
   "cell_type": "markdown",
   "metadata": {},
   "source": [
    "### 5. Table employe"
   ]
  },
  {
   "cell_type": "code",
   "execution_count": 153,
   "metadata": {},
   "outputs": [
    {
     "name": "stdout",
     "output_type": "stream",
     "text": [
      "Nombre de lignes : 56\n",
      "Nombre de colonnes : 7\n",
      "------\n",
      "Nombre de lignes en double : 0\n",
      "Pourcentage de valeurs manquantes : 0.00%\n",
      "-----\n",
      "shape: (5, 7)\n",
      "┌────────────────┬───────────┬───────────┬──────────┬────────────┬────────────────┬────────────────┐\n",
      "│ id_employe     ┆ employe   ┆ prenom    ┆ nom      ┆ date_debut ┆ hash_mdp       ┆ mail           │\n",
      "│ ---            ┆ ---       ┆ ---       ┆ ---      ┆ ---        ┆ ---            ┆ ---            │\n",
      "│ str            ┆ str       ┆ str       ┆ str      ┆ str        ┆ str            ┆ str            │\n",
      "╞════════════════╪═══════════╪═══════════╪══════════╪════════════╪════════════════╪════════════════╡\n",
      "│ 6fa61d0ecae0b5 ┆ lmaret    ┆ Laure     ┆ Maret    ┆ 2020-05-10 ┆ 0373c45921fbaa ┆ lmaret@supersm │\n",
      "│ 63fef18d36b203 ┆           ┆           ┆          ┆            ┆ 7530f34b39e71b ┆ artmarket.fr   │\n",
      "│ 9c…            ┆           ┆           ┆          ┆            ┆ a9…            ┆                │\n",
      "│ 37c6a856b2e142 ┆ cvérany   ┆ Christian ┆ Vérany   ┆ 2020-03-04 ┆ 3e7956190015a3 ┆ cvérany@supers │\n",
      "│ 17855d808fbc8e ┆           ┆           ┆          ┆            ┆ 01924fb6d74096 ┆ martmarket.fr  │\n",
      "│ 56…            ┆           ┆           ┆          ┆            ┆ 65…            ┆                │\n",
      "│ 4853b03deab973 ┆ sdeslys   ┆ Solène    ┆ Deslys   ┆ 2022-11-17 ┆ 45154756438492 ┆ sdeslys@supers │\n",
      "│ a1a8e466025bce ┆           ┆           ┆          ┆            ┆ cd025e3e000781 ┆ martmarket.fr  │\n",
      "│ 5b…            ┆           ┆           ┆          ┆            ┆ e2…            ┆                │\n",
      "│ e44eabec860498 ┆ acoquelin ┆ Amand     ┆ Coquelin ┆ 2021-07-03 ┆ d0575b3bf61100 ┆ acoquelin@supe │\n",
      "│ a79e675200bc8f ┆           ┆           ┆          ┆            ┆ 514cedb05d87a9 ┆ rsmartmarket.f │\n",
      "│ a4…            ┆           ┆           ┆          ┆            ┆ b6…            ┆ r              │\n",
      "│ fa836e3f5faf72 ┆ egrosjean ┆ Emmanuel  ┆ Grosjean ┆ 2023-09-23 ┆ 3a366362e4c001 ┆ egrosjean@supe │\n",
      "│ d24e0792353321 ┆           ┆           ┆          ┆            ┆ 6df16dbd2cfb6c ┆ rsmartmarket.f │\n",
      "│ 69…            ┆           ┆           ┆          ┆            ┆ 7e…            ┆ r              │\n",
      "└────────────────┴───────────┴───────────┴──────────┴────────────┴────────────────┴────────────────┘\n"
     ]
    }
   ],
   "source": [
    "get_infos(df_employe)"
   ]
  },
  {
   "cell_type": "code",
   "execution_count": 149,
   "metadata": {},
   "outputs": [
    {
     "data": {
      "text/html": [
       "<div><style>\n",
       ".dataframe > thead > tr,\n",
       ".dataframe > tbody > tr {\n",
       "  text-align: right;\n",
       "  white-space: pre-wrap;\n",
       "}\n",
       "</style>\n",
       "<small>shape: (1, 7)</small><table border=\"1\" class=\"dataframe\"><thead><tr><th>id_employe</th><th>employe</th><th>prenom</th><th>nom</th><th>date_debut</th><th>hash_mdp</th><th>mail</th></tr><tr><td>u32</td><td>u32</td><td>u32</td><td>u32</td><td>u32</td><td>u32</td><td>u32</td></tr></thead><tbody><tr><td>56</td><td>56</td><td>51</td><td>53</td><td>54</td><td>56</td><td>56</td></tr></tbody></table></div>"
      ],
      "text/plain": [
       "shape: (1, 7)\n",
       "┌────────────┬─────────┬────────┬─────┬────────────┬──────────┬──────┐\n",
       "│ id_employe ┆ employe ┆ prenom ┆ nom ┆ date_debut ┆ hash_mdp ┆ mail │\n",
       "│ ---        ┆ ---     ┆ ---    ┆ --- ┆ ---        ┆ ---      ┆ ---  │\n",
       "│ u32        ┆ u32     ┆ u32    ┆ u32 ┆ u32        ┆ u32      ┆ u32  │\n",
       "╞════════════╪═════════╪════════╪═════╪════════════╪══════════╪══════╡\n",
       "│ 56         ┆ 56      ┆ 51     ┆ 53  ┆ 54         ┆ 56       ┆ 56   │\n",
       "└────────────┴─────────┴────────┴─────┴────────────┴──────────┴──────┘"
      ]
     },
     "execution_count": 149,
     "metadata": {},
     "output_type": "execute_result"
    }
   ],
   "source": [
    "df_employe.select([pl.col(column).n_unique() for column in df_employe.columns])"
   ]
  },
  {
   "cell_type": "code",
   "execution_count": 150,
   "metadata": {},
   "outputs": [],
   "source": [
    "df_employe = (\n",
    "    df_employe.with_columns(\n",
    "        pl.col('date_debut')\n",
    "        .map_elements(lambda x: date_serial_number(int(x)).strftime(\"%Y-%m-%d\"), return_dtype=pl.Utf8)\n",
    "        .alias('date_debut')\n",
    "    )\n",
    ")"
   ]
  },
  {
   "cell_type": "code",
   "execution_count": 151,
   "metadata": {},
   "outputs": [
    {
     "name": "stdout",
     "output_type": "stream",
     "text": [
      "shape: (1, 7)\n",
      "┌────────────┬─────────┬────────┬─────┬────────────┬──────────┬──────┐\n",
      "│ id_employe ┆ employe ┆ prenom ┆ nom ┆ date_debut ┆ hash_mdp ┆ mail │\n",
      "│ ---        ┆ ---     ┆ ---    ┆ --- ┆ ---        ┆ ---      ┆ ---  │\n",
      "│ u32        ┆ u32     ┆ u32    ┆ u32 ┆ u32        ┆ u32      ┆ u32  │\n",
      "╞════════════╪═════════╪════════╪═════╪════════════╪══════════╪══════╡\n",
      "│ 0          ┆ 0       ┆ 0      ┆ 0   ┆ 0          ┆ 0        ┆ 0    │\n",
      "└────────────┴─────────┴────────┴─────┴────────────┴──────────┴──────┘\n"
     ]
    }
   ],
   "source": [
    "print(df_employe.null_count())"
   ]
  },
  {
   "cell_type": "code",
   "execution_count": 155,
   "metadata": {},
   "outputs": [],
   "source": [
    "df_vente.write_csv(\"./data/vente.csv\")\n",
    "df_prod.write_csv(\"./data/produit.csv\")\n",
    "df_client.write_csv(\"./data/client.csv\")\n",
    "df_calendrier.write_csv(\"./data/calendrier.csv\")\n",
    "df_employe.write_csv(\"./data/employe.csv\")"
   ]
  }
 ],
 "metadata": {
  "kernelspec": {
   "display_name": ".venv",
   "language": "python",
   "name": "python3"
  },
  "language_info": {
   "codemirror_mode": {
    "name": "ipython",
    "version": 3
   },
   "file_extension": ".py",
   "mimetype": "text/x-python",
   "name": "python",
   "nbconvert_exporter": "python",
   "pygments_lexer": "ipython3",
   "version": "3.10.12"
  }
 },
 "nbformat": 4,
 "nbformat_minor": 2
}
