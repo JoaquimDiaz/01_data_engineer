{
 "cells": [
  {
   "cell_type": "markdown",
   "metadata": {},
   "source": [
    "## Prototype de Transaction et de Triggers SuperSmartMarket"
   ]
  },
  {
   "cell_type": "markdown",
   "metadata": {},
   "source": [
    "* Recréation de la table vente à partir des logs\n",
    "  * Préparation des données\n",
    "  * Boucle sur les tickets pour insérer par \"paquet\"\n",
    "  * Utilisation de la procédure InsertVente créé sur la base prototype"
   ]
  },
  {
   "cell_type": "code",
   "execution_count": 209,
   "metadata": {},
   "outputs": [],
   "source": [
    "from dotenv import load_dotenv\n",
    "from sqlalchemy import create_engine, Table, MetaData, select, text\n",
    "from sqlalchemy.exc import SQLAlchemyError\n",
    "import os\n",
    "import pandas as pd\n",
    "import polars as pl"
   ]
  },
  {
   "cell_type": "code",
   "execution_count": 210,
   "metadata": {},
   "outputs": [],
   "source": [
    "df = pl.read_csv('./data/logs.csv')"
   ]
  },
  {
   "cell_type": "code",
   "execution_count": 211,
   "metadata": {},
   "outputs": [],
   "source": [
    "df_update_prix = df.filter(pl.col('champs') == 'prix')"
   ]
  },
  {
   "cell_type": "code",
   "execution_count": 212,
   "metadata": {},
   "outputs": [],
   "source": [
    "df_update = df.filter(\n",
    "    pl.col('action') == 'UPDATE',\n",
    "    pl.col('champs') != 'prix'\n",
    ")"
   ]
  },
  {
   "cell_type": "code",
   "execution_count": 213,
   "metadata": {},
   "outputs": [],
   "source": [
    "df_insert = df.filter(pl.col('action') == 'INSERT')"
   ]
  },
  {
   "cell_type": "code",
   "execution_count": 214,
   "metadata": {},
   "outputs": [
    {
     "data": {
      "text/html": [
       "<div><style>\n",
       ".dataframe > thead > tr,\n",
       ".dataframe > tbody > tr {\n",
       "  text-align: right;\n",
       "  white-space: pre-wrap;\n",
       "}\n",
       "</style>\n",
       "<small>shape: (9, 2)</small><table border=\"1\" class=\"dataframe\"><thead><tr><th>champs</th><th>count</th></tr><tr><td>str</td><td>u32</td></tr></thead><tbody><tr><td>&quot;CUSTUMER_ID&quot;</td><td>41377</td></tr><tr><td>&quot;EAN&quot;</td><td>41377</td></tr><tr><td>&quot;ID ticket&quot;</td><td>41377</td></tr><tr><td>&quot;Date&quot;</td><td>41377</td></tr><tr><td>&quot;id_employe&quot;</td><td>41377</td></tr><tr><td>&quot;prix&quot;</td><td>575</td></tr><tr><td>&quot;date_inscription&quot;</td><td>20</td></tr><tr><td>&quot;hash_mdp&quot;</td><td>7</td></tr><tr><td>null</td><td>2</td></tr></tbody></table></div>"
      ],
      "text/plain": [
       "shape: (9, 2)\n",
       "┌──────────────────┬───────┐\n",
       "│ champs           ┆ count │\n",
       "│ ---              ┆ ---   │\n",
       "│ str              ┆ u32   │\n",
       "╞══════════════════╪═══════╡\n",
       "│ CUSTUMER_ID      ┆ 41377 │\n",
       "│ EAN              ┆ 41377 │\n",
       "│ ID ticket        ┆ 41377 │\n",
       "│ Date             ┆ 41377 │\n",
       "│ id_employe       ┆ 41377 │\n",
       "│ prix             ┆ 575   │\n",
       "│ date_inscription ┆ 20    │\n",
       "│ hash_mdp         ┆ 7     │\n",
       "│ null             ┆ 2     │\n",
       "└──────────────────┴───────┘"
      ]
     },
     "execution_count": 214,
     "metadata": {},
     "output_type": "execute_result"
    }
   ],
   "source": [
    "(\n",
    "    df.group_by(\n",
    "        pl.col('champs')\n",
    "    )\n",
    "    .agg(pl.len().alias('count'))\n",
    "    .sort('count', descending=True)\n",
    ")"
   ]
  },
  {
   "cell_type": "code",
   "execution_count": 215,
   "metadata": {},
   "outputs": [],
   "source": [
    "df = (\n",
    "    df.filter(\n",
    "        (pl.col('action') == 'INSERT') &\n",
    "        (pl.col('table_insert') == 'Ventes')\n",
    "    )\n",
    "    .select(\n",
    "        pl.col(['id_ligne', 'champs', 'detail'])\n",
    "    )\n",
    "    .pivot(on='champs', index='id_ligne')\n",
    ")"
   ]
  },
  {
   "cell_type": "code",
   "execution_count": 216,
   "metadata": {},
   "outputs": [],
   "source": [
    "df = df.rename(mapping={'id_ligne':'id_bdd','CUSTUMER_ID':'customer_id','ID ticket':'id_ticket', 'Date':'date_achat', 'EAN':'ean'})"
   ]
  },
  {
   "cell_type": "code",
   "execution_count": 217,
   "metadata": {},
   "outputs": [],
   "source": [
    "# Création de la liste des tickets\n",
    "list_tickets = df.select(pl.col('id_ticket')).unique().to_series().to_list()"
   ]
  },
  {
   "cell_type": "code",
   "execution_count": 218,
   "metadata": {},
   "outputs": [],
   "source": [
    "df = df.with_columns(\n",
    "    pl.lit('2024-08-14').alias('date_achat')\n",
    ")"
   ]
  },
  {
   "cell_type": "code",
   "execution_count": 219,
   "metadata": {},
   "outputs": [
    {
     "name": "stdout",
     "output_type": "stream",
     "text": [
      "shape: (41_377, 6)\n",
      "┌───────────────────┬──────────────────┬──────────────────┬───────────────┬────────────┬───────────┐\n",
      "│ id_bdd            ┆ customer_id      ┆ id_employe       ┆ ean           ┆ date_achat ┆ id_ticket │\n",
      "│ ---               ┆ ---              ┆ ---              ┆ ---           ┆ ---        ┆ ---       │\n",
      "│ str               ┆ str              ┆ str              ┆ str           ┆ str        ┆ str       │\n",
      "╞═══════════════════╪══════════════════╪══════════════════╪═══════════════╪════════════╪═══════════╡\n",
      "│ 000MDBR8LMMFI8BWF ┆ CUST-F6TIGKY2H6W ┆ 4853b03deab973a1 ┆ 1987784879907 ┆ 2024-08-14 ┆ t_3839    │\n",
      "│ EYR4KEE8MYGUP…    ┆ R                ┆ a8e466025bce5b…  ┆               ┆            ┆           │\n",
      "│ 0031A86HBT87DS7FU ┆ CUST-B0T6XST4DGF ┆ afb0ad3a096ceea0 ┆ 6019185580672 ┆ 2024-08-14 ┆ t_4556    │\n",
      "│ 1QBUN36UD67WE…    ┆ E                ┆ 9662ee8692cd57…  ┆               ┆            ┆           │\n",
      "│ 003RNQDBFXN5XKH5H ┆ CUST-GHO8V34D1YB ┆ f6cd8ba3485769b3 ┆ 9806384309955 ┆ 2024-08-14 ┆ t_1888    │\n",
      "│ RES27UE70871U…    ┆ Z                ┆ ad9bab5b772585…  ┆               ┆            ┆           │\n",
      "│ 004YV4B4FHMRS7VF8 ┆ CUST-NLOFRX69FH3 ┆ ccebbeb4d1c9ccf5 ┆ 1022982025891 ┆ 2024-08-14 ┆ t_1413    │\n",
      "│ UXV8WFOU7LRW0…    ┆ L                ┆ 93c4308cef1102…  ┆               ┆            ┆           │\n",
      "│ 005THF0N473QYI1ZZ ┆ CUST-I748P44RCYV ┆ a7e6deb00de876ca ┆ 4437730768777 ┆ 2024-08-14 ┆ t_2169    │\n",
      "│ QG3PZ8G3135L7…    ┆ 2                ┆ fcf64809cd659d…  ┆               ┆            ┆           │\n",
      "│ …                 ┆ …                ┆ …                ┆ …             ┆ …          ┆ …         │\n",
      "│ ZN3CNG47EEX6BEVS2 ┆ CUST-E8TD28P09PO ┆ 578b434839380108 ┆ 3243967689204 ┆ 2024-08-14 ┆ t_2723    │\n",
      "│ V5HPXRVVP8M76…    ┆ L                ┆ 03dcdf457753d9…  ┆               ┆            ┆           │\n",
      "│ ZUV66HD6XUO0U7EDS ┆ CUST-SBU0W4VJCK0 ┆ e44eabec860498a7 ┆ 9883054148816 ┆ 2024-08-14 ┆ t_2375    │\n",
      "│ 3B6P3GDO72LQP…    ┆ W                ┆ 9e675200bc8fa4…  ┆               ┆            ┆           │\n",
      "│ ZW0KMLQUC46P2HPUK ┆ CUST-07GXQW1A5AT ┆ c4f0909120cfde70 ┆ 5017203436768 ┆ 2024-08-14 ┆ t_523     │\n",
      "│ 0J9BTLD0BW9NC…    ┆ U                ┆ 86a3c1a56e96a0…  ┆               ┆            ┆           │\n",
      "│ ZWO17W93AH98OZTDL ┆ CUST-9WTYBZ97H9I ┆ b5a8777821fdab1a ┆ 8503338420171 ┆ 2024-08-14 ┆ t_1855    │\n",
      "│ UBU9ALJAD2WBP…    ┆ L                ┆ 20a4bc0e5f98df…  ┆               ┆            ┆           │\n",
      "│ ZY25L294165VSUG1H ┆ CUST-RRTKM7KAJIM ┆ 37c6a856b2e14217 ┆ 3195185179522 ┆ 2024-08-14 ┆ t_300     │\n",
      "│ 6WFSA2I2F3BBZ…    ┆ 8                ┆ 855d808fbc8e56…  ┆               ┆            ┆           │\n",
      "└───────────────────┴──────────────────┴──────────────────┴───────────────┴────────────┴───────────┘\n"
     ]
    }
   ],
   "source": [
    "print(df)"
   ]
  },
  {
   "cell_type": "markdown",
   "metadata": {},
   "source": [
    "_______"
   ]
  },
  {
   "cell_type": "markdown",
   "metadata": {},
   "source": [
    "## Connection à la BDD et insertion"
   ]
  },
  {
   "cell_type": "code",
   "execution_count": 220,
   "metadata": {},
   "outputs": [],
   "source": [
    "# Chargement des variables d'environnement et connexion à la BDD\n",
    "\n",
    "load_dotenv()\n",
    "\n",
    "# Configurer les informations à partir de .env\n",
    "DB_SERVER = os.getenv('DB_SERVER')\n",
    "DB_NAME = os.getenv('DB_NAME')\n",
    "DB_USERNAME = os.getenv('DB_USERNAME')\n",
    "DB_PASSWORD = os.getenv('DB_PASSWORD')\n",
    "\n",
    "DRIVER ='mysql+pymysql'\n",
    "\n",
    "connection_string = f\"{DRIVER}://{DB_USERNAME}:{DB_PASSWORD}@{DB_SERVER}/{DB_NAME}\"\n",
    "\n",
    "engine = create_engine(connection_string)"
   ]
  },
  {
   "cell_type": "code",
   "execution_count": 221,
   "metadata": {},
   "outputs": [],
   "source": [
    "# Passage de polars à pandas pour l'insertion via sqlalchemy\n",
    "df = df.to_pandas()"
   ]
  },
  {
   "cell_type": "code",
   "execution_count": 222,
   "metadata": {},
   "outputs": [],
   "source": [
    "with engine.connect() as conn: # Gestionnaire de contexte sqlalchemy\n",
    "    \n",
    "    # Création d'une boucle sur les tickets pour insérer les données en paquet dans une transaction\n",
    "    for ticket in list_tickets:\n",
    "        \n",
    "        try:\n",
    "            # Isolation des données pour le ticket en cours dans la boucle        \n",
    "            df_transac = df[df[\"id_ticket\"] == ticket]\n",
    "\n",
    "            # Préparation des valeurs à insérer\n",
    "            values = \", \".join([\n",
    "                f\"('{row['id_bdd']}', '{row['customer_id']}', '{row['id_employe']}', '{row['ean']}', '{row['date_achat']}', '{row['id_ticket']}')\"\n",
    "                for _, row in df_transac.iterrows()\n",
    "            ])\n",
    "\n",
    "            # Insertion des valeurs pour le ticket\n",
    "            conn.execute(\n",
    "                text(\"CALL InsertVente(:ticket_id, :vente_values)\"),\n",
    "                {\n",
    "                    \"ticket_id\": ticket, \n",
    "                    \"vente_values\": values\n",
    "                }\n",
    "            )\n",
    "            \n",
    "            \n",
    "        except SQLAlchemyError as e:\n",
    "            pass\n",
    "            # On ignore les erreurs de sqlalchemy pour continuer à insérer les données pour les autres tickets\n",
    "        "
   ]
  },
  {
   "cell_type": "code",
   "execution_count": 223,
   "metadata": {},
   "outputs": [
    {
     "name": "stdout",
     "output_type": "stream",
     "text": [
      "SQLAlchemy Error: (pymysql.err.IntegrityError) (1062, \"Duplicate entry 't_2828-2024-12-12 16:13:33' for key 'transaction_log.PRIMARY'\")\n",
      "[SQL: CALL InsertVente(%(ticket_id)s, %(vente_values)s)]\n",
      "[parameters: {'ticket_id': 't_2828', 'vente_values': \"\\n('0EKV6VK8PCBWUEH2OGM10APVCJ5WHVTW6DD', 'CUST-21XPJKDCSBFY', 'f21c1650dd9340170266d47ec34eb6e8', '8998736834828', '2024-08-14', 't_2828'),\\n('0EKV6VK8PCBWUEH2OGM10APVCJ5WHVTW6XX', 'CUST-21XPJKDCSBFY', 'f21c1650dd9340170266d47ec34eb6e8', '8998736834828', '2024-08-14', 't_2828')\\n\"}]\n",
      "(Background on this error at: https://sqlalche.me/e/20/gkpj)\n"
     ]
    }
   ],
   "source": [
    "# Génération d'une erreur pour tester le logging\n",
    "## On insère des valeurs déjà présentent dans la BDD\n",
    "values = \"\"\"\n",
    "('0EKV6VK8PCBWUEH2OGM10APVCJ5WHVTW6DD', 'CUST-21XPJKDCSBFY', 'f21c1650dd9340170266d47ec34eb6e8', '8998736834828', '2024-08-14', 't_2828'),\n",
    "('0EKV6VK8PCBWUEH2OGM10APVCJ5WHVTW6XX', 'CUST-21XPJKDCSBFY', 'f21c1650dd9340170266d47ec34eb6e8', '8998736834828', '2024-08-14', 't_2828')\n",
    "\"\"\"\n",
    "\n",
    "ticket = \"t_2828\"\n",
    "\n",
    "# Execute the procedure\n",
    "try :\n",
    "    with engine.connect() as conn:\n",
    "        conn.execute(\n",
    "            text(\"CALL InsertVente(:ticket_id, :vente_values)\"),\n",
    "            {\"ticket_id\": ticket, \"vente_values\": values}\n",
    "        )\n",
    "except SQLAlchemyError as e:\n",
    "\n",
    "    print(f\"SQLAlchemy Error: {str(e)}\")"
   ]
  },
  {
   "cell_type": "code",
   "execution_count": 224,
   "metadata": {},
   "outputs": [
    {
     "name": "stdout",
     "output_type": "stream",
     "text": [
      "Price updated successfully.\n"
     ]
    }
   ],
   "source": [
    "# Réalisation d'un UPDATE du prix d'un des produits\n",
    "\n",
    "try:\n",
    "    with engine.connect() as conn:\n",
    "        \n",
    "        query = text(\"\"\"\n",
    "        UPDATE produit\n",
    "        SET prix = 2.50\n",
    "        WHERE ean = '8855635668141';\n",
    "        \"\"\")\n",
    "        \n",
    "        result = conn.execute(query)\n",
    "        conn.commit()\n",
    "        print(\"Price updated successfully.\")\n",
    "        \n",
    "except Exception as e:\n",
    "    print(f\"An error occurred: {e}\")\n",
    "    "
   ]
  },
  {
   "cell_type": "code",
   "execution_count": 225,
   "metadata": {},
   "outputs": [
    {
     "name": "stdout",
     "output_type": "stream",
     "text": [
      "An error occurred: (pymysql.err.DataError) (1366, \"Incorrect decimal value: '2024-08-15' for column 'prix' at row 1\")\n",
      "[SQL: \n",
      "        UPDATE produit\n",
      "        SET prix = '2024-08-15'\n",
      "        WHERE ean = '8855635668141';\n",
      "        ]\n",
      "(Background on this error at: https://sqlalche.me/e/20/9h9h)\n"
     ]
    }
   ],
   "source": [
    "# Réalisation d'une erreur d'UPDATE du prix d'un des produits\n",
    "\n",
    "try:\n",
    "    with engine.connect() as conn:\n",
    "        \n",
    "        query = text(\"\"\"\n",
    "        UPDATE produit\n",
    "        SET prix = '2024-08-15'\n",
    "        WHERE ean = '8855635668141';\n",
    "        \"\"\")\n",
    "        \n",
    "        result = conn.execute(query)\n",
    "        conn.commit()\n",
    "        print(\"Price updated successfully.\")\n",
    "        \n",
    "except Exception as e:\n",
    "    print(f\"An error occurred: {e}\")"
   ]
  }
 ],
 "metadata": {
  "kernelspec": {
   "display_name": ".venv",
   "language": "python",
   "name": "python3"
  },
  "language_info": {
   "codemirror_mode": {
    "name": "ipython",
    "version": 3
   },
   "file_extension": ".py",
   "mimetype": "text/x-python",
   "name": "python",
   "nbconvert_exporter": "python",
   "pygments_lexer": "ipython3",
   "version": "3.10.12"
  }
 },
 "nbformat": 4,
 "nbformat_minor": 2
}
